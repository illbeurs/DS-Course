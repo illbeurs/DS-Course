{
  "cells": [
    {
      "cell_type": "markdown",
      "metadata": {
        "id": "Q96m0qpQSWym"
      },
      "source": [
        "# Классификация текстов"
      ]
    },
    {
      "cell_type": "markdown",
      "metadata": {
        "id": "XQtlBTHqSWyr"
      },
      "source": [
        "Построим модель классификации текстов, для этого будем использовать набор данных **«The 20 Newsgroups»** — это коллекция примерно из 20000 новостных документов, разделенная (приблизительно) равномерно между 20 различными категориями."
      ]
    },
    {
      "cell_type": "code",
      "execution_count": null,
      "metadata": {
        "id": "ei_7Ik5uSWyu",
        "outputId": "8154b1db-951d-4859-f6dc-4cf51be234e7"
      },
      "outputs": [
        {
          "name": "stdout",
          "output_type": "stream",
          "text": [
            "WARN: OMP_NUM_THREADS=None =>\n",
            "... If you are using openblas if you are using openblas set OMP_NUM_THREADS=1 or risk subprocess calls hanging indefinitely\n"
          ]
        }
      ],
      "source": [
        "%matplotlib inline\n",
        "\n",
        "import warnings\n",
        "warnings.filterwarnings('ignore')\n",
        "warnings.filterwarnings('ignore', category=DeprecationWarning)\n",
        "\n",
        "import pandas as pd\n",
        "pd.options.display.max_columns = 200\n",
        "\n",
        "from matplotlib import pyplot as plt\n",
        "import numpy as np\n",
        "\n",
        "import seaborn as sns\n",
        "\n",
        "import pylab as plot\n",
        "params = {\n",
        "    'axes.labelsize': \"large\",\n",
        "    'xtick.labelsize': 'x-large',\n",
        "    'legend.fontsize': 20,\n",
        "    'figure.dpi': 150,\n",
        "    'figure.figsize': [25, 7]\n",
        "}\n",
        "plot.rcParams.update(params)\n",
        "from sklearn.ensemble import RandomForestClassifier\n",
        "from sklearn.model_selection import GridSearchCV\n",
        "from sklearn.metrics import r2_score, roc_auc_score\n",
        "from sklearn.model_selection import cross_val_score\n",
        "from sklearn.model_selection import KFold\n",
        "from xgboost import XGBClassifier\n",
        "from sklearn.ensemble import GradientBoostingClassifier\n",
        "from catboost import CatBoostClassifier, Pool\n",
        "from sklearn.svm import SVC as svc\n",
        "import lightgbm as lgb\n",
        "from sklearn.decomposition import PCA\n",
        "from sklearn.feature_selection import SelectKBest\n",
        "from sklearn.pipeline import FeatureUnion\n",
        "from lightgbm import LGBMClassifier\n",
        "import random\n",
        "#log_loss\n",
        "from sklearn.metrics import log_loss\n",
        "#hyperopt\n",
        "from hyperopt import hp, fmin, tpe, Trials, STATUS_OK\n",
        "from hpsklearn import HyperoptEstimator, any_classifier\n",
        "from hyperopt.fmin import fmin\n",
        "from hyperopt import space_eval"
      ]
    },
    {
      "cell_type": "code",
      "execution_count": null,
      "metadata": {
        "id": "paIIjzeISWy0"
      },
      "outputs": [],
      "source": [
        "import nltk"
      ]
    },
    {
      "cell_type": "code",
      "execution_count": null,
      "metadata": {
        "id": "3GzFfPSVSWy1",
        "outputId": "7107ae61-9514-472c-80e1-920b34ec1a88"
      },
      "outputs": [
        {
          "name": "stderr",
          "output_type": "stream",
          "text": [
            "[nltk_data] Downloading package wordnet to\n",
            "[nltk_data]     C:\\Users\\mrcho\\AppData\\Roaming\\nltk_data...\n",
            "[nltk_data]   Unzipping corpora\\wordnet.zip.\n"
          ]
        },
        {
          "data": {
            "text/plain": [
              "True"
            ]
          },
          "execution_count": 4,
          "metadata": {},
          "output_type": "execute_result"
        }
      ],
      "source": [
        "nltk.download('wordnet')"
      ]
    },
    {
      "cell_type": "code",
      "execution_count": null,
      "metadata": {
        "id": "14a_7hadSWy2",
        "outputId": "2673a67c-e652-47ab-ac76-8fee141470bb"
      },
      "outputs": [
        {
          "name": "stderr",
          "output_type": "stream",
          "text": [
            "[nltk_data] Downloading package stopwords to\n",
            "[nltk_data]     C:\\Users\\mrcho\\AppData\\Roaming\\nltk_data...\n",
            "[nltk_data]   Unzipping corpora\\stopwords.zip.\n"
          ]
        }
      ],
      "source": [
        "import matplotlib.pyplot as plt\n",
        "import numpy as np\n",
        "import re\n",
        "import nltk\n",
        "from sklearn.datasets import load_files\n",
        "nltk.download('stopwords')\n",
        "import pickle\n",
        "from nltk.corpus import stopwords"
      ]
    },
    {
      "cell_type": "markdown",
      "metadata": {
        "id": "C08GTtH4SWy3"
      },
      "source": [
        "### Загрузка данных"
      ]
    },
    {
      "cell_type": "code",
      "execution_count": null,
      "metadata": {
        "id": "-6-laB_hSWy4"
      },
      "outputs": [],
      "source": [
        "import warnings\n",
        "warnings.filterwarnings('ignore')\n",
        "\n",
        "from sklearn.datasets import fetch_20newsgroups"
      ]
    },
    {
      "cell_type": "markdown",
      "metadata": {
        "id": "IX49gUm_SWy4"
      },
      "source": [
        "Возвращаемый набор данных — это `scikit-learn совокупность`: одномерный контейнер с полями, которые могут интерпретироваться как ключи в словаре python (dict keys), проще говоря — как признаки объекта (object attributes). Например, `target_names` содержит список названий запрошенных категорий, разбитых (более или менее) по тематике:"
      ]
    },
    {
      "cell_type": "markdown",
      "metadata": {
        "id": "I3W67hZYSWy5"
      },
      "source": [
        "![image.png](attachment:image.png)"
      ]
    },
    {
      "cell_type": "markdown",
      "metadata": {
        "id": "DHLw7XvDSWy5"
      },
      "source": [
        "Будем использовать для моделирования 4 категории:\n",
        "\n",
        "    'sci.crypt', 'sci.electronics', 'sci.med', 'sci.space'"
      ]
    },
    {
      "cell_type": "code",
      "execution_count": null,
      "metadata": {
        "id": "2DzbpcdMSWy6"
      },
      "outputs": [],
      "source": [
        "categories = ['sci.crypt', 'sci.electronics', 'sci.med', 'sci.space']\n",
        "\n",
        "train = fetch_20newsgroups(subset='train',\n",
        "                           categories=categories,\n",
        "                           shuffle=True, random_state=42)\n",
        "\n",
        "test = fetch_20newsgroups(subset='test',\n",
        "                          categories=categories,\n",
        "                          shuffle=True, random_state=42)"
      ]
    },
    {
      "cell_type": "code",
      "execution_count": null,
      "metadata": {
        "id": "m-9IyeXvSWy7",
        "outputId": "fad64892-31d6-4e58-9664-20caa7fdbd6c"
      },
      "outputs": [
        {
          "data": {
            "text/plain": [
              "['sci.crypt', 'sci.electronics', 'sci.med', 'sci.space']"
            ]
          },
          "execution_count": 8,
          "metadata": {},
          "output_type": "execute_result"
        }
      ],
      "source": [
        "train.target_names"
      ]
    },
    {
      "cell_type": "markdown",
      "metadata": {
        "id": "KpwZ037sSWy8"
      },
      "source": [
        "Сами файлы загружаются в память как атрибут data:"
      ]
    },
    {
      "cell_type": "code",
      "execution_count": null,
      "metadata": {
        "id": "YaBR77ARSWy8",
        "outputId": "724f82df-80a8-4daa-bcfb-4f868ef82e1a"
      },
      "outputs": [
        {
          "name": "stdout",
          "output_type": "stream",
          "text": [
            "2373\n",
            "1579\n"
          ]
        }
      ],
      "source": [
        "print(len(train.data))\n",
        "print(len(test.data))"
      ]
    },
    {
      "cell_type": "markdown",
      "metadata": {
        "id": "9A3RoNzwSWy9"
      },
      "source": [
        "Посмотрим на пример самих данных:"
      ]
    },
    {
      "cell_type": "code",
      "execution_count": null,
      "metadata": {
        "id": "txuUr8dVSWy9",
        "outputId": "9f9105ca-6c61-4ceb-e4fd-3952c33a8e09"
      },
      "outputs": [
        {
          "name": "stdout",
          "output_type": "stream",
          "text": [
            "From: turpin@cs.utexas.edu (Russell Turpin)\n",
            "Subject: Re: Great Post! (was Re: Candida (yeast) Bloom...) (VERY LONG)\n",
            "Summary: How virtually?\n",
            "Organization: CS Dept, University of Texas at Austin\n",
            "Lines: 30\n",
            "NNTP-Posting-Host: im4u.cs.utexas.edu\n",
            "\n",
            "-*-----\n",
            "In article <noringC5wzM4.41n@netcom.com> noring@netcom.com (Jon Noring) writes:\n",
            ">> ... if you can't observe or culture the yeast \"bloom\" in the\n",
            ">> gut or sinus, then there's no way to diagnose or even recognize\n",
            ">> the disease.  And I know they realize that it is virtually\n",
            ">> impossible to test for candida overbloom in any part of the body \n",
            ">> that cannot be easily observed since candida is everywhere in \n",
            ">> the body.\n",
            "\n",
            "In article <C5y5nM.Axv@toads.pgh.pa.us> geb@cs.pitt.edu (Gordon Banks) writes:\n",
            "> You've just discovered one of the requirements for a good quack theory.\n",
            "> Find something that no one can *disprove* and then write a book saying\n",
            "> it is the cause of whatever.  Since no one can disprove it, you can\n",
            "> rake in the bucks for quite some time.  \n",
            "\n",
            "I hope Gordon Banks did not mean to imply that notions such as\n",
            "hard-to-see candida infections causing various problems should not\n",
            "be investigated.  Many researchers have made breakthroughs by \n",
            "figuring out how to investigate things that were previously thought\n",
            "\"virtually impossible to test for.\"\n",
            "\n",
            "Indeed, I would be surprised if \"candida overbloom\" were such a\n",
            "phenomena.  I would think that candida would produce signature\n",
            "byproducts whose measure would then set a lower bound on the \n",
            "extent of recent infection.  I realize this might get quite \n",
            "tricky and difficult, probably expensive, and likely inconvenient\n",
            "or uncomfortable to the subjects, but that is not the same as \n",
            "\"virtually impossible.\"\n",
            "\n",
            "Russell\n",
            "\n"
          ]
        }
      ],
      "source": [
        "print(train.data[10])"
      ]
    },
    {
      "cell_type": "markdown",
      "metadata": {
        "id": "2U4n5S1LSWy9"
      },
      "source": [
        "Индекс категории каждой выборки хранится в атрибуте `target`:"
      ]
    },
    {
      "cell_type": "code",
      "execution_count": null,
      "metadata": {
        "id": "H9hyrtEZSWy-",
        "outputId": "02ac0b8c-0091-4770-e8b3-d39b4aa7226e"
      },
      "outputs": [
        {
          "name": "stdout",
          "output_type": "stream",
          "text": [
            "2\n",
            "sci.med\n"
          ]
        }
      ],
      "source": [
        "print(train.target[10])\n",
        "print(categories[train.target[10]])"
      ]
    },
    {
      "cell_type": "code",
      "execution_count": null,
      "metadata": {
        "id": "h6DyCgbISWy_",
        "outputId": "4fb784a4-1e12-46e3-99d1-96ebd68f0d70"
      },
      "outputs": [
        {
          "data": {
            "text/plain": [
              "Text(0.5, 1.0, 'Распределение меток в обучающей выборке')"
            ]
          },
          "execution_count": 12,
          "metadata": {},
          "output_type": "execute_result"
        },
        {
          "data": {
            "image/png": "[encoded data removed]",
            "text/plain": [
              "<Figure size 3750x1050 with 1 Axes>"
            ]
          },
          "metadata": {
            "needs_background": "light"
          },
          "output_type": "display_data"
        }
      ],
      "source": [
        "plt.hist(train['target'])\n",
        "plt.title('Распределение меток в обучающей выборке')"
      ]
    },
    {
      "cell_type": "code",
      "execution_count": null,
      "metadata": {
        "id": "fKP3N0PYSWy_",
        "outputId": "f55e61a3-ebfc-4bad-8083-21c022d83eda"
      },
      "outputs": [
        {
          "data": {
            "text/plain": [
              "Text(0.5, 1.0, 'Распределение меток в тестовой выборке')"
            ]
          },
          "execution_count": 13,
          "metadata": {},
          "output_type": "execute_result"
        },
        {
          "data": {
            "image/png": "[encoded data removed]",
            "text/plain": [
              "<Figure size 3750x1050 with 1 Axes>"
            ]
          },
          "metadata": {
            "needs_background": "light"
          },
          "output_type": "display_data"
        }
      ],
      "source": [
        "plt.hist(test['target'])\n",
        "plt.title('Распределение меток в тестовой выборке')"
      ]
    },
    {
      "cell_type": "markdown",
      "metadata": {
        "id": "A6X3ZT9PSWzA"
      },
      "source": [
        "### Предобработка данных"
      ]
    },
    {
      "cell_type": "markdown",
      "metadata": {
        "id": "aUZEpV1jSWzA"
      },
      "source": [
        "Проверим на наличие не пустых текстов и посмотрим на распределение в зависимости от длины текста:"
      ]
    },
    {
      "cell_type": "code",
      "execution_count": null,
      "metadata": {
        "id": "52VIyGQMSWzA",
        "outputId": "2e26afa5-7a20-45f7-e399-b4fa17247b4a"
      },
      "outputs": [
        {
          "name": "stdout",
          "output_type": "stream",
          "text": [
            "166 72637\n"
          ]
        }
      ],
      "source": [
        "len_symb = [len(i) for i in train.data]\n",
        "print(min(len_symb), max(len_symb))"
      ]
    },
    {
      "cell_type": "code",
      "execution_count": null,
      "metadata": {
        "id": "u_iC-kRaSWzA",
        "outputId": "66c7b2f6-fb98-4dad-e142-b24e920a4983"
      },
      "outputs": [
        {
          "data": {
            "text/plain": [
              "(array([2., 4., 6., ..., 0., 0., 1.]),\n",
              " array([  166.        ,   196.53982301,   227.07964602, ...,\n",
              "        72575.92035398, 72606.46017699, 72637.        ]),\n",
              " <BarContainer object of 2373 artists>)"
            ]
          },
          "execution_count": 15,
          "metadata": {},
          "output_type": "execute_result"
        },
        {
          "data": {
            "image/png": "[encoded data removed]",
            "text/plain": [
              "<Figure size 3750x1050 with 1 Axes>"
            ]
          },
          "metadata": {
            "needs_background": "light"
          },
          "output_type": "display_data"
        }
      ],
      "source": [
        "n_bins = len(len_symb)\n",
        "plt.hist(len_symb, bins=n_bins)"
      ]
    },
    {
      "cell_type": "markdown",
      "metadata": {
        "id": "jkSf7hXiSWzB"
      },
      "source": [
        "Создадим общую функцию для предобработки:"
      ]
    },
    {
      "cell_type": "markdown",
      "metadata": {
        "id": "OTCNaX57SWzB"
      },
      "source": [
        "Используем Regex Expressions из библиотеки Python re для выполнения различных задач предварительной обработки. Мы начинаем с удаления всех символов, отличных от слов, таких как специальные символы, числа и т. Д.\n",
        "\n",
        "Далее мы удаляем все одиночные символы. Например, когда мы удаляем знак препинания из «David's» и заменяем его пробелом, мы получаем «David» и один символ «s», который не имеет значения. Чтобы удалить такие одиночные символы, мы используем регулярное выражение `\\ s + [a-zA-Z] \\ s +`, которое заменяет все одиночные символы, имеющие пробелы с обеих сторон, на единичный пробел.\n",
        "\n",
        "Затем мы используем регулярное выражение `\\ ^ [a-zA-Z] \\ s +` для замены одного символа из начала документа одним пробелом. Замена отдельных символов одним пробелом может привести к появлению нескольких пробелов, что не идеально.\n",
        "\n",
        "Мы снова используем регулярное выражение `\\ s +`, чтобы заменить одно или несколько пробелов одним пробелом. Следующим шагом является преобразование данных в нижний регистр, чтобы слова, которые на самом деле являются одинаковыми, но имеют разные регистры, можно было обрабатывать одинаково.\n",
        "\n",
        "Следущий шаг предварительной обработки - `лемматизация`. При лемматизации мы сводим слово к словарной корневой форме. Например, «кошка» превращаются в «кот». Лемматизация выполняется, чтобы избежать создания функций, которые семантически похожи, но синтаксически отличаются. Например, нам не нужны две разные функции с именами «коты» и «кот», которые семантически похожи, поэтому мы выполняем лемматизацию.\n",
        "\n",
        "Заключительный шаг - удаление стоп-слов, которые, поскольку стоп-слова могут не содержать никакой полезной информации. Чтобы удалить стоп-слова, мы подгружаем объект стоп-слов из библиотеки `nltk.corpus`"
      ]
    },
    {
      "cell_type": "code",
      "execution_count": null,
      "metadata": {
        "id": "nOoO0WZFSWzB",
        "outputId": "b365517e-1c6b-4c1b-8bd7-95b9685b8263"
      },
      "outputs": [
        {
          "name": "stderr",
          "output_type": "stream",
          "text": [
            "[nltk_data] Downloading package wordnet to\n",
            "[nltk_data]     C:\\Users\\mrcho\\AppData\\Roaming\\nltk_data...\n",
            "[nltk_data]   Package wordnet is already up-to-date!\n"
          ]
        }
      ],
      "source": [
        "nltk.download('wordnet')\n",
        "from nltk.stem import WordNetLemmatizer\n",
        "stemmer = WordNetLemmatizer()\n",
        "en_stops = set(stopwords.words('english'))"
      ]
    },
    {
      "cell_type": "code",
      "execution_count": null,
      "metadata": {
        "id": "jvFCqxs5SWzC",
        "outputId": "2bc4b953-a637-40bc-c43e-74f4528489fe"
      },
      "outputs": [
        {
          "data": {
            "text/plain": [
              "'cat'"
            ]
          },
          "execution_count": 17,
          "metadata": {},
          "output_type": "execute_result"
        }
      ],
      "source": [
        "# пример лемматизации\n",
        "stemmer.lemmatize('cats')"
      ]
    },
    {
      "cell_type": "code",
      "execution_count": null,
      "metadata": {
        "id": "_d9MGiEjSWzC",
        "outputId": "fd479e55-50e3-4bc4-aae8-0c3421c0168e"
      },
      "outputs": [
        {
          "data": {
            "text/plain": [
              "{'a',\n",
              " 'about',\n",
              " 'above',\n",
              " 'after',\n",
              " 'again',\n",
              " 'against',\n",
              " 'ain',\n",
              " 'all',\n",
              " 'am',\n",
              " 'an',\n",
              " 'and',\n",
              " 'any',\n",
              " 'are',\n",
              " 'aren',\n",
              " \"aren't\",\n",
              " 'as',\n",
              " 'at',\n",
              " 'be',\n",
              " 'because',\n",
              " 'been',\n",
              " 'before',\n",
              " 'being',\n",
              " 'below',\n",
              " 'between',\n",
              " 'both',\n",
              " 'but',\n",
              " 'by',\n",
              " 'can',\n",
              " 'couldn',\n",
              " \"couldn't\",\n",
              " 'd',\n",
              " 'did',\n",
              " 'didn',\n",
              " \"didn't\",\n",
              " 'do',\n",
              " 'does',\n",
              " 'doesn',\n",
              " \"doesn't\",\n",
              " 'doing',\n",
              " 'don',\n",
              " \"don't\",\n",
              " 'down',\n",
              " 'during',\n",
              " 'each',\n",
              " 'few',\n",
              " 'for',\n",
              " 'from',\n",
              " 'further',\n",
              " 'had',\n",
              " 'hadn',\n",
              " \"hadn't\",\n",
              " 'has',\n",
              " 'hasn',\n",
              " \"hasn't\",\n",
              " 'have',\n",
              " 'haven',\n",
              " \"haven't\",\n",
              " 'having',\n",
              " 'he',\n",
              " 'her',\n",
              " 'here',\n",
              " 'hers',\n",
              " 'herself',\n",
              " 'him',\n",
              " 'himself',\n",
              " 'his',\n",
              " 'how',\n",
              " 'i',\n",
              " 'if',\n",
              " 'in',\n",
              " 'into',\n",
              " 'is',\n",
              " 'isn',\n",
              " \"isn't\",\n",
              " 'it',\n",
              " \"it's\",\n",
              " 'its',\n",
              " 'itself',\n",
              " 'just',\n",
              " 'll',\n",
              " 'm',\n",
              " 'ma',\n",
              " 'me',\n",
              " 'mightn',\n",
              " \"mightn't\",\n",
              " 'more',\n",
              " 'most',\n",
              " 'mustn',\n",
              " \"mustn't\",\n",
              " 'my',\n",
              " 'myself',\n",
              " 'needn',\n",
              " \"needn't\",\n",
              " 'no',\n",
              " 'nor',\n",
              " 'not',\n",
              " 'now',\n",
              " 'o',\n",
              " 'of',\n",
              " 'off',\n",
              " 'on',\n",
              " 'once',\n",
              " 'only',\n",
              " 'or',\n",
              " 'other',\n",
              " 'our',\n",
              " 'ours',\n",
              " 'ourselves',\n",
              " 'out',\n",
              " 'over',\n",
              " 'own',\n",
              " 're',\n",
              " 's',\n",
              " 'same',\n",
              " 'shan',\n",
              " \"shan't\",\n",
              " 'she',\n",
              " \"she's\",\n",
              " 'should',\n",
              " \"should've\",\n",
              " 'shouldn',\n",
              " \"shouldn't\",\n",
              " 'so',\n",
              " 'some',\n",
              " 'such',\n",
              " 't',\n",
              " 'than',\n",
              " 'that',\n",
              " \"that'll\",\n",
              " 'the',\n",
              " 'their',\n",
              " 'theirs',\n",
              " 'them',\n",
              " 'themselves',\n",
              " 'then',\n",
              " 'there',\n",
              " 'these',\n",
              " 'they',\n",
              " 'this',\n",
              " 'those',\n",
              " 'through',\n",
              " 'to',\n",
              " 'too',\n",
              " 'under',\n",
              " 'until',\n",
              " 'up',\n",
              " 've',\n",
              " 'very',\n",
              " 'was',\n",
              " 'wasn',\n",
              " \"wasn't\",\n",
              " 'we',\n",
              " 'were',\n",
              " 'weren',\n",
              " \"weren't\",\n",
              " 'what',\n",
              " 'when',\n",
              " 'where',\n",
              " 'which',\n",
              " 'while',\n",
              " 'who',\n",
              " 'whom',\n",
              " 'why',\n",
              " 'will',\n",
              " 'with',\n",
              " 'won',\n",
              " \"won't\",\n",
              " 'wouldn',\n",
              " \"wouldn't\",\n",
              " 'y',\n",
              " 'you',\n",
              " \"you'd\",\n",
              " \"you'll\",\n",
              " \"you're\",\n",
              " \"you've\",\n",
              " 'your',\n",
              " 'yours',\n",
              " 'yourself',\n",
              " 'yourselves'}"
            ]
          },
          "execution_count": 18,
          "metadata": {},
          "output_type": "execute_result"
        }
      ],
      "source": [
        "# стоп-слова\n",
        "en_stops"
      ]
    },
    {
      "cell_type": "code",
      "execution_count": null,
      "metadata": {
        "id": "Rxg75KyqSWzC"
      },
      "outputs": [],
      "source": [
        "def clean_txt(text):\n",
        "    # удаляем спец символы\n",
        "    document = re.sub(r'\\W', ' ', text)\n",
        "\n",
        "    # удаляем отдельно стоящие буквы\n",
        "    document = re.sub(r'\\s+[a-zA-Z]\\s+', ' ', document)\n",
        "\n",
        "    # удаляем отдельно стоящие буквы в начале текста\n",
        "    document = re.sub(r'\\^[a-zA-Z]\\s+', ' ', document)\n",
        "\n",
        "    # убираем двойные пробеоы\n",
        "    document = re.sub(r'\\s+', ' ', document, flags=re.I)\n",
        "\n",
        "    # переводим в нижний регистр\n",
        "    document = document.lower()\n",
        "\n",
        "    # лемматизируем\n",
        "    document = document.split()\n",
        "    document = [stemmer.lemmatize(word) for word in document]\n",
        "\n",
        "    # удаляем стоп-слова\n",
        "    document_fin = []\n",
        "    for word in document:\n",
        "        if word not in en_stops:\n",
        "            document_fin.append(word)\n",
        "\n",
        "    fin_text = ' '.join(document_fin)\n",
        "    return fin_text"
      ]
    },
    {
      "cell_type": "markdown",
      "metadata": {
        "id": "9sG3-fr1SWzD"
      },
      "source": [
        "Посмотрим, что возращает функция:"
      ]
    },
    {
      "cell_type": "code",
      "execution_count": null,
      "metadata": {
        "id": "ZcFD_DeASWzD",
        "outputId": "3605a044-0663-4292-aca4-b3cec8db06d8"
      },
      "outputs": [
        {
          "data": {
            "text/plain": [
              "'turpin c utexas edu russell turpin subject great post wa candida yeast bloom long summary virtually organization c dept university texas austin line 30 nntp posting host im4u c utexas edu article noringc5wzm4 41n netcom com noring netcom com jon noring writes observe culture yeast bloom gut sinus way diagnose even recognize disease know realize virtually impossible test candida overbloom part body cannot easily observed since candida everywhere body article c5y5nm axv toad pgh pa u geb c pitt edu gordon bank writes discovered one requirement good quack theory find something one disprove write book saying cause whatever since one disprove rake buck quite time hope gordon bank mean imply notion hard see candida infection causing various problem investigated many researcher made breakthrough figuring investigate thing previously thought virtually impossible test indeed would surprised candida overbloom phenomenon would think candida would produce signature byproduct whose measure would set lower bound extent recent infection realize might get quite tricky difficult probably expensive likely inconvenient uncomfortable subject virtually impossible russell'"
            ]
          },
          "execution_count": 20,
          "metadata": {},
          "output_type": "execute_result"
        }
      ],
      "source": [
        "clean_txt(train.data[10])"
      ]
    },
    {
      "cell_type": "markdown",
      "metadata": {
        "id": "jhVQ48NvSWzE"
      },
      "source": [
        "Создадим список из документов, преобразованных функцией `clean_txt`"
      ]
    },
    {
      "cell_type": "code",
      "execution_count": null,
      "metadata": {
        "id": "ehiaHxMESWzF"
      },
      "outputs": [],
      "source": [
        "documents = [clean_txt(i) for i in train.data]"
      ]
    },
    {
      "cell_type": "markdown",
      "metadata": {
        "id": "W5vElgFASWzF"
      },
      "source": [
        "Создадим **мешок слов**:"
      ]
    },
    {
      "cell_type": "markdown",
      "metadata": {
        "id": "YVNLzujtSWzF"
      },
      "source": [
        "Используем класс `CountVectorizer` из библиотеки `sklearn.feature_extraction.text`, со следующим параметрами:\n",
        "\n",
        "- `max_features`, для которого установлено значение 1500. Это связано с тем, что при преобразовании слов в числа с использованием подхода «мешок слов» все уникальные слова во всех документах преобразуются в функции. Все документы могут содержать десятки тысяч уникальных слов. Но слова, которые встречаются очень редко, обычно не подходят для классификации документов. Поэтому мы устанавливаем параметр *max_features* на 1500, что означает, что мы хотим использовать 1500 наиболее часто встречающихся слов в качестве функций для обучения нашего классификатора.\n",
        "\n",
        "- `min_df`, для которого установлено значение 0.05. Это соответствует проценту минимального количества документов, которые должны содержать это слово. Поэтому мы включаем только те слова, которые встречаются как минимум в 5% документах.\n",
        "- `max_df` значение установлено на 0,7; в котором дробь соответствует проценту. Здесь 0,7 означает, что мы должны включать только те слова, которые встречаются максимум в 70% всех документов. Слова, которые встречаются почти в каждом документе, обычно не подходят для классификации, потому что они не предоставляют никакой уникальной информации о документе.\n",
        "\n",
        "Функция `fit_transform` класса `CountVectorizer` преобразует текстовые документы в соответствующие числовые функции."
      ]
    },
    {
      "cell_type": "code",
      "execution_count": null,
      "metadata": {
        "id": "5pj6AGG2SWzG"
      },
      "outputs": [],
      "source": [
        "from sklearn.feature_extraction.text import CountVectorizer\n",
        "vectorizer = CountVectorizer(max_features=1500, min_df=0.05, max_df=0.7)\n",
        "X = vectorizer.fit_transform(documents).toarray()"
      ]
    },
    {
      "cell_type": "code",
      "execution_count": null,
      "metadata": {
        "id": "K2M2WHcSSWzG",
        "outputId": "6461c272-33e6-42fa-a541-20ccc95b2ea0"
      },
      "outputs": [
        {
          "data": {
            "text/plain": [
              "array([[0, 0, 0, ..., 0, 1, 0],\n",
              "       [0, 0, 1, ..., 0, 0, 0],\n",
              "       [0, 0, 0, ..., 1, 1, 0],\n",
              "       ...,\n",
              "       [0, 0, 0, ..., 0, 0, 0],\n",
              "       [0, 0, 0, ..., 1, 0, 0],\n",
              "       [0, 0, 0, ..., 0, 0, 0]], dtype=int64)"
            ]
          },
          "execution_count": 23,
          "metadata": {},
          "output_type": "execute_result"
        }
      ],
      "source": [
        "X"
      ]
    },
    {
      "cell_type": "markdown",
      "metadata": {
        "id": "KHNyHVuASWzH"
      },
      "source": [
        "Определим **TF-IDF**"
      ]
    },
    {
      "cell_type": "markdown",
      "metadata": {
        "id": "tHHyVXR-SWzI"
      },
      "source": [
        "Подход «мешок слов» отлично подходит для преобразования текста в числа. Однако у него есть один недостаток. Он присваивает оценку слову на основе его появления в конкретном документе. При этом не учитывается тот факт, что это слово может также часто встречаться в других документах. `TFIDF` решает эту проблему, умножая частоту термина слова на обратную частоту документа. TF означает \"Term Frequency\", а IDF - \"Inverse Document Frequency\":\n",
        "\n",
        "`TF = (Количество вхождений слова) / (Всего слов в документе)`\n",
        "\n",
        "`IDF = Log((Общее количество документов) / (Количество документов, содержащих слово))`\n",
        "\n",
        "Значение TFIDF для слова в конкретном документе выше, если TF этого слова выше в этом конкретном документе, но ниже во всех других документах."
      ]
    },
    {
      "cell_type": "markdown",
      "metadata": {
        "id": "jWL9_ZaASWzI"
      },
      "source": [
        "Преобразуем значения, полученные с помощью модели мешка слов, в значения TFIDF:"
      ]
    },
    {
      "cell_type": "code",
      "execution_count": null,
      "metadata": {
        "id": "DJkRmwadSWzJ"
      },
      "outputs": [],
      "source": [
        "from sklearn.feature_extraction.text import TfidfTransformer\n",
        "tfidfconverter = TfidfTransformer()\n",
        "X = tfidfconverter.fit_transform(X).toarray()"
      ]
    },
    {
      "cell_type": "code",
      "execution_count": null,
      "metadata": {
        "id": "7efMOu5pSWzJ",
        "outputId": "3d6437b0-ca17-47ef-f918-2a009502a4dc"
      },
      "outputs": [
        {
          "data": {
            "text/plain": [
              "array([[0.        , 0.        , 0.        , ..., 0.        , 0.19809688,\n",
              "        0.        ],\n",
              "       [0.        , 0.        , 0.24637674, ..., 0.        , 0.        ,\n",
              "        0.        ],\n",
              "       [0.        , 0.        , 0.        , ..., 0.10428913, 0.15172363,\n",
              "        0.        ],\n",
              "       ...,\n",
              "       [0.        , 0.        , 0.        , ..., 0.        , 0.        ,\n",
              "        0.        ],\n",
              "       [0.        , 0.        , 0.        , ..., 0.10929184, 0.        ,\n",
              "        0.        ],\n",
              "       [0.        , 0.        , 0.        , ..., 0.        , 0.        ,\n",
              "        0.        ]])"
            ]
          },
          "execution_count": 25,
          "metadata": {},
          "output_type": "execute_result"
        }
      ],
      "source": [
        "X"
      ]
    },
    {
      "cell_type": "markdown",
      "metadata": {
        "id": "tshwvvFESWzK"
      },
      "source": [
        "Можно напрямую преобразовать текстовые документы в значения функций TFIDF (без предварительного преобразования документов в функции набора слов), используя следующий скрипт:\n",
        "\n",
        "`from sklearn.feature_extraction.text import TfidfVectorizer\n",
        "tfidfconverter = TfidfVectorizer(max_features=1500, min_df=0.05, max_df=0.7, stop_words=stopwords.words('english'))\n",
        "X = tfidfconverter.fit_transform(documents).toarray()`"
      ]
    },
    {
      "cell_type": "markdown",
      "metadata": {
        "id": "khgdHAO9SWzK"
      },
      "source": [
        "### Построение модели"
      ]
    },
    {
      "cell_type": "code",
      "execution_count": null,
      "metadata": {
        "id": "9J-iH8M4SWzK"
      },
      "outputs": [],
      "source": [
        "from sklearn.model_selection import train_test_split\n",
        "\n",
        "y = train.target\n",
        "X_train, X_test, y_train, y_test = train_test_split(X, y, test_size=0.2, random_state=0)"
      ]
    },
    {
      "cell_type": "code",
      "execution_count": null,
      "metadata": {
        "id": "OocWL4fnSWzL",
        "outputId": "70056589-60c9-49c5-f4f2-74eed03a2e5f"
      },
      "outputs": [
        {
          "data": {
            "text/plain": [
              "RandomForestClassifier(n_estimators=1000, random_state=0)"
            ]
          },
          "execution_count": 77,
          "metadata": {},
          "output_type": "execute_result"
        }
      ],
      "source": [
        "from sklearn.ensemble import RandomForestClassifier\n",
        "\n",
        "classifier = RandomForestClassifier(n_estimators=1000, random_state=0)\n",
        "classifier.fit(X_train, y_train)"
      ]
    },
    {
      "cell_type": "code",
      "execution_count": null,
      "metadata": {
        "id": "bjsGmSWoSWzL"
      },
      "outputs": [],
      "source": [
        "y_pred = classifier.predict(X_test)"
      ]
    },
    {
      "cell_type": "code",
      "execution_count": null,
      "metadata": {
        "id": "oJ2QB44USWzL",
        "outputId": "aba79221-8bec-4a59-f1b2-b659651fee87"
      },
      "outputs": [
        {
          "name": "stdout",
          "output_type": "stream",
          "text": [
            "[[112   4   1   0]\n",
            " [  2  97   9   6]\n",
            " [  2  19 101   3]\n",
            " [  1  19   3  96]]\n",
            "              precision    recall  f1-score   support\n",
            "\n",
            "           0       0.96      0.96      0.96       117\n",
            "           1       0.70      0.85      0.77       114\n",
            "           2       0.89      0.81      0.85       125\n",
            "           3       0.91      0.81      0.86       119\n",
            "\n",
            "    accuracy                           0.85       475\n",
            "   macro avg       0.86      0.86      0.86       475\n",
            "weighted avg       0.87      0.85      0.86       475\n",
            "\n",
            "0.8547368421052631\n"
          ]
        }
      ],
      "source": [
        "from sklearn.metrics import classification_report, confusion_matrix, accuracy_score\n",
        "\n",
        "print(confusion_matrix(y_test,y_pred))\n",
        "print(classification_report(y_test,y_pred))\n",
        "print(accuracy_score(y_test, y_pred))"
      ]
    },
    {
      "cell_type": "code",
      "execution_count": null,
      "metadata": {
        "id": "3ugakJVbSWzM",
        "outputId": "9caf8abd-f680-4e87-9c37-5c75bd207e58"
      },
      "outputs": [
        {
          "name": "stdout",
          "output_type": "stream",
          "text": [
            "Wall time: 17min 8s\n"
          ]
        },
        {
          "data": {
            "text/plain": [
              "GridSearchCV(cv=KFold(n_splits=5, random_state=42, shuffle=True),\n",
              "             estimator=RandomForestClassifier(n_estimators=1, n_jobs=3,\n",
              "                                              random_state=42),\n",
              "             param_grid={'max_depth': [7, 9, 10, 12],\n",
              "                         'min_samples_leaf': [6, 8, 10, 12],\n",
              "                         'min_samples_split': [2, 4, 6],\n",
              "                         'n_estimators': range(900, 1000, 50)},\n",
              "             scoring='f1_micro')"
            ]
          },
          "execution_count": 57,
          "metadata": {},
          "output_type": "execute_result"
        }
      ],
      "source": [
        "%%time\n",
        "rf = RandomForestClassifier(n_estimators=1, random_state=42, verbose=0, n_jobs=3)\n",
        "kf = KFold(n_splits=5, random_state=42, shuffle=True)\n",
        "parameters = {'n_estimators': range(900, 1000, 50),\n",
        "              'max_depth': [7,9,10,12],\n",
        "              'min_samples_split':[2,4,6],\n",
        "              'min_samples_leaf':[6,8,10,12] }\n",
        "clf = GridSearchCV(rf, parameters, cv=kf, scoring='f1_micro')\n",
        "clf.fit(X_train, y_train)"
      ]
    },
    {
      "cell_type": "code",
      "execution_count": null,
      "metadata": {
        "id": "youHv9N2SWzM",
        "outputId": "5cd24b89-8649-47aa-9a70-b7bb80ae212d"
      },
      "outputs": [
        {
          "data": {
            "text/plain": [
              "{'max_depth': 12,\n",
              " 'min_samples_leaf': 8,\n",
              " 'min_samples_split': 2,\n",
              " 'n_estimators': 900}"
            ]
          },
          "execution_count": 58,
          "metadata": {},
          "output_type": "execute_result"
        }
      ],
      "source": [
        "clf.best_params_"
      ]
    },
    {
      "cell_type": "code",
      "execution_count": null,
      "metadata": {
        "id": "KPrSXfrgSWzN",
        "outputId": "b616131a-451b-4b14-c663-68b50031ff8f"
      },
      "outputs": [
        {
          "data": {
            "text/plain": [
              "RandomForestClassifier(max_depth=12, min_samples_leaf=8, random_state=42)"
            ]
          },
          "execution_count": 83,
          "metadata": {},
          "output_type": "execute_result"
        }
      ],
      "source": [
        "classifier = RandomForestClassifier(n_estimators=100, random_state=42, max_depth=12, min_samples_leaf=8, min_samples_split=2)\n",
        "classifier.fit(X_train, y_train)"
      ]
    },
    {
      "cell_type": "code",
      "execution_count": null,
      "metadata": {
        "id": "FMDeKjqaSWzN"
      },
      "outputs": [],
      "source": [
        "y_pred = classifier.predict(X_test)"
      ]
    },
    {
      "cell_type": "code",
      "execution_count": null,
      "metadata": {
        "id": "1xu5mgzRSWzO",
        "outputId": "b612d3b5-a53c-4282-c3ae-2653eba19ae5"
      },
      "outputs": [
        {
          "name": "stdout",
          "output_type": "stream",
          "text": [
            "0.8063157894736842\n"
          ]
        }
      ],
      "source": [
        "print(accuracy_score(y_test, y_pred))"
      ]
    },
    {
      "cell_type": "code",
      "execution_count": null,
      "metadata": {
        "id": "LDuoYL8WSWzO"
      },
      "outputs": [],
      "source": []
    },
    {
      "cell_type": "code",
      "execution_count": null,
      "metadata": {
        "id": "WlHZyuz9SWzO",
        "outputId": "30224ac1-7579-4a27-c5be-cf42f6d5a8d7"
      },
      "outputs": [
        {
          "name": "stdout",
          "output_type": "stream",
          "text": [
            "[21:48:03] WARNING: C:/Users/Administrator/workspace/xgboost-win64_release_1.3.0/src/learner.cc:1061: Starting in XGBoost 1.3.0, the default evaluation metric used with the objective 'multi:softprob' was changed from 'merror' to 'mlogloss'. Explicitly set eval_metric if you'd like to restore the old behavior.\n",
            "Точность для обучающей выборки: 0.9494204425711275\n",
            "Точность для тестовой выборки: 0.8273684210526315\n"
          ]
        }
      ],
      "source": [
        "xgb = XGBClassifier(learning_rate=0.1, max_depth=7, subsample=0.5, colsample_bytree=1.0, reg_alpha=0, reg_lambda=1,\n",
        "                   min_child_weight=3, gamma=2, tree_method = \"gpu_hist\", predictor = \"gpu_predictor\")\n",
        "xgb.fit(X_train, y_train)\n",
        "print(\"Точность для обучающей выборки:\", xgb.score(X_train, y_train))\n",
        "print(\"Точность для тестовой выборки:\", xgb.score(X_test, y_test))"
      ]
    },
    {
      "cell_type": "code",
      "execution_count": null,
      "metadata": {
        "id": "JgXxj-3FSWzP",
        "outputId": "5503c5d2-e8e0-47fb-e4fb-d2b1f5898cdb"
      },
      "outputs": [
        {
          "name": "stdout",
          "output_type": "stream",
          "text": [
            "0:\tlearn: 1.0909386\ttotal: 157ms\tremaining: 157ms\n",
            "1:\tlearn: 0.9534524\ttotal: 165ms\tremaining: 0us\n",
            "Точность для обучающей выборки: 0.553213909378293\n",
            "Точность для тестовой выборки: 0.5726315789473684\n"
          ]
        }
      ],
      "source": [
        "cat = CatBoostClassifier(iterations=2,\n",
        "                           depth=2,\n",
        "                           learning_rate=1)\n",
        "\n",
        "cat.fit(X_train, y_train)\n",
        "print(\"Точность для обучающей выборки:\", cat.score(X_train, y_train))\n",
        "print(\"Точность для тестовой выборки:\", cat.score(X_test, y_test))"
      ]
    },
    {
      "cell_type": "code",
      "execution_count": null,
      "metadata": {
        "id": "IOq3f9efSWzQ"
      },
      "outputs": [],
      "source": []
    },
    {
      "cell_type": "code",
      "execution_count": null,
      "metadata": {
        "id": "-2IUs6bySWzQ"
      },
      "outputs": [],
      "source": []
    },
    {
      "cell_type": "code",
      "execution_count": null,
      "metadata": {
        "id": "2dNRzMEISWzQ"
      },
      "outputs": [],
      "source": []
    },
    {
      "cell_type": "markdown",
      "metadata": {
        "id": "J73uGBzLSWzQ"
      },
      "source": [
        "Из выходных данных видно, что наша модель достигла точности на тестовых данных 85,5%, что очень хорошо, учитывая тот факт, что мы случайным образом выбрали все параметры для CountVectorizer, а также для нашего алгоритма случайного леса."
      ]
    },
    {
      "cell_type": "markdown",
      "metadata": {
        "id": "L-TyK8pGSWzR"
      },
      "source": [
        "## [Задание]\n",
        "\n",
        "Основная задача улучшить модель. Отметим, что оценку мы производили только на валидационной выборке и не производили на тестовой выборке.\n",
        "\n",
        "Гипотезы для улучшения:\n",
        "- Вытащить из описания доп переменные: тема, отправитель, получатель и тп\n",
        "![image.png](attachment:image.png)\n",
        "- Произвести более аккуратную предобработку текста\n",
        "- Выбрать оптимальный алгоритм и подобрать его параметры\n",
        "- Использовать NER"
      ]
    }
  ],
  "metadata": {
    "kernelspec": {
      "display_name": "Python 3",
      "language": "python",
      "name": "python3"
    },
    "language_info": {
      "codemirror_mode": {
        "name": "ipython",
        "version": 3
      },
      "file_extension": ".py",
      "mimetype": "text/x-python",
      "name": "python",
      "nbconvert_exporter": "python",
      "pygments_lexer": "ipython3",
      "version": "3.8.5"
    },
    "latex_envs": {
      "LaTeX_envs_menu_present": true,
      "autoclose": false,
      "autocomplete": true,
      "bibliofile": "biblio.bib",
      "cite_by": "apalike",
      "current_citInitial": 1,
      "eqLabelWithNumbers": true,
      "eqNumInitial": 1,
      "hotkeys": {
        "equation": "Ctrl-E",
        "itemize": "Ctrl-I"
      },
      "labels_anchors": false,
      "latex_user_defs": false,
      "report_style_numbering": false,
      "user_envs_cfg": false
    },
    "toc": {
      "base_numbering": 1,
      "nav_menu": {},
      "number_sections": true,
      "sideBar": true,
      "skip_h1_title": false,
      "title_cell": "Table of Contents",
      "title_sidebar": "Contents",
      "toc_cell": false,
      "toc_position": {},
      "toc_section_display": true,
      "toc_window_display": true
    },
    "colab": {
      "provenance": []
    }
  },
  "nbformat": 4,
  "nbformat_minor": 0
}