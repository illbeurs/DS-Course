{
 "cells": [
  {
   "cell_type": "code",
   "execution_count": 99,
   "metadata": {},
   "outputs": [],
   "source": [
    "#импорт библиотек\n",
    "import numpy as np #для матричных вычислений\n",
    "import pandas as pd #для анализа и предобработки данных\n",
    "import matplotlib.pyplot as plt #для визуализации\n",
    "import seaborn as sns #для визуализации\n",
    "\n",
    "from sklearn.linear_model import LogisticRegression #линейные моделиё\n",
    "from sklearn.ensemble import RandomForestClassifier #ансамбли\n",
    "from sklearn import metrics #метрики\n",
    "from sklearn import preprocessing #предобработка\n",
    "from sklearn.model_selection import train_test_split #сплитование выборки\n",
    "\n",
    "%matplotlib inline\n",
    "plt.style.use('seaborn')"
   ]
  },
  {
   "cell_type": "code",
   "execution_count": 100,
   "metadata": {},
   "outputs": [],
   "source": [
    "R_STATE = 42"
   ]
  },
  {
   "cell_type": "code",
   "execution_count": 101,
   "metadata": {},
   "outputs": [
    {
     "data": {
      "text/html": [
       "<div>\n",
       "<style scoped>\n",
       "    .dataframe tbody tr th:only-of-type {\n",
       "        vertical-align: middle;\n",
       "    }\n",
       "\n",
       "    .dataframe tbody tr th {\n",
       "        vertical-align: top;\n",
       "    }\n",
       "\n",
       "    .dataframe thead th {\n",
       "        text-align: right;\n",
       "    }\n",
       "</style>\n",
       "<table border=\"1\" class=\"dataframe\">\n",
       "  <thead>\n",
       "    <tr style=\"text-align: right;\">\n",
       "      <th></th>\n",
       "      <th>Activity</th>\n",
       "      <th>D1</th>\n",
       "      <th>D2</th>\n",
       "      <th>D3</th>\n",
       "      <th>D4</th>\n",
       "      <th>D5</th>\n",
       "      <th>D6</th>\n",
       "      <th>D7</th>\n",
       "      <th>D8</th>\n",
       "      <th>D9</th>\n",
       "      <th>...</th>\n",
       "      <th>D1767</th>\n",
       "      <th>D1768</th>\n",
       "      <th>D1769</th>\n",
       "      <th>D1770</th>\n",
       "      <th>D1771</th>\n",
       "      <th>D1772</th>\n",
       "      <th>D1773</th>\n",
       "      <th>D1774</th>\n",
       "      <th>D1775</th>\n",
       "      <th>D1776</th>\n",
       "    </tr>\n",
       "  </thead>\n",
       "  <tbody>\n",
       "    <tr>\n",
       "      <th>0</th>\n",
       "      <td>1</td>\n",
       "      <td>0.000000</td>\n",
       "      <td>0.497009</td>\n",
       "      <td>0.10</td>\n",
       "      <td>0.0</td>\n",
       "      <td>0.132956</td>\n",
       "      <td>0.678031</td>\n",
       "      <td>0.273166</td>\n",
       "      <td>0.585445</td>\n",
       "      <td>0.743663</td>\n",
       "      <td>...</td>\n",
       "      <td>0</td>\n",
       "      <td>0</td>\n",
       "      <td>0</td>\n",
       "      <td>0</td>\n",
       "      <td>0</td>\n",
       "      <td>0</td>\n",
       "      <td>0</td>\n",
       "      <td>0</td>\n",
       "      <td>0</td>\n",
       "      <td>0</td>\n",
       "    </tr>\n",
       "    <tr>\n",
       "      <th>1</th>\n",
       "      <td>1</td>\n",
       "      <td>0.366667</td>\n",
       "      <td>0.606291</td>\n",
       "      <td>0.05</td>\n",
       "      <td>0.0</td>\n",
       "      <td>0.111209</td>\n",
       "      <td>0.803455</td>\n",
       "      <td>0.106105</td>\n",
       "      <td>0.411754</td>\n",
       "      <td>0.836582</td>\n",
       "      <td>...</td>\n",
       "      <td>1</td>\n",
       "      <td>1</td>\n",
       "      <td>1</td>\n",
       "      <td>1</td>\n",
       "      <td>0</td>\n",
       "      <td>1</td>\n",
       "      <td>0</td>\n",
       "      <td>0</td>\n",
       "      <td>1</td>\n",
       "      <td>0</td>\n",
       "    </tr>\n",
       "    <tr>\n",
       "      <th>2</th>\n",
       "      <td>1</td>\n",
       "      <td>0.033300</td>\n",
       "      <td>0.480124</td>\n",
       "      <td>0.00</td>\n",
       "      <td>0.0</td>\n",
       "      <td>0.209791</td>\n",
       "      <td>0.610350</td>\n",
       "      <td>0.356453</td>\n",
       "      <td>0.517720</td>\n",
       "      <td>0.679051</td>\n",
       "      <td>...</td>\n",
       "      <td>0</td>\n",
       "      <td>0</td>\n",
       "      <td>0</td>\n",
       "      <td>0</td>\n",
       "      <td>0</td>\n",
       "      <td>0</td>\n",
       "      <td>0</td>\n",
       "      <td>0</td>\n",
       "      <td>0</td>\n",
       "      <td>0</td>\n",
       "    </tr>\n",
       "    <tr>\n",
       "      <th>3</th>\n",
       "      <td>1</td>\n",
       "      <td>0.000000</td>\n",
       "      <td>0.538825</td>\n",
       "      <td>0.00</td>\n",
       "      <td>0.5</td>\n",
       "      <td>0.196344</td>\n",
       "      <td>0.724230</td>\n",
       "      <td>0.235606</td>\n",
       "      <td>0.288764</td>\n",
       "      <td>0.805110</td>\n",
       "      <td>...</td>\n",
       "      <td>0</td>\n",
       "      <td>0</td>\n",
       "      <td>0</td>\n",
       "      <td>0</td>\n",
       "      <td>0</td>\n",
       "      <td>0</td>\n",
       "      <td>0</td>\n",
       "      <td>0</td>\n",
       "      <td>0</td>\n",
       "      <td>0</td>\n",
       "    </tr>\n",
       "    <tr>\n",
       "      <th>4</th>\n",
       "      <td>0</td>\n",
       "      <td>0.100000</td>\n",
       "      <td>0.517794</td>\n",
       "      <td>0.00</td>\n",
       "      <td>0.0</td>\n",
       "      <td>0.494734</td>\n",
       "      <td>0.781422</td>\n",
       "      <td>0.154361</td>\n",
       "      <td>0.303809</td>\n",
       "      <td>0.812646</td>\n",
       "      <td>...</td>\n",
       "      <td>0</td>\n",
       "      <td>0</td>\n",
       "      <td>0</td>\n",
       "      <td>0</td>\n",
       "      <td>0</td>\n",
       "      <td>0</td>\n",
       "      <td>0</td>\n",
       "      <td>0</td>\n",
       "      <td>0</td>\n",
       "      <td>0</td>\n",
       "    </tr>\n",
       "  </tbody>\n",
       "</table>\n",
       "<p>5 rows × 1777 columns</p>\n",
       "</div>"
      ],
      "text/plain": [
       "   Activity        D1        D2    D3   D4        D5        D6        D7  \\\n",
       "0         1  0.000000  0.497009  0.10  0.0  0.132956  0.678031  0.273166   \n",
       "1         1  0.366667  0.606291  0.05  0.0  0.111209  0.803455  0.106105   \n",
       "2         1  0.033300  0.480124  0.00  0.0  0.209791  0.610350  0.356453   \n",
       "3         1  0.000000  0.538825  0.00  0.5  0.196344  0.724230  0.235606   \n",
       "4         0  0.100000  0.517794  0.00  0.0  0.494734  0.781422  0.154361   \n",
       "\n",
       "         D8        D9  ...  D1767  D1768  D1769  D1770  D1771  D1772  D1773  \\\n",
       "0  0.585445  0.743663  ...      0      0      0      0      0      0      0   \n",
       "1  0.411754  0.836582  ...      1      1      1      1      0      1      0   \n",
       "2  0.517720  0.679051  ...      0      0      0      0      0      0      0   \n",
       "3  0.288764  0.805110  ...      0      0      0      0      0      0      0   \n",
       "4  0.303809  0.812646  ...      0      0      0      0      0      0      0   \n",
       "\n",
       "   D1774  D1775  D1776  \n",
       "0      0      0      0  \n",
       "1      0      1      0  \n",
       "2      0      0      0  \n",
       "3      0      0      0  \n",
       "4      0      0      0  \n",
       "\n",
       "[5 rows x 1777 columns]"
      ]
     },
     "execution_count": 101,
     "metadata": {},
     "output_type": "execute_result"
    }
   ],
   "source": [
    "data = pd.read_csv(\"../data/_train_sem09 (1).csv\")\n",
    "data.head()"
   ]
  },
  {
   "cell_type": "code",
   "execution_count": 102,
   "metadata": {},
   "outputs": [
    {
     "data": {
      "text/plain": [
       "(3751, 1777)"
      ]
     },
     "execution_count": 102,
     "metadata": {},
     "output_type": "execute_result"
    }
   ],
   "source": [
    "data.shape"
   ]
  },
  {
   "cell_type": "code",
   "execution_count": 103,
   "metadata": {},
   "outputs": [],
   "source": [
    "X = data.drop('Activity', axis=1)\n",
    "y = data['Activity']"
   ]
  },
  {
   "cell_type": "code",
   "execution_count": 104,
   "metadata": {},
   "outputs": [
    {
     "name": "stderr",
     "output_type": "stream",
     "text": [
      "c:\\Users\\mblyz\\AppData\\Local\\Programs\\Python\\Python310\\lib\\site-packages\\seaborn\\_decorators.py:36: FutureWarning: Pass the following variable as a keyword arg: x. From version 0.12, the only valid positional argument will be `data`, and passing other arguments without an explicit keyword will result in an error or misinterpretation.\n",
      "  warnings.warn(\n"
     ]
    },
    {
     "data": {
      "text/plain": [
       "<AxesSubplot:xlabel='Activity', ylabel='count'>"
      ]
     },
     "execution_count": 104,
     "metadata": {},
     "output_type": "execute_result"
    },
    {
     "data": {
      "image/png": "[encoded data removed]",
      "text/plain": [
       "<Figure size 576x396 with 1 Axes>"
      ]
     },
     "metadata": {},
     "output_type": "display_data"
    }
   ],
   "source": [
    "sns.countplot(y)"
   ]
  },
  {
   "attachments": {},
   "cell_type": "markdown",
   "metadata": {},
   "source": [
    "#### В целом, метки классов сбалансированны"
   ]
  },
  {
   "cell_type": "code",
   "execution_count": 105,
   "metadata": {},
   "outputs": [],
   "source": [
    "X_train, X_test, y_train, y_test = train_test_split(X, y, test_size=0.2, random_state=R_STATE)"
   ]
  },
  {
   "attachments": {},
   "cell_type": "markdown",
   "metadata": {},
   "source": [
    "## 1. Подбираем гиперпараметры LogisticRegression четыремя методами"
   ]
  },
  {
   "cell_type": "code",
   "execution_count": 106,
   "metadata": {},
   "outputs": [],
   "source": [
    "from sklearn.model_selection import GridSearchCV, RandomizedSearchCV, cross_val_score\n",
    "from hyperopt import hp, tpe, Trials, fmin, STATUS_OK\n",
    "import optuna\n",
    "from functools import partial"
   ]
  },
  {
   "attachments": {},
   "cell_type": "markdown",
   "metadata": {},
   "source": [
    "### 1.1 GridSearch"
   ]
  },
  {
   "cell_type": "code",
   "execution_count": 107,
   "metadata": {},
   "outputs": [],
   "source": [
    "params_grid = [\n",
    "    {\n",
    "        'penalty': ['l1', 'l2'],\n",
    "        'solver': ['liblinear', 'saga'],\n",
    "        'C': [0.01, 0.05, 0.1, 0.5, 1, 1.5]\n",
    "    },\n",
    "    { \n",
    "        'penalty': ['l2', None],\n",
    "        'solver': ['lbfgs', 'newton-cg'],\n",
    "        'C': [0.01, 0.05, 0.1, 0.5, 1, 1.5]\n",
    "    }\n",
    "]"
   ]
  },
  {
   "cell_type": "code",
   "execution_count": 108,
   "metadata": {},
   "outputs": [
    {
     "name": "stdout",
     "output_type": "stream",
     "text": [
      "CPU times: total: 2.72 s\n",
      "Wall time: 17min 27s\n",
      "Найденные GSearch гиперпараметры, относительно метрики f1 score: {'C': 0.05, 'penalty': 'l2', 'solver': 'lbfgs'}\n",
      "f1 score на тренировочной выборке: 0.8422344996930633\n",
      "f1 score на тестовой выборке: 0.7926689576174113\n"
     ]
    }
   ],
   "source": [
    "gs_log_reg = GridSearchCV(\n",
    "    estimator=LogisticRegression(random_state=R_STATE, max_iter=1000),\n",
    "    param_grid=params_grid,\n",
    "    cv=5,\n",
    "    n_jobs=-1,\n",
    "    scoring='f1'    \n",
    ")\n",
    "%time gs_log_reg.fit(X_train, y_train)\n",
    "train_preds = gs_log_reg.predict(X_train)\n",
    "test_preds = gs_log_reg.predict(X_test)\n",
    "print(f\"Найденные GSearch гиперпараметры, относительно метрики f1 score: {gs_log_reg.best_params_}\")\n",
    "print(f\"f1 score на тренировочной выборке: {metrics.f1_score(y_train, train_preds)}\")\n",
    "print(f\"f1 score на тестовой выборке: {metrics.f1_score(y_test, test_preds)}\")\n"
   ]
  },
  {
   "attachments": {},
   "cell_type": "markdown",
   "metadata": {},
   "source": [
    "### 1.2 RandomizedSearch"
   ]
  },
  {
   "cell_type": "code",
   "execution_count": 109,
   "metadata": {},
   "outputs": [
    {
     "name": "stdout",
     "output_type": "stream",
     "text": [
      "CPU times: total: 1.41 s\n",
      "Wall time: 5min 44s\n",
      "Найденные RSearch гиперпараметры, относительно метрики f1 score: {'solver': 'newton-cg', 'penalty': 'l2', 'C': 0.05}\n",
      "f1 score на тренировочной выборке: 0.8422344996930633\n",
      "f1 score на тестовой выборке: 0.7926689576174113\n"
     ]
    }
   ],
   "source": [
    "rs_log_reg = RandomizedSearchCV(\n",
    "    estimator=LogisticRegression(random_state=R_STATE, max_iter=1000),\n",
    "    param_distributions=params_grid,\n",
    "    n_iter=20,\n",
    "    scoring='f1',\n",
    "    cv=5,\n",
    "    n_jobs=-1\n",
    ")\n",
    "%time rs_log_reg.fit(X_train, y_train.values.ravel())\n",
    "train_preds = rs_log_reg.predict(X_train)\n",
    "test_preds = rs_log_reg.predict(X_test)\n",
    "print(f\"Найденные RSearch гиперпараметры, относительно метрики f1 score: {rs_log_reg.best_params_}\")\n",
    "print(f\"f1 score на тренировочной выборке: {metrics.f1_score(y_train, train_preds)}\")\n",
    "print(f\"f1 score на тестовой выборке: {metrics.f1_score(y_test, test_preds)}\")\n"
   ]
  },
  {
   "attachments": {},
   "cell_type": "markdown",
   "metadata": {},
   "source": [
    "### 1.3 Hyperopt"
   ]
  },
  {
   "cell_type": "code",
   "execution_count": 110,
   "metadata": {},
   "outputs": [],
   "source": [
    "space = hp.choice('penalty_type',\n",
    "                  [{\n",
    "        'penalty': hp.choice('penalty_1', ['l1', 'l2']),\n",
    "        'solver': hp.choice('solver_1', ['liblinear', 'saga']),\n",
    "        'C': hp.uniform('C_1', 0.01, 1)\n",
    "    },\n",
    "    { \n",
    "        'penalty': hp.choice('penalty_2', ['l2', None]),\n",
    "        'solver': hp.choice('solver_2', ['lbfgs', 'newton-cg', 'newton-cholesky']),\n",
    "        'C': hp.uniform('C_2', 0.01, 1) # #hp.loguniform(label='C_2', low= -4*np.log(10), high=2*np.log(10))\n",
    "    }]\n",
    ")"
   ]
  },
  {
   "cell_type": "code",
   "execution_count": 111,
   "metadata": {},
   "outputs": [],
   "source": [
    "def hyperpt_log_reg(params, X, y):\n",
    "    model = LogisticRegression(**params, random_state=R_STATE, max_iter=1000)\n",
    "    score = cross_val_score(estimator=model, X=X, y=y, cv=5, scoring='f1', n_jobs=-1).mean()\n",
    "    return {'loss': -score, 'params': params, 'status': STATUS_OK}"
   ]
  },
  {
   "cell_type": "code",
   "execution_count": 112,
   "metadata": {},
   "outputs": [
    {
     "name": "stdout",
     "output_type": "stream",
     "text": [
      "100%|██████████| 20/20 [04:16<00:00, 12.84s/trial, best loss: -0.7861861865066677]\n"
     ]
    }
   ],
   "source": [
    "trials = Trials()\n",
    "best = fmin(\n",
    "    fn=partial(hyperpt_log_reg, X=X_train, y=y_train),\n",
    "    space=space,\n",
    "    algo=tpe.suggest,\n",
    "    trials=trials,\n",
    "    max_evals=20,\n",
    "    rstate= np.random.default_rng(R_STATE)\n",
    ")"
   ]
  },
  {
   "cell_type": "code",
   "execution_count": 113,
   "metadata": {},
   "outputs": [
    {
     "name": "stdout",
     "output_type": "stream",
     "text": [
      "Найденные Hyperopt гиперпараметры, относительно метрики f1 score: {'C': 0.09092947253263425, 'penalty': 'l2', 'solver': 'newton-cholesky'}\n"
     ]
    }
   ],
   "source": [
    "print(f\"Найденные Hyperopt гиперпараметры, относительно метрики f1 score: {trials.best_trial['result']['params']}\")"
   ]
  },
  {
   "cell_type": "code",
   "execution_count": 114,
   "metadata": {},
   "outputs": [
    {
     "name": "stdout",
     "output_type": "stream",
     "text": [
      "f1 score на тренировочной выборке: 0.8493402884320344\n",
      "f1 score на тестовой выборке: 0.79498861047836\n"
     ]
    }
   ],
   "source": [
    "model = LogisticRegression(**trials.best_trial['result']['params'], random_state=R_STATE, max_iter=1000)\n",
    "model.fit(X_train,y_train)\n",
    "train_preds = model.predict(X_train)\n",
    "test_preds = model.predict(X_test)\n",
    "print(f\"f1 score на тренировочной выборке: {metrics.f1_score(y_train, train_preds)}\")\n",
    "print(f\"f1 score на тестовой выборке: {metrics.f1_score(y_test, test_preds)}\")"
   ]
  },
  {
   "attachments": {},
   "cell_type": "markdown",
   "metadata": {},
   "source": [
    "### 1.4 Optuna"
   ]
  },
  {
   "cell_type": "code",
   "execution_count": 115,
   "metadata": {},
   "outputs": [],
   "source": [
    "def optuna_log_reg(trial: optuna.Trial, X, y):\n",
    "    case = trial.suggest_categorical('case', [0,1])\n",
    "    if case == 0:\n",
    "        params = {\n",
    "            'penalty': trial.suggest_categorical('penalty', ['l1', 'l2']),\n",
    "            'solver': trial.suggest_categorical('solver', ['liblinear', 'saga']),\n",
    "            'C': trial.suggest_float('C', 0.01, 1)\n",
    "        }\n",
    "    else:\n",
    "        params = {\n",
    "            'penalty': trial.suggest_categorical('penalty_1', ['l2', 'none']),\n",
    "            'solver': trial.suggest_categorical('solver_1', ['lbfgs', 'newton-cg', 'newton-cholesky']),\n",
    "            'C': trial.suggest_float('C_1', 0.01, 1)\n",
    "        }\n",
    "    model = LogisticRegression(**params, random_state=R_STATE, max_iter=1000)\n",
    "    score = cross_val_score(model, X, y, cv=5, n_jobs=-1, scoring='f1').mean()\n",
    "    trial.set_user_attr('params', params)\n",
    "    return score"
   ]
  },
  {
   "cell_type": "code",
   "execution_count": 116,
   "metadata": {},
   "outputs": [
    {
     "name": "stderr",
     "output_type": "stream",
     "text": [
      "\u001b[32m[I 2023-05-26 22:19:48,193]\u001b[0m A new study created in memory with name: Optuna_log_reg\u001b[0m\n",
      "\u001b[32m[I 2023-05-26 22:20:12,651]\u001b[0m Trial 0 finished with value: 0.7744929838884675 and parameters: {'case': 0, 'penalty': 'l2', 'solver': 'saga', 'C': 0.5120621092966768}. Best is trial 0 with value: 0.7744929838884675.\u001b[0m\n",
      "\u001b[32m[I 2023-05-26 22:20:45,038]\u001b[0m Trial 1 finished with value: 0.7250877932339528 and parameters: {'case': 1, 'penalty_1': 'none', 'solver_1': 'lbfgs', 'C_1': 0.5402058074239074}. Best is trial 0 with value: 0.7744929838884675.\u001b[0m\n",
      "\u001b[32m[I 2023-05-26 22:20:51,617]\u001b[0m Trial 2 finished with value: 0.7847146829783622 and parameters: {'case': 1, 'penalty_1': 'l2', 'solver_1': 'newton-cholesky', 'C_1': 0.06865068059904679}. Best is trial 2 with value: 0.7847146829783622.\u001b[0m\n",
      "\u001b[32m[I 2023-05-26 22:20:59,325]\u001b[0m Trial 3 finished with value: 0.7696349388342677 and parameters: {'case': 1, 'penalty_1': 'l2', 'solver_1': 'newton-cholesky', 'C_1': 0.8296454904034285}. Best is trial 2 with value: 0.7847146829783622.\u001b[0m\n",
      "\u001b[32m[I 2023-05-26 22:21:26,321]\u001b[0m Trial 4 finished with value: 0.7694837890635526 and parameters: {'case': 0, 'penalty': 'l2', 'solver': 'saga', 'C': 0.8234809508105484}. Best is trial 2 with value: 0.7847146829783622.\u001b[0m\n",
      "\u001b[32m[I 2023-05-26 22:21:33,674]\u001b[0m Trial 5 finished with value: 0.7720768301684569 and parameters: {'case': 1, 'penalty_1': 'l2', 'solver_1': 'newton-cholesky', 'C_1': 0.9971924603450186}. Best is trial 2 with value: 0.7847146829783622.\u001b[0m\n",
      "\u001b[32m[I 2023-05-26 22:21:41,164]\u001b[0m Trial 6 finished with value: 0.7717920421763884 and parameters: {'case': 1, 'penalty_1': 'l2', 'solver_1': 'newton-cholesky', 'C_1': 0.9335604312662398}. Best is trial 2 with value: 0.7847146829783622.\u001b[0m\n",
      "\u001b[32m[I 2023-05-26 22:22:48,470]\u001b[0m Trial 7 finished with value: 0.7843806614895059 and parameters: {'case': 0, 'penalty': 'l1', 'solver': 'saga', 'C': 0.7689356276020606}. Best is trial 2 with value: 0.7847146829783622.\u001b[0m\n",
      "\u001b[32m[I 2023-05-26 22:23:12,626]\u001b[0m Trial 8 finished with value: 0.7250877932339528 and parameters: {'case': 1, 'penalty_1': 'none', 'solver_1': 'lbfgs', 'C_1': 0.8928678474293544}. Best is trial 2 with value: 0.7847146829783622.\u001b[0m\n",
      "\u001b[32m[I 2023-05-26 22:23:13,288]\u001b[0m Trial 9 finished with value: 0.7475119899046397 and parameters: {'case': 0, 'penalty': 'l1', 'solver': 'liblinear', 'C': 0.01561194199580393}. Best is trial 2 with value: 0.7847146829783622.\u001b[0m\n",
      "\u001b[32m[I 2023-05-26 22:23:19,505]\u001b[0m Trial 10 finished with value: 0.7850697591176153 and parameters: {'case': 1, 'penalty_1': 'l2', 'solver_1': 'newton-cg', 'C_1': 0.03189481681329037}. Best is trial 10 with value: 0.7850697591176153.\u001b[0m\n",
      "\u001b[32m[I 2023-05-26 22:23:29,250]\u001b[0m Trial 11 finished with value: 0.780264799982283 and parameters: {'case': 1, 'penalty_1': 'l2', 'solver_1': 'newton-cg', 'C_1': 0.23358755794369815}. Best is trial 10 with value: 0.7850697591176153.\u001b[0m\n",
      "\u001b[32m[I 2023-05-26 22:23:36,509]\u001b[0m Trial 12 finished with value: 0.7846046678007633 and parameters: {'case': 1, 'penalty_1': 'l2', 'solver_1': 'newton-cg', 'C_1': 0.06618582867826822}. Best is trial 10 with value: 0.7850697591176153.\u001b[0m\n",
      "\u001b[32m[I 2023-05-26 22:23:43,337]\u001b[0m Trial 13 finished with value: 0.7855665355399146 and parameters: {'case': 1, 'penalty_1': 'l2', 'solver_1': 'newton-cg', 'C_1': 0.03630746219949349}. Best is trial 13 with value: 0.7855665355399146.\u001b[0m\n",
      "\u001b[32m[I 2023-05-26 22:23:49,167]\u001b[0m Trial 14 finished with value: 0.7830878515394291 and parameters: {'case': 1, 'penalty_1': 'l2', 'solver_1': 'newton-cg', 'C_1': 0.024025191599804208}. Best is trial 13 with value: 0.7855665355399146.\u001b[0m\n",
      "\u001b[32m[I 2023-05-26 22:25:07,269]\u001b[0m Trial 15 finished with value: 0.7233491452286801 and parameters: {'case': 1, 'penalty_1': 'none', 'solver_1': 'newton-cg', 'C_1': 0.2895404039257514}. Best is trial 13 with value: 0.7855665355399146.\u001b[0m\n",
      "\u001b[32m[I 2023-05-26 22:25:17,170]\u001b[0m Trial 16 finished with value: 0.7812544146512412 and parameters: {'case': 1, 'penalty_1': 'l2', 'solver_1': 'newton-cg', 'C_1': 0.24745093780359964}. Best is trial 13 with value: 0.7855665355399146.\u001b[0m\n",
      "\u001b[32m[I 2023-05-26 22:25:29,782]\u001b[0m Trial 17 finished with value: 0.7774669621931085 and parameters: {'case': 1, 'penalty_1': 'l2', 'solver_1': 'newton-cg', 'C_1': 0.42359390662009}. Best is trial 13 with value: 0.7855665355399146.\u001b[0m\n",
      "\u001b[32m[I 2023-05-26 22:25:31,815]\u001b[0m Trial 18 finished with value: 0.7710714757146473 and parameters: {'case': 0, 'penalty': 'l2', 'solver': 'liblinear', 'C': 0.9853691085370049}. Best is trial 13 with value: 0.7855665355399146.\u001b[0m\n",
      "\u001b[32m[I 2023-05-26 22:26:49,938]\u001b[0m Trial 19 finished with value: 0.7233491452286801 and parameters: {'case': 1, 'penalty_1': 'none', 'solver_1': 'newton-cg', 'C_1': 0.1724088706414713}. Best is trial 13 with value: 0.7855665355399146.\u001b[0m\n"
     ]
    }
   ],
   "source": [
    "study = optuna.create_study(\n",
    "    study_name=\"Optuna_log_reg\",\n",
    "    direction='maximize'\n",
    ")\n",
    "study.optimize(\n",
    "    func=partial(optuna_log_reg, X=X_train, y=y_train),\n",
    "    n_trials=20,\n",
    ")"
   ]
  },
  {
   "cell_type": "code",
   "execution_count": 117,
   "metadata": {},
   "outputs": [
    {
     "name": "stdout",
     "output_type": "stream",
     "text": [
      "Найденные Optuna гиперпараметры, относительно метрики f1 score: {'penalty': 'l2', 'solver': 'newton-cg', 'C': 0.03630746219949349}\n"
     ]
    }
   ],
   "source": [
    "best_params = study.best_trial.user_attrs['params']\n",
    "print(f\"Найденные Optuna гиперпараметры, относительно метрики f1 score: {best_params}\")"
   ]
  },
  {
   "cell_type": "code",
   "execution_count": 118,
   "metadata": {},
   "outputs": [
    {
     "name": "stdout",
     "output_type": "stream",
     "text": [
      "f1 score на тренировочной выборке: 0.8361858190709046\n",
      "f1 score на тестовой выборке: 0.7990867579908676\n"
     ]
    }
   ],
   "source": [
    "model = LogisticRegression(**best_params, random_state=R_STATE, max_iter=1000)\n",
    "model.fit(X_train,y_train)\n",
    "train_preds = model.predict(X_train)\n",
    "test_preds = model.predict(X_test)\n",
    "print(f\"f1 score на тренировочной выборке: {metrics.f1_score(y_train, train_preds)}\")\n",
    "print(f\"f1 score на тестовой выборке: {metrics.f1_score(y_test, test_preds)}\")"
   ]
  },
  {
   "attachments": {},
   "cell_type": "markdown",
   "metadata": {},
   "source": [
    "## 2. Подбираем гиперпараметры RandomForestClassifer четыремя методами"
   ]
  },
  {
   "attachments": {},
   "cell_type": "markdown",
   "metadata": {},
   "source": [
    "### 2.1 GridSearch"
   ]
  },
  {
   "cell_type": "code",
   "execution_count": 119,
   "metadata": {},
   "outputs": [],
   "source": [
    "params_grid = {\n",
    "    'n_estimators': np.arange(100, 301, 100),\n",
    "    'max_depth': np.arange(10, 26, 5),\n",
    "    'min_samples_leaf': np.arange(3, 13, 3)\n",
    "}"
   ]
  },
  {
   "cell_type": "code",
   "execution_count": 120,
   "metadata": {},
   "outputs": [
    {
     "name": "stdout",
     "output_type": "stream",
     "text": [
      "CPU times: total: 6.2 s\n",
      "Wall time: 2min 20s\n",
      "Найденные GSearch гиперпараметры, относительно метрики f1 score: {'max_depth': 20, 'min_samples_leaf': 3, 'n_estimators': 300}\n",
      "f1 score на тренировочной выборке: 0.9732420659614188\n",
      "f1 score на тестовой выборке: 0.8375870069605568\n"
     ]
    }
   ],
   "source": [
    "gs_rforest = GridSearchCV(\n",
    "    estimator=RandomForestClassifier(random_state=R_STATE),\n",
    "    param_grid=params_grid,\n",
    "    cv=5,\n",
    "    n_jobs=-1,\n",
    "    scoring='f1'\n",
    ")\n",
    "%time gs_rforest.fit(X_train, y_train)\n",
    "train_preds = gs_rforest.predict(X_train)\n",
    "test_preds = gs_rforest.predict(X_test)\n",
    "print(f\"Найденные GSearch гиперпараметры, относительно метрики f1 score: {gs_rforest.best_params_}\")\n",
    "print(f\"f1 score на тренировочной выборке: {metrics.f1_score(y_train, train_preds)}\")\n",
    "print(f\"f1 score на тестовой выборке: {metrics.f1_score(y_test, test_preds)}\")\n"
   ]
  },
  {
   "attachments": {},
   "cell_type": "markdown",
   "metadata": {},
   "source": [
    "### 2.2 RandomizedSearch"
   ]
  },
  {
   "cell_type": "code",
   "execution_count": 121,
   "metadata": {},
   "outputs": [
    {
     "name": "stdout",
     "output_type": "stream",
     "text": [
      "CPU times: total: 5.06 s\n",
      "Wall time: 55.3 s\n",
      "Найденные RSearch гиперпараметры, относительно метрики f1 score: {'n_estimators': 300, 'min_samples_leaf': 3, 'max_depth': 20}\n",
      "f1 score на тренировочной выборке: 0.9732420659614188\n",
      "f1 score на тестовой выборке: 0.8375870069605568\n"
     ]
    }
   ],
   "source": [
    "rs_forest = RandomizedSearchCV(\n",
    "    estimator=RandomForestClassifier(random_state=R_STATE),\n",
    "    param_distributions=params_grid,\n",
    "    cv=5, \n",
    "    n_jobs=-1,\n",
    "    n_iter=20,\n",
    "    scoring='f1',\n",
    "    random_state=R_STATE\n",
    ")\n",
    "%time rs_forest.fit(X_train, y_train)\n",
    "train_preds = rs_forest.predict(X_train)\n",
    "test_preds = rs_forest.predict(X_test)\n",
    "print(f\"Найденные RSearch гиперпараметры, относительно метрики f1 score: {rs_forest.best_params_}\")\n",
    "print(f\"f1 score на тренировочной выборке: {metrics.f1_score(y_train, train_preds)}\")\n",
    "print(f\"f1 score на тестовой выборке: {metrics.f1_score(y_test, test_preds)}\")"
   ]
  },
  {
   "attachments": {},
   "cell_type": "markdown",
   "metadata": {},
   "source": [
    "### 2.3 Hyperopt"
   ]
  },
  {
   "cell_type": "code",
   "execution_count": 122,
   "metadata": {},
   "outputs": [],
   "source": [
    "space = {\n",
    "    'criterion': hp.choice('criterion', ['gini', 'entropy']),\n",
    "    'n_estimators': hp.quniform('n_estimators', 100, 300, 10),\n",
    "    'max_depth': hp.quniform('max_depth', 10, 25, 1),\n",
    "    'min_samples_leaf': hp.quniform('min_samples_leaf', 3, 12, 2)\n",
    "}"
   ]
  },
  {
   "cell_type": "code",
   "execution_count": 123,
   "metadata": {},
   "outputs": [],
   "source": [
    "def hyperpt_rforest(params, X, y):\n",
    "    params_int = {key: int(params[key]) for key in params.keys() if key != 'criterion'}\n",
    "    params_int['criterion'] = params['criterion']\n",
    "    model = RandomForestClassifier(**params_int, random_state=R_STATE)\n",
    "    score = cross_val_score(model, X, y, scoring='f1', cv=5, n_jobs=-1).mean()\n",
    "    return {'loss': -score, 'params': params_int, 'status': STATUS_OK}"
   ]
  },
  {
   "cell_type": "code",
   "execution_count": 124,
   "metadata": {},
   "outputs": [
    {
     "name": "stderr",
     "output_type": "stream",
     "text": [
      "TPE is being used as the default algorithm.\n"
     ]
    },
    {
     "name": "stdout",
     "output_type": "stream",
     "text": [
      "100%|██████████| 20/20 [01:09<00:00,  3.49s/trial, best loss: -0.8062003307934382]\n"
     ]
    }
   ],
   "source": [
    "trials = Trials()\n",
    "best = fmin(\n",
    "    fn=partial(hyperpt_rforest, X=X_train, y=y_train),\n",
    "    max_evals=20,\n",
    "    trials=trials,\n",
    "    space=space,\n",
    "    rstate=np.random.default_rng(R_STATE)\n",
    ")"
   ]
  },
  {
   "cell_type": "code",
   "execution_count": 125,
   "metadata": {},
   "outputs": [
    {
     "name": "stdout",
     "output_type": "stream",
     "text": [
      "Найденные Hyperopt гиперпараметры, относительно метрики f1 score: {'max_depth': 19, 'min_samples_leaf': 4, 'n_estimators': 130, 'criterion': 'entropy'}\n"
     ]
    }
   ],
   "source": [
    "best_params = trials.best_trial['result']['params']\n",
    "print(f\"Найденные Hyperopt гиперпараметры, относительно метрики f1 score: {best_params}\")"
   ]
  },
  {
   "cell_type": "code",
   "execution_count": 126,
   "metadata": {},
   "outputs": [
    {
     "name": "stdout",
     "output_type": "stream",
     "text": [
      "f1 score на тренировочной выборке: 0.9605467536502019\n",
      "f1 score на тестовой выборке: 0.8321839080459771\n"
     ]
    }
   ],
   "source": [
    "model = RandomForestClassifier(**best_params, random_state=R_STATE)\n",
    "model.fit(X_train,y_train)\n",
    "train_preds = model.predict(X_train)\n",
    "test_preds = model.predict(X_test)\n",
    "print(f\"f1 score на тренировочной выборке: {metrics.f1_score(y_train, train_preds)}\")\n",
    "print(f\"f1 score на тестовой выборке: {metrics.f1_score(y_test, test_preds)}\")"
   ]
  },
  {
   "attachments": {},
   "cell_type": "markdown",
   "metadata": {},
   "source": [
    "### 2.4 Optuna"
   ]
  },
  {
   "cell_type": "code",
   "execution_count": 127,
   "metadata": {},
   "outputs": [],
   "source": [
    "def optuna_forest(trial: optuna.Trial, X, y):\n",
    "    params = {\n",
    "        'criterion': trial.suggest_categorical('criterion', ['gini', 'entropy']),\n",
    "        'n_estimators': trial.suggest_int('n_estimators', 100, 300, 10),\n",
    "        'max_depth': trial.suggest_int('max_depth', 10, 25, 1),\n",
    "        'min_samples_leaf': trial.suggest_int('min_samples_leaf', 3, 13, 2)\n",
    "    }\n",
    "    model = RandomForestClassifier(**params, random_state=R_STATE)\n",
    "    score = cross_val_score(model, X, y, scoring='f1', n_jobs=-1, cv=5).mean()\n",
    "    return score"
   ]
  },
  {
   "cell_type": "code",
   "execution_count": 128,
   "metadata": {},
   "outputs": [
    {
     "name": "stderr",
     "output_type": "stream",
     "text": [
      "\u001b[32m[I 2023-05-26 22:39:07,584]\u001b[0m A new study created in memory with name: random_forest_optuna\u001b[0m\n",
      "c:\\Users\\mblyz\\AppData\\Local\\Programs\\Python\\Python310\\lib\\site-packages\\optuna\\progress_bar.py:56: ExperimentalWarning: Progress bar is experimental (supported from v1.2.0). The interface can change in the future.\n",
      "  self._init_valid()\n"
     ]
    },
    {
     "data": {
      "application/vnd.jupyter.widget-view+json": {
       "model_id": "1b8b44494d8e4eaf84a79947a6c51eff",
       "version_major": 2,
       "version_minor": 0
      },
      "text/plain": [
       "  0%|          | 0/20 [00:00<?, ?it/s]"
      ]
     },
     "metadata": {},
     "output_type": "display_data"
    },
    {
     "name": "stdout",
     "output_type": "stream",
     "text": [
      "\u001b[32m[I 2023-05-26 22:39:10,557]\u001b[0m Trial 0 finished with value: 0.7970879707323579 and parameters: {'criterion': 'entropy', 'n_estimators': 150, 'max_depth': 12, 'min_samples_leaf': 9}. Best is trial 0 with value: 0.7970879707323579.\u001b[0m\n",
      "\u001b[32m[I 2023-05-26 22:39:13,127]\u001b[0m Trial 1 finished with value: 0.804631994301371 and parameters: {'criterion': 'gini', 'n_estimators': 100, 'max_depth': 19, 'min_samples_leaf': 3}. Best is trial 1 with value: 0.804631994301371.\u001b[0m\n",
      "\u001b[32m[I 2023-05-26 22:39:15,238]\u001b[0m Trial 2 finished with value: 0.7958067892766543 and parameters: {'criterion': 'entropy', 'n_estimators': 100, 'max_depth': 17, 'min_samples_leaf': 9}. Best is trial 1 with value: 0.804631994301371.\u001b[0m\n",
      "\u001b[32m[I 2023-05-26 22:39:20,570]\u001b[0m Trial 3 finished with value: 0.7989577104556662 and parameters: {'criterion': 'gini', 'n_estimators': 270, 'max_depth': 19, 'min_samples_leaf': 7}. Best is trial 1 with value: 0.804631994301371.\u001b[0m\n",
      "\u001b[32m[I 2023-05-26 22:39:25,910]\u001b[0m Trial 4 finished with value: 0.7940666763317081 and parameters: {'criterion': 'gini', 'n_estimators': 210, 'max_depth': 22, 'min_samples_leaf': 9}. Best is trial 1 with value: 0.804631994301371.\u001b[0m\n",
      "\u001b[32m[I 2023-05-26 22:39:30,241]\u001b[0m Trial 5 finished with value: 0.7890177112802896 and parameters: {'criterion': 'gini', 'n_estimators': 250, 'max_depth': 24, 'min_samples_leaf': 13}. Best is trial 1 with value: 0.804631994301371.\u001b[0m\n",
      "\u001b[32m[I 2023-05-26 22:39:32,856]\u001b[0m Trial 6 finished with value: 0.79746282402096 and parameters: {'criterion': 'gini', 'n_estimators': 120, 'max_depth': 22, 'min_samples_leaf': 7}. Best is trial 1 with value: 0.804631994301371.\u001b[0m\n",
      "\u001b[32m[I 2023-05-26 22:39:35,850]\u001b[0m Trial 7 finished with value: 0.7915534259530402 and parameters: {'criterion': 'entropy', 'n_estimators': 150, 'max_depth': 11, 'min_samples_leaf': 7}. Best is trial 1 with value: 0.804631994301371.\u001b[0m\n",
      "\u001b[32m[I 2023-05-26 22:39:39,065]\u001b[0m Trial 8 finished with value: 0.7886694541572352 and parameters: {'criterion': 'entropy', 'n_estimators': 180, 'max_depth': 20, 'min_samples_leaf': 11}. Best is trial 1 with value: 0.804631994301371.\u001b[0m\n",
      "\u001b[32m[I 2023-05-26 22:39:43,121]\u001b[0m Trial 9 finished with value: 0.7979477505329565 and parameters: {'criterion': 'gini', 'n_estimators': 230, 'max_depth': 18, 'min_samples_leaf': 7}. Best is trial 1 with value: 0.804631994301371.\u001b[0m\n",
      "\u001b[32m[I 2023-05-26 22:39:49,425]\u001b[0m Trial 10 finished with value: 0.8067289441625467 and parameters: {'criterion': 'gini', 'n_estimators': 300, 'max_depth': 15, 'min_samples_leaf': 3}. Best is trial 10 with value: 0.8067289441625467.\u001b[0m\n",
      "\u001b[32m[I 2023-05-26 22:39:55,207]\u001b[0m Trial 11 finished with value: 0.8067782634702937 and parameters: {'criterion': 'gini', 'n_estimators': 290, 'max_depth': 15, 'min_samples_leaf': 3}. Best is trial 11 with value: 0.8067782634702937.\u001b[0m\n",
      "\u001b[32m[I 2023-05-26 22:40:00,989]\u001b[0m Trial 12 finished with value: 0.8052855529543477 and parameters: {'criterion': 'gini', 'n_estimators': 300, 'max_depth': 14, 'min_samples_leaf': 3}. Best is trial 11 with value: 0.8067782634702937.\u001b[0m\n",
      "\u001b[32m[I 2023-05-26 22:40:06,844]\u001b[0m Trial 13 finished with value: 0.8067289441625467 and parameters: {'criterion': 'gini', 'n_estimators': 300, 'max_depth': 15, 'min_samples_leaf': 3}. Best is trial 11 with value: 0.8067782634702937.\u001b[0m\n",
      "\u001b[32m[I 2023-05-26 22:40:11,768]\u001b[0m Trial 14 finished with value: 0.8032587622197106 and parameters: {'criterion': 'gini', 'n_estimators': 270, 'max_depth': 15, 'min_samples_leaf': 5}. Best is trial 11 with value: 0.8067782634702937.\u001b[0m\n",
      "\u001b[32m[I 2023-05-26 22:40:16,629]\u001b[0m Trial 15 finished with value: 0.7993459148283304 and parameters: {'criterion': 'gini', 'n_estimators': 270, 'max_depth': 13, 'min_samples_leaf': 5}. Best is trial 11 with value: 0.8067782634702937.\u001b[0m\n",
      "\u001b[32m[I 2023-05-26 22:40:21,276]\u001b[0m Trial 16 finished with value: 0.7970680593341817 and parameters: {'criterion': 'gini', 'n_estimators': 300, 'max_depth': 10, 'min_samples_leaf': 5}. Best is trial 11 with value: 0.8067782634702937.\u001b[0m\n",
      "\u001b[32m[I 2023-05-26 22:40:26,257]\u001b[0m Trial 17 finished with value: 0.8084355562205662 and parameters: {'criterion': 'gini', 'n_estimators': 240, 'max_depth': 16, 'min_samples_leaf': 3}. Best is trial 17 with value: 0.8084355562205662.\u001b[0m\n",
      "\u001b[32m[I 2023-05-26 22:40:31,126]\u001b[0m Trial 18 finished with value: 0.8037408122026604 and parameters: {'criterion': 'entropy', 'n_estimators': 240, 'max_depth': 17, 'min_samples_leaf': 5}. Best is trial 17 with value: 0.8084355562205662.\u001b[0m\n",
      "\u001b[32m[I 2023-05-26 22:40:36,802]\u001b[0m Trial 19 finished with value: 0.8078278452259694 and parameters: {'criterion': 'gini', 'n_estimators': 210, 'max_depth': 16, 'min_samples_leaf': 3}. Best is trial 17 with value: 0.8084355562205662.\u001b[0m\n"
     ]
    }
   ],
   "source": [
    "study = optuna.create_study(\n",
    "    study_name='random_forest_optuna',\n",
    "    direction='maximize',\n",
    ")\n",
    "study.optimize(\n",
    "    func=partial(optuna_forest, X=X_train, y=y_train),\n",
    "    n_trials=20,\n",
    "    show_progress_bar=True\n",
    ")"
   ]
  },
  {
   "cell_type": "code",
   "execution_count": 129,
   "metadata": {},
   "outputs": [
    {
     "name": "stdout",
     "output_type": "stream",
     "text": [
      "Наилучшая комбинация гиперпараметров, относительно метрики f1 score: {'criterion': 'gini', 'n_estimators': 240, 'max_depth': 16, 'min_samples_leaf': 3}\n"
     ]
    }
   ],
   "source": [
    "print(f\"Наилучшая комбинация гиперпараметров, относительно метрики f1 score: {study.best_params}\")"
   ]
  },
  {
   "cell_type": "code",
   "execution_count": 130,
   "metadata": {},
   "outputs": [
    {
     "name": "stdout",
     "output_type": "stream",
     "text": [
      "f1 score на тренировочной выборке: 0.964874106310227\n",
      "f1 score на тестовой выборке: 0.8389339513325608\n"
     ]
    }
   ],
   "source": [
    "model = RandomForestClassifier(**study.best_params, random_state=R_STATE)\n",
    "model.fit(X_train,y_train)\n",
    "train_preds = model.predict(X_train)\n",
    "test_preds = model.predict(X_test)\n",
    "print(f\"f1 score на тренировочной выборке: {metrics.f1_score(y_train, train_preds)}\")\n",
    "print(f\"f1 score на тестовой выборке: {metrics.f1_score(y_test, test_preds)}\")"
   ]
  },
  {
   "cell_type": "code",
   "execution_count": 135,
   "metadata": {},
   "outputs": [
    {
     "data": {
      "application/vnd.plotly.v1+json": {
       "config": {
        "plotlyServerURL": "https://plot.ly"
       },
       "data": [
        {
         "mode": "markers",
         "name": "f1 score",
         "type": "scatter",
         "x": [
          0,
          1,
          2,
          3,
          4,
          5,
          6,
          7,
          8,
          9,
          10,
          11,
          12,
          13,
          14,
          15,
          16,
          17,
          18,
          19
         ],
         "y": [
          0.7970879707323579,
          0.804631994301371,
          0.7958067892766543,
          0.7989577104556662,
          0.7940666763317081,
          0.7890177112802896,
          0.79746282402096,
          0.7915534259530402,
          0.7886694541572352,
          0.7979477505329565,
          0.8067289441625467,
          0.8067782634702937,
          0.8052855529543477,
          0.8067289441625467,
          0.8032587622197106,
          0.7993459148283304,
          0.7970680593341817,
          0.8084355562205662,
          0.8037408122026604,
          0.8078278452259694
         ]
        },
        {
         "name": "Best Value",
         "type": "scatter",
         "x": [
          0,
          1,
          2,
          3,
          4,
          5,
          6,
          7,
          8,
          9,
          10,
          11,
          12,
          13,
          14,
          15,
          16,
          17,
          18,
          19
         ],
         "y": [
          0.7970879707323579,
          0.804631994301371,
          0.804631994301371,
          0.804631994301371,
          0.804631994301371,
          0.804631994301371,
          0.804631994301371,
          0.804631994301371,
          0.804631994301371,
          0.804631994301371,
          0.8067289441625467,
          0.8067782634702937,
          0.8067782634702937,
          0.8067782634702937,
          0.8067782634702937,
          0.8067782634702937,
          0.8067782634702937,
          0.8084355562205662,
          0.8084355562205662,
          0.8084355562205662
         ]
        }
       ],
       "layout": {
        "template": {
         "data": {
          "bar": [
           {
            "error_x": {
             "color": "#2a3f5f"
            },
            "error_y": {
             "color": "#2a3f5f"
            },
            "marker": {
             "line": {
              "color": "#E5ECF6",
              "width": 0.5
             },
             "pattern": {
              "fillmode": "overlay",
              "size": 10,
              "solidity": 0.2
             }
            },
            "type": "bar"
           }
          ],
          "barpolar": [
           {
            "marker": {
             "line": {
              "color": "#E5ECF6",
              "width": 0.5
             },
             "pattern": {
              "fillmode": "overlay",
              "size": 10,
              "solidity": 0.2
             }
            },
            "type": "barpolar"
           }
          ],
          "carpet": [
           {
            "aaxis": {
             "endlinecolor": "#2a3f5f",
             "gridcolor": "white",
             "linecolor": "white",
             "minorgridcolor": "white",
             "startlinecolor": "#2a3f5f"
            },
            "baxis": {
             "endlinecolor": "#2a3f5f",
             "gridcolor": "white",
             "linecolor": "white",
             "minorgridcolor": "white",
             "startlinecolor": "#2a3f5f"
            },
            "type": "carpet"
           }
          ],
          "choropleth": [
           {
            "colorbar": {
             "outlinewidth": 0,
             "ticks": ""
            },
            "type": "choropleth"
           }
          ],
          "contour": [
           {
            "colorbar": {
             "outlinewidth": 0,
             "ticks": ""
            },
            "colorscale": [
             [
              0,
              "#0d0887"
             ],
             [
              0.1111111111111111,
              "#46039f"
             ],
             [
              0.2222222222222222,
              "#7201a8"
             ],
             [
              0.3333333333333333,
              "#9c179e"
             ],
             [
              0.4444444444444444,
              "#bd3786"
             ],
             [
              0.5555555555555556,
              "#d8576b"
             ],
             [
              0.6666666666666666,
              "#ed7953"
             ],
             [
              0.7777777777777778,
              "#fb9f3a"
             ],
             [
              0.8888888888888888,
              "#fdca26"
             ],
             [
              1,
              "#f0f921"
             ]
            ],
            "type": "contour"
           }
          ],
          "contourcarpet": [
           {
            "colorbar": {
             "outlinewidth": 0,
             "ticks": ""
            },
            "type": "contourcarpet"
           }
          ],
          "heatmap": [
           {
            "colorbar": {
             "outlinewidth": 0,
             "ticks": ""
            },
            "colorscale": [
             [
              0,
              "#0d0887"
             ],
             [
              0.1111111111111111,
              "#46039f"
             ],
             [
              0.2222222222222222,
              "#7201a8"
             ],
             [
              0.3333333333333333,
              "#9c179e"
             ],
             [
              0.4444444444444444,
              "#bd3786"
             ],
             [
              0.5555555555555556,
              "#d8576b"
             ],
             [
              0.6666666666666666,
              "#ed7953"
             ],
             [
              0.7777777777777778,
              "#fb9f3a"
             ],
             [
              0.8888888888888888,
              "#fdca26"
             ],
             [
              1,
              "#f0f921"
             ]
            ],
            "type": "heatmap"
           }
          ],
          "heatmapgl": [
           {
            "colorbar": {
             "outlinewidth": 0,
             "ticks": ""
            },
            "colorscale": [
             [
              0,
              "#0d0887"
             ],
             [
              0.1111111111111111,
              "#46039f"
             ],
             [
              0.2222222222222222,
              "#7201a8"
             ],
             [
              0.3333333333333333,
              "#9c179e"
             ],
             [
              0.4444444444444444,
              "#bd3786"
             ],
             [
              0.5555555555555556,
              "#d8576b"
             ],
             [
              0.6666666666666666,
              "#ed7953"
             ],
             [
              0.7777777777777778,
              "#fb9f3a"
             ],
             [
              0.8888888888888888,
              "#fdca26"
             ],
             [
              1,
              "#f0f921"
             ]
            ],
            "type": "heatmapgl"
           }
          ],
          "histogram": [
           {
            "marker": {
             "pattern": {
              "fillmode": "overlay",
              "size": 10,
              "solidity": 0.2
             }
            },
            "type": "histogram"
           }
          ],
          "histogram2d": [
           {
            "colorbar": {
             "outlinewidth": 0,
             "ticks": ""
            },
            "colorscale": [
             [
              0,
              "#0d0887"
             ],
             [
              0.1111111111111111,
              "#46039f"
             ],
             [
              0.2222222222222222,
              "#7201a8"
             ],
             [
              0.3333333333333333,
              "#9c179e"
             ],
             [
              0.4444444444444444,
              "#bd3786"
             ],
             [
              0.5555555555555556,
              "#d8576b"
             ],
             [
              0.6666666666666666,
              "#ed7953"
             ],
             [
              0.7777777777777778,
              "#fb9f3a"
             ],
             [
              0.8888888888888888,
              "#fdca26"
             ],
             [
              1,
              "#f0f921"
             ]
            ],
            "type": "histogram2d"
           }
          ],
          "histogram2dcontour": [
           {
            "colorbar": {
             "outlinewidth": 0,
             "ticks": ""
            },
            "colorscale": [
             [
              0,
              "#0d0887"
             ],
             [
              0.1111111111111111,
              "#46039f"
             ],
             [
              0.2222222222222222,
              "#7201a8"
             ],
             [
              0.3333333333333333,
              "#9c179e"
             ],
             [
              0.4444444444444444,
              "#bd3786"
             ],
             [
              0.5555555555555556,
              "#d8576b"
             ],
             [
              0.6666666666666666,
              "#ed7953"
             ],
             [
              0.7777777777777778,
              "#fb9f3a"
             ],
             [
              0.8888888888888888,
              "#fdca26"
             ],
             [
              1,
              "#f0f921"
             ]
            ],
            "type": "histogram2dcontour"
           }
          ],
          "mesh3d": [
           {
            "colorbar": {
             "outlinewidth": 0,
             "ticks": ""
            },
            "type": "mesh3d"
           }
          ],
          "parcoords": [
           {
            "line": {
             "colorbar": {
              "outlinewidth": 0,
              "ticks": ""
             }
            },
            "type": "parcoords"
           }
          ],
          "pie": [
           {
            "automargin": true,
            "type": "pie"
           }
          ],
          "scatter": [
           {
            "fillpattern": {
             "fillmode": "overlay",
             "size": 10,
             "solidity": 0.2
            },
            "type": "scatter"
           }
          ],
          "scatter3d": [
           {
            "line": {
             "colorbar": {
              "outlinewidth": 0,
              "ticks": ""
             }
            },
            "marker": {
             "colorbar": {
              "outlinewidth": 0,
              "ticks": ""
             }
            },
            "type": "scatter3d"
           }
          ],
          "scattercarpet": [
           {
            "marker": {
             "colorbar": {
              "outlinewidth": 0,
              "ticks": ""
             }
            },
            "type": "scattercarpet"
           }
          ],
          "scattergeo": [
           {
            "marker": {
             "colorbar": {
              "outlinewidth": 0,
              "ticks": ""
             }
            },
            "type": "scattergeo"
           }
          ],
          "scattergl": [
           {
            "marker": {
             "colorbar": {
              "outlinewidth": 0,
              "ticks": ""
             }
            },
            "type": "scattergl"
           }
          ],
          "scattermapbox": [
           {
            "marker": {
             "colorbar": {
              "outlinewidth": 0,
              "ticks": ""
             }
            },
            "type": "scattermapbox"
           }
          ],
          "scatterpolar": [
           {
            "marker": {
             "colorbar": {
              "outlinewidth": 0,
              "ticks": ""
             }
            },
            "type": "scatterpolar"
           }
          ],
          "scatterpolargl": [
           {
            "marker": {
             "colorbar": {
              "outlinewidth": 0,
              "ticks": ""
             }
            },
            "type": "scatterpolargl"
           }
          ],
          "scatterternary": [
           {
            "marker": {
             "colorbar": {
              "outlinewidth": 0,
              "ticks": ""
             }
            },
            "type": "scatterternary"
           }
          ],
          "surface": [
           {
            "colorbar": {
             "outlinewidth": 0,
             "ticks": ""
            },
            "colorscale": [
             [
              0,
              "#0d0887"
             ],
             [
              0.1111111111111111,
              "#46039f"
             ],
             [
              0.2222222222222222,
              "#7201a8"
             ],
             [
              0.3333333333333333,
              "#9c179e"
             ],
             [
              0.4444444444444444,
              "#bd3786"
             ],
             [
              0.5555555555555556,
              "#d8576b"
             ],
             [
              0.6666666666666666,
              "#ed7953"
             ],
             [
              0.7777777777777778,
              "#fb9f3a"
             ],
             [
              0.8888888888888888,
              "#fdca26"
             ],
             [
              1,
              "#f0f921"
             ]
            ],
            "type": "surface"
           }
          ],
          "table": [
           {
            "cells": {
             "fill": {
              "color": "#EBF0F8"
             },
             "line": {
              "color": "white"
             }
            },
            "header": {
             "fill": {
              "color": "#C8D4E3"
             },
             "line": {
              "color": "white"
             }
            },
            "type": "table"
           }
          ]
         },
         "layout": {
          "annotationdefaults": {
           "arrowcolor": "#2a3f5f",
           "arrowhead": 0,
           "arrowwidth": 1
          },
          "autotypenumbers": "strict",
          "coloraxis": {
           "colorbar": {
            "outlinewidth": 0,
            "ticks": ""
           }
          },
          "colorscale": {
           "diverging": [
            [
             0,
             "#8e0152"
            ],
            [
             0.1,
             "#c51b7d"
            ],
            [
             0.2,
             "#de77ae"
            ],
            [
             0.3,
             "#f1b6da"
            ],
            [
             0.4,
             "#fde0ef"
            ],
            [
             0.5,
             "#f7f7f7"
            ],
            [
             0.6,
             "#e6f5d0"
            ],
            [
             0.7,
             "#b8e186"
            ],
            [
             0.8,
             "#7fbc41"
            ],
            [
             0.9,
             "#4d9221"
            ],
            [
             1,
             "#276419"
            ]
           ],
           "sequential": [
            [
             0,
             "#0d0887"
            ],
            [
             0.1111111111111111,
             "#46039f"
            ],
            [
             0.2222222222222222,
             "#7201a8"
            ],
            [
             0.3333333333333333,
             "#9c179e"
            ],
            [
             0.4444444444444444,
             "#bd3786"
            ],
            [
             0.5555555555555556,
             "#d8576b"
            ],
            [
             0.6666666666666666,
             "#ed7953"
            ],
            [
             0.7777777777777778,
             "#fb9f3a"
            ],
            [
             0.8888888888888888,
             "#fdca26"
            ],
            [
             1,
             "#f0f921"
            ]
           ],
           "sequentialminus": [
            [
             0,
             "#0d0887"
            ],
            [
             0.1111111111111111,
             "#46039f"
            ],
            [
             0.2222222222222222,
             "#7201a8"
            ],
            [
             0.3333333333333333,
             "#9c179e"
            ],
            [
             0.4444444444444444,
             "#bd3786"
            ],
            [
             0.5555555555555556,
             "#d8576b"
            ],
            [
             0.6666666666666666,
             "#ed7953"
            ],
            [
             0.7777777777777778,
             "#fb9f3a"
            ],
            [
             0.8888888888888888,
             "#fdca26"
            ],
            [
             1,
             "#f0f921"
            ]
           ]
          },
          "colorway": [
           "#636efa",
           "#EF553B",
           "#00cc96",
           "#ab63fa",
           "#FFA15A",
           "#19d3f3",
           "#FF6692",
           "#B6E880",
           "#FF97FF",
           "#FECB52"
          ],
          "font": {
           "color": "#2a3f5f"
          },
          "geo": {
           "bgcolor": "white",
           "lakecolor": "white",
           "landcolor": "#E5ECF6",
           "showlakes": true,
           "showland": true,
           "subunitcolor": "white"
          },
          "hoverlabel": {
           "align": "left"
          },
          "hovermode": "closest",
          "mapbox": {
           "style": "light"
          },
          "paper_bgcolor": "white",
          "plot_bgcolor": "#E5ECF6",
          "polar": {
           "angularaxis": {
            "gridcolor": "white",
            "linecolor": "white",
            "ticks": ""
           },
           "bgcolor": "#E5ECF6",
           "radialaxis": {
            "gridcolor": "white",
            "linecolor": "white",
            "ticks": ""
           }
          },
          "scene": {
           "xaxis": {
            "backgroundcolor": "#E5ECF6",
            "gridcolor": "white",
            "gridwidth": 2,
            "linecolor": "white",
            "showbackground": true,
            "ticks": "",
            "zerolinecolor": "white"
           },
           "yaxis": {
            "backgroundcolor": "#E5ECF6",
            "gridcolor": "white",
            "gridwidth": 2,
            "linecolor": "white",
            "showbackground": true,
            "ticks": "",
            "zerolinecolor": "white"
           },
           "zaxis": {
            "backgroundcolor": "#E5ECF6",
            "gridcolor": "white",
            "gridwidth": 2,
            "linecolor": "white",
            "showbackground": true,
            "ticks": "",
            "zerolinecolor": "white"
           }
          },
          "shapedefaults": {
           "line": {
            "color": "#2a3f5f"
           }
          },
          "ternary": {
           "aaxis": {
            "gridcolor": "white",
            "linecolor": "white",
            "ticks": ""
           },
           "baxis": {
            "gridcolor": "white",
            "linecolor": "white",
            "ticks": ""
           },
           "bgcolor": "#E5ECF6",
           "caxis": {
            "gridcolor": "white",
            "linecolor": "white",
            "ticks": ""
           }
          },
          "title": {
           "x": 0.05
          },
          "xaxis": {
           "automargin": true,
           "gridcolor": "white",
           "linecolor": "white",
           "ticks": "",
           "title": {
            "standoff": 15
           },
           "zerolinecolor": "white",
           "zerolinewidth": 2
          },
          "yaxis": {
           "automargin": true,
           "gridcolor": "white",
           "linecolor": "white",
           "ticks": "",
           "title": {
            "standoff": 15
           },
           "zerolinecolor": "white",
           "zerolinewidth": 2
          }
         }
        },
        "title": {
         "text": "Optimization History Plot"
        },
        "xaxis": {
         "title": {
          "text": "Trial"
         }
        },
        "yaxis": {
         "title": {
          "text": "f1 score"
         }
        }
       }
      }
     },
     "metadata": {},
     "output_type": "display_data"
    }
   ],
   "source": [
    "optuna.visualization.plot_optimization_history(study, target_name='f1 score')"
   ]
  },
  {
   "cell_type": "code",
   "execution_count": 137,
   "metadata": {},
   "outputs": [
    {
     "data": {
      "application/vnd.plotly.v1+json": {
       "config": {
        "plotlyServerURL": "https://plot.ly"
       },
       "data": [
        {
         "cliponaxis": false,
         "hovertemplate": [
          "criterion (CategoricalDistribution): 0.03532630080971856<extra></extra>",
          "n_estimators (IntDistribution): 0.07284873722050936<extra></extra>",
          "max_depth (IntDistribution): 0.0777926607535739<extra></extra>",
          "min_samples_leaf (IntDistribution): 0.8140323012161983<extra></extra>"
         ],
         "marker": {
          "color": "rgb(66,146,198)"
         },
         "orientation": "h",
         "text": [
          "0.04",
          "0.07",
          "0.08",
          "0.81"
         ],
         "textposition": "outside",
         "type": "bar",
         "x": [
          0.03532630080971856,
          0.07284873722050936,
          0.0777926607535739,
          0.8140323012161983
         ],
         "y": [
          "criterion",
          "n_estimators",
          "max_depth",
          "min_samples_leaf"
         ]
        }
       ],
       "layout": {
        "showlegend": false,
        "template": {
         "data": {
          "bar": [
           {
            "error_x": {
             "color": "#2a3f5f"
            },
            "error_y": {
             "color": "#2a3f5f"
            },
            "marker": {
             "line": {
              "color": "#E5ECF6",
              "width": 0.5
             },
             "pattern": {
              "fillmode": "overlay",
              "size": 10,
              "solidity": 0.2
             }
            },
            "type": "bar"
           }
          ],
          "barpolar": [
           {
            "marker": {
             "line": {
              "color": "#E5ECF6",
              "width": 0.5
             },
             "pattern": {
              "fillmode": "overlay",
              "size": 10,
              "solidity": 0.2
             }
            },
            "type": "barpolar"
           }
          ],
          "carpet": [
           {
            "aaxis": {
             "endlinecolor": "#2a3f5f",
             "gridcolor": "white",
             "linecolor": "white",
             "minorgridcolor": "white",
             "startlinecolor": "#2a3f5f"
            },
            "baxis": {
             "endlinecolor": "#2a3f5f",
             "gridcolor": "white",
             "linecolor": "white",
             "minorgridcolor": "white",
             "startlinecolor": "#2a3f5f"
            },
            "type": "carpet"
           }
          ],
          "choropleth": [
           {
            "colorbar": {
             "outlinewidth": 0,
             "ticks": ""
            },
            "type": "choropleth"
           }
          ],
          "contour": [
           {
            "colorbar": {
             "outlinewidth": 0,
             "ticks": ""
            },
            "colorscale": [
             [
              0,
              "#0d0887"
             ],
             [
              0.1111111111111111,
              "#46039f"
             ],
             [
              0.2222222222222222,
              "#7201a8"
             ],
             [
              0.3333333333333333,
              "#9c179e"
             ],
             [
              0.4444444444444444,
              "#bd3786"
             ],
             [
              0.5555555555555556,
              "#d8576b"
             ],
             [
              0.6666666666666666,
              "#ed7953"
             ],
             [
              0.7777777777777778,
              "#fb9f3a"
             ],
             [
              0.8888888888888888,
              "#fdca26"
             ],
             [
              1,
              "#f0f921"
             ]
            ],
            "type": "contour"
           }
          ],
          "contourcarpet": [
           {
            "colorbar": {
             "outlinewidth": 0,
             "ticks": ""
            },
            "type": "contourcarpet"
           }
          ],
          "heatmap": [
           {
            "colorbar": {
             "outlinewidth": 0,
             "ticks": ""
            },
            "colorscale": [
             [
              0,
              "#0d0887"
             ],
             [
              0.1111111111111111,
              "#46039f"
             ],
             [
              0.2222222222222222,
              "#7201a8"
             ],
             [
              0.3333333333333333,
              "#9c179e"
             ],
             [
              0.4444444444444444,
              "#bd3786"
             ],
             [
              0.5555555555555556,
              "#d8576b"
             ],
             [
              0.6666666666666666,
              "#ed7953"
             ],
             [
              0.7777777777777778,
              "#fb9f3a"
             ],
             [
              0.8888888888888888,
              "#fdca26"
             ],
             [
              1,
              "#f0f921"
             ]
            ],
            "type": "heatmap"
           }
          ],
          "heatmapgl": [
           {
            "colorbar": {
             "outlinewidth": 0,
             "ticks": ""
            },
            "colorscale": [
             [
              0,
              "#0d0887"
             ],
             [
              0.1111111111111111,
              "#46039f"
             ],
             [
              0.2222222222222222,
              "#7201a8"
             ],
             [
              0.3333333333333333,
              "#9c179e"
             ],
             [
              0.4444444444444444,
              "#bd3786"
             ],
             [
              0.5555555555555556,
              "#d8576b"
             ],
             [
              0.6666666666666666,
              "#ed7953"
             ],
             [
              0.7777777777777778,
              "#fb9f3a"
             ],
             [
              0.8888888888888888,
              "#fdca26"
             ],
             [
              1,
              "#f0f921"
             ]
            ],
            "type": "heatmapgl"
           }
          ],
          "histogram": [
           {
            "marker": {
             "pattern": {
              "fillmode": "overlay",
              "size": 10,
              "solidity": 0.2
             }
            },
            "type": "histogram"
           }
          ],
          "histogram2d": [
           {
            "colorbar": {
             "outlinewidth": 0,
             "ticks": ""
            },
            "colorscale": [
             [
              0,
              "#0d0887"
             ],
             [
              0.1111111111111111,
              "#46039f"
             ],
             [
              0.2222222222222222,
              "#7201a8"
             ],
             [
              0.3333333333333333,
              "#9c179e"
             ],
             [
              0.4444444444444444,
              "#bd3786"
             ],
             [
              0.5555555555555556,
              "#d8576b"
             ],
             [
              0.6666666666666666,
              "#ed7953"
             ],
             [
              0.7777777777777778,
              "#fb9f3a"
             ],
             [
              0.8888888888888888,
              "#fdca26"
             ],
             [
              1,
              "#f0f921"
             ]
            ],
            "type": "histogram2d"
           }
          ],
          "histogram2dcontour": [
           {
            "colorbar": {
             "outlinewidth": 0,
             "ticks": ""
            },
            "colorscale": [
             [
              0,
              "#0d0887"
             ],
             [
              0.1111111111111111,
              "#46039f"
             ],
             [
              0.2222222222222222,
              "#7201a8"
             ],
             [
              0.3333333333333333,
              "#9c179e"
             ],
             [
              0.4444444444444444,
              "#bd3786"
             ],
             [
              0.5555555555555556,
              "#d8576b"
             ],
             [
              0.6666666666666666,
              "#ed7953"
             ],
             [
              0.7777777777777778,
              "#fb9f3a"
             ],
             [
              0.8888888888888888,
              "#fdca26"
             ],
             [
              1,
              "#f0f921"
             ]
            ],
            "type": "histogram2dcontour"
           }
          ],
          "mesh3d": [
           {
            "colorbar": {
             "outlinewidth": 0,
             "ticks": ""
            },
            "type": "mesh3d"
           }
          ],
          "parcoords": [
           {
            "line": {
             "colorbar": {
              "outlinewidth": 0,
              "ticks": ""
             }
            },
            "type": "parcoords"
           }
          ],
          "pie": [
           {
            "automargin": true,
            "type": "pie"
           }
          ],
          "scatter": [
           {
            "fillpattern": {
             "fillmode": "overlay",
             "size": 10,
             "solidity": 0.2
            },
            "type": "scatter"
           }
          ],
          "scatter3d": [
           {
            "line": {
             "colorbar": {
              "outlinewidth": 0,
              "ticks": ""
             }
            },
            "marker": {
             "colorbar": {
              "outlinewidth": 0,
              "ticks": ""
             }
            },
            "type": "scatter3d"
           }
          ],
          "scattercarpet": [
           {
            "marker": {
             "colorbar": {
              "outlinewidth": 0,
              "ticks": ""
             }
            },
            "type": "scattercarpet"
           }
          ],
          "scattergeo": [
           {
            "marker": {
             "colorbar": {
              "outlinewidth": 0,
              "ticks": ""
             }
            },
            "type": "scattergeo"
           }
          ],
          "scattergl": [
           {
            "marker": {
             "colorbar": {
              "outlinewidth": 0,
              "ticks": ""
             }
            },
            "type": "scattergl"
           }
          ],
          "scattermapbox": [
           {
            "marker": {
             "colorbar": {
              "outlinewidth": 0,
              "ticks": ""
             }
            },
            "type": "scattermapbox"
           }
          ],
          "scatterpolar": [
           {
            "marker": {
             "colorbar": {
              "outlinewidth": 0,
              "ticks": ""
             }
            },
            "type": "scatterpolar"
           }
          ],
          "scatterpolargl": [
           {
            "marker": {
             "colorbar": {
              "outlinewidth": 0,
              "ticks": ""
             }
            },
            "type": "scatterpolargl"
           }
          ],
          "scatterternary": [
           {
            "marker": {
             "colorbar": {
              "outlinewidth": 0,
              "ticks": ""
             }
            },
            "type": "scatterternary"
           }
          ],
          "surface": [
           {
            "colorbar": {
             "outlinewidth": 0,
             "ticks": ""
            },
            "colorscale": [
             [
              0,
              "#0d0887"
             ],
             [
              0.1111111111111111,
              "#46039f"
             ],
             [
              0.2222222222222222,
              "#7201a8"
             ],
             [
              0.3333333333333333,
              "#9c179e"
             ],
             [
              0.4444444444444444,
              "#bd3786"
             ],
             [
              0.5555555555555556,
              "#d8576b"
             ],
             [
              0.6666666666666666,
              "#ed7953"
             ],
             [
              0.7777777777777778,
              "#fb9f3a"
             ],
             [
              0.8888888888888888,
              "#fdca26"
             ],
             [
              1,
              "#f0f921"
             ]
            ],
            "type": "surface"
           }
          ],
          "table": [
           {
            "cells": {
             "fill": {
              "color": "#EBF0F8"
             },
             "line": {
              "color": "white"
             }
            },
            "header": {
             "fill": {
              "color": "#C8D4E3"
             },
             "line": {
              "color": "white"
             }
            },
            "type": "table"
           }
          ]
         },
         "layout": {
          "annotationdefaults": {
           "arrowcolor": "#2a3f5f",
           "arrowhead": 0,
           "arrowwidth": 1
          },
          "autotypenumbers": "strict",
          "coloraxis": {
           "colorbar": {
            "outlinewidth": 0,
            "ticks": ""
           }
          },
          "colorscale": {
           "diverging": [
            [
             0,
             "#8e0152"
            ],
            [
             0.1,
             "#c51b7d"
            ],
            [
             0.2,
             "#de77ae"
            ],
            [
             0.3,
             "#f1b6da"
            ],
            [
             0.4,
             "#fde0ef"
            ],
            [
             0.5,
             "#f7f7f7"
            ],
            [
             0.6,
             "#e6f5d0"
            ],
            [
             0.7,
             "#b8e186"
            ],
            [
             0.8,
             "#7fbc41"
            ],
            [
             0.9,
             "#4d9221"
            ],
            [
             1,
             "#276419"
            ]
           ],
           "sequential": [
            [
             0,
             "#0d0887"
            ],
            [
             0.1111111111111111,
             "#46039f"
            ],
            [
             0.2222222222222222,
             "#7201a8"
            ],
            [
             0.3333333333333333,
             "#9c179e"
            ],
            [
             0.4444444444444444,
             "#bd3786"
            ],
            [
             0.5555555555555556,
             "#d8576b"
            ],
            [
             0.6666666666666666,
             "#ed7953"
            ],
            [
             0.7777777777777778,
             "#fb9f3a"
            ],
            [
             0.8888888888888888,
             "#fdca26"
            ],
            [
             1,
             "#f0f921"
            ]
           ],
           "sequentialminus": [
            [
             0,
             "#0d0887"
            ],
            [
             0.1111111111111111,
             "#46039f"
            ],
            [
             0.2222222222222222,
             "#7201a8"
            ],
            [
             0.3333333333333333,
             "#9c179e"
            ],
            [
             0.4444444444444444,
             "#bd3786"
            ],
            [
             0.5555555555555556,
             "#d8576b"
            ],
            [
             0.6666666666666666,
             "#ed7953"
            ],
            [
             0.7777777777777778,
             "#fb9f3a"
            ],
            [
             0.8888888888888888,
             "#fdca26"
            ],
            [
             1,
             "#f0f921"
            ]
           ]
          },
          "colorway": [
           "#636efa",
           "#EF553B",
           "#00cc96",
           "#ab63fa",
           "#FFA15A",
           "#19d3f3",
           "#FF6692",
           "#B6E880",
           "#FF97FF",
           "#FECB52"
          ],
          "font": {
           "color": "#2a3f5f"
          },
          "geo": {
           "bgcolor": "white",
           "lakecolor": "white",
           "landcolor": "#E5ECF6",
           "showlakes": true,
           "showland": true,
           "subunitcolor": "white"
          },
          "hoverlabel": {
           "align": "left"
          },
          "hovermode": "closest",
          "mapbox": {
           "style": "light"
          },
          "paper_bgcolor": "white",
          "plot_bgcolor": "#E5ECF6",
          "polar": {
           "angularaxis": {
            "gridcolor": "white",
            "linecolor": "white",
            "ticks": ""
           },
           "bgcolor": "#E5ECF6",
           "radialaxis": {
            "gridcolor": "white",
            "linecolor": "white",
            "ticks": ""
           }
          },
          "scene": {
           "xaxis": {
            "backgroundcolor": "#E5ECF6",
            "gridcolor": "white",
            "gridwidth": 2,
            "linecolor": "white",
            "showbackground": true,
            "ticks": "",
            "zerolinecolor": "white"
           },
           "yaxis": {
            "backgroundcolor": "#E5ECF6",
            "gridcolor": "white",
            "gridwidth": 2,
            "linecolor": "white",
            "showbackground": true,
            "ticks": "",
            "zerolinecolor": "white"
           },
           "zaxis": {
            "backgroundcolor": "#E5ECF6",
            "gridcolor": "white",
            "gridwidth": 2,
            "linecolor": "white",
            "showbackground": true,
            "ticks": "",
            "zerolinecolor": "white"
           }
          },
          "shapedefaults": {
           "line": {
            "color": "#2a3f5f"
           }
          },
          "ternary": {
           "aaxis": {
            "gridcolor": "white",
            "linecolor": "white",
            "ticks": ""
           },
           "baxis": {
            "gridcolor": "white",
            "linecolor": "white",
            "ticks": ""
           },
           "bgcolor": "#E5ECF6",
           "caxis": {
            "gridcolor": "white",
            "linecolor": "white",
            "ticks": ""
           }
          },
          "title": {
           "x": 0.05
          },
          "xaxis": {
           "automargin": true,
           "gridcolor": "white",
           "linecolor": "white",
           "ticks": "",
           "title": {
            "standoff": 15
           },
           "zerolinecolor": "white",
           "zerolinewidth": 2
          },
          "yaxis": {
           "automargin": true,
           "gridcolor": "white",
           "linecolor": "white",
           "ticks": "",
           "title": {
            "standoff": 15
           },
           "zerolinecolor": "white",
           "zerolinewidth": 2
          }
         }
        },
        "title": {
         "text": "Hyperparameter Importances"
        },
        "xaxis": {
         "title": {
          "text": "Importance for f1 score"
         }
        },
        "yaxis": {
         "title": {
          "text": "Hyperparameter"
         }
        }
       }
      }
     },
     "metadata": {},
     "output_type": "display_data"
    }
   ],
   "source": [
    "optuna.visualization.plot_param_importances(study, target_name='f1 score')"
   ]
  },
  {
   "cell_type": "code",
   "execution_count": 138,
   "metadata": {},
   "outputs": [
    {
     "data": {
      "application/vnd.plotly.v1+json": {
       "config": {
        "plotlyServerURL": "https://plot.ly"
       },
       "data": [
        {
         "colorbar": {
          "title": {
           "text": "f1 score"
          }
         },
         "colorscale": [
          [
           0,
           "rgb(247,251,255)"
          ],
          [
           0.125,
           "rgb(222,235,247)"
          ],
          [
           0.25,
           "rgb(198,219,239)"
          ],
          [
           0.375,
           "rgb(158,202,225)"
          ],
          [
           0.5,
           "rgb(107,174,214)"
          ],
          [
           0.625,
           "rgb(66,146,198)"
          ],
          [
           0.75,
           "rgb(33,113,181)"
          ],
          [
           0.875,
           "rgb(8,81,156)"
          ],
          [
           1,
           "rgb(8,48,107)"
          ]
         ],
         "connectgaps": true,
         "contours": {
          "coloring": "heatmap"
         },
         "hoverinfo": "none",
         "line": {
          "smoothing": 1.3
         },
         "reversescale": false,
         "type": "contour",
         "x": [
          9.3,
          10,
          11,
          12,
          13,
          14,
          15,
          16,
          17,
          18,
          19,
          20,
          22,
          24,
          24.7
         ],
         "y": [
          2.5,
          3,
          5,
          7,
          9,
          11,
          13,
          13.5
         ],
         "z": [
          [
           null,
           null,
           null,
           null,
           null,
           null,
           null,
           null,
           null,
           null,
           null,
           null,
           null,
           null,
           null
          ],
          [
           null,
           null,
           null,
           null,
           null,
           0.8052855529543477,
           0.8067289441625467,
           0.8078278452259694,
           null,
           null,
           0.804631994301371,
           null,
           null,
           null,
           null
          ],
          [
           null,
           0.7970680593341817,
           null,
           null,
           0.7993459148283304,
           null,
           0.8032587622197106,
           null,
           0.8037408122026604,
           null,
           null,
           null,
           null,
           null,
           null
          ],
          [
           null,
           null,
           0.7915534259530402,
           null,
           null,
           null,
           null,
           null,
           null,
           0.7979477505329565,
           0.7989577104556662,
           null,
           0.79746282402096,
           null,
           null
          ],
          [
           null,
           null,
           null,
           0.7970879707323579,
           null,
           null,
           null,
           null,
           0.7958067892766543,
           null,
           null,
           null,
           0.7940666763317081,
           null,
           null
          ],
          [
           null,
           null,
           null,
           null,
           null,
           null,
           null,
           null,
           null,
           null,
           null,
           0.7886694541572352,
           null,
           null,
           null
          ],
          [
           null,
           null,
           null,
           null,
           null,
           null,
           null,
           null,
           null,
           null,
           null,
           null,
           null,
           0.7890177112802896,
           null
          ],
          [
           null,
           null,
           null,
           null,
           null,
           null,
           null,
           null,
           null,
           null,
           null,
           null,
           null,
           null,
           null
          ]
         ]
        },
        {
         "marker": {
          "color": "black",
          "line": {
           "color": "Grey",
           "width": 2
          }
         },
         "mode": "markers",
         "showlegend": false,
         "type": "scatter",
         "x": [
          12,
          19,
          17,
          19,
          22,
          24,
          22,
          11,
          20,
          18,
          15,
          15,
          14,
          15,
          15,
          13,
          10,
          16,
          17,
          16
         ],
         "y": [
          9,
          3,
          9,
          7,
          9,
          13,
          7,
          7,
          11,
          7,
          3,
          3,
          3,
          3,
          5,
          5,
          5,
          3,
          5,
          3
         ]
        }
       ],
       "layout": {
        "template": {
         "data": {
          "bar": [
           {
            "error_x": {
             "color": "#2a3f5f"
            },
            "error_y": {
             "color": "#2a3f5f"
            },
            "marker": {
             "line": {
              "color": "#E5ECF6",
              "width": 0.5
             },
             "pattern": {
              "fillmode": "overlay",
              "size": 10,
              "solidity": 0.2
             }
            },
            "type": "bar"
           }
          ],
          "barpolar": [
           {
            "marker": {
             "line": {
              "color": "#E5ECF6",
              "width": 0.5
             },
             "pattern": {
              "fillmode": "overlay",
              "size": 10,
              "solidity": 0.2
             }
            },
            "type": "barpolar"
           }
          ],
          "carpet": [
           {
            "aaxis": {
             "endlinecolor": "#2a3f5f",
             "gridcolor": "white",
             "linecolor": "white",
             "minorgridcolor": "white",
             "startlinecolor": "#2a3f5f"
            },
            "baxis": {
             "endlinecolor": "#2a3f5f",
             "gridcolor": "white",
             "linecolor": "white",
             "minorgridcolor": "white",
             "startlinecolor": "#2a3f5f"
            },
            "type": "carpet"
           }
          ],
          "choropleth": [
           {
            "colorbar": {
             "outlinewidth": 0,
             "ticks": ""
            },
            "type": "choropleth"
           }
          ],
          "contour": [
           {
            "colorbar": {
             "outlinewidth": 0,
             "ticks": ""
            },
            "colorscale": [
             [
              0,
              "#0d0887"
             ],
             [
              0.1111111111111111,
              "#46039f"
             ],
             [
              0.2222222222222222,
              "#7201a8"
             ],
             [
              0.3333333333333333,
              "#9c179e"
             ],
             [
              0.4444444444444444,
              "#bd3786"
             ],
             [
              0.5555555555555556,
              "#d8576b"
             ],
             [
              0.6666666666666666,
              "#ed7953"
             ],
             [
              0.7777777777777778,
              "#fb9f3a"
             ],
             [
              0.8888888888888888,
              "#fdca26"
             ],
             [
              1,
              "#f0f921"
             ]
            ],
            "type": "contour"
           }
          ],
          "contourcarpet": [
           {
            "colorbar": {
             "outlinewidth": 0,
             "ticks": ""
            },
            "type": "contourcarpet"
           }
          ],
          "heatmap": [
           {
            "colorbar": {
             "outlinewidth": 0,
             "ticks": ""
            },
            "colorscale": [
             [
              0,
              "#0d0887"
             ],
             [
              0.1111111111111111,
              "#46039f"
             ],
             [
              0.2222222222222222,
              "#7201a8"
             ],
             [
              0.3333333333333333,
              "#9c179e"
             ],
             [
              0.4444444444444444,
              "#bd3786"
             ],
             [
              0.5555555555555556,
              "#d8576b"
             ],
             [
              0.6666666666666666,
              "#ed7953"
             ],
             [
              0.7777777777777778,
              "#fb9f3a"
             ],
             [
              0.8888888888888888,
              "#fdca26"
             ],
             [
              1,
              "#f0f921"
             ]
            ],
            "type": "heatmap"
           }
          ],
          "heatmapgl": [
           {
            "colorbar": {
             "outlinewidth": 0,
             "ticks": ""
            },
            "colorscale": [
             [
              0,
              "#0d0887"
             ],
             [
              0.1111111111111111,
              "#46039f"
             ],
             [
              0.2222222222222222,
              "#7201a8"
             ],
             [
              0.3333333333333333,
              "#9c179e"
             ],
             [
              0.4444444444444444,
              "#bd3786"
             ],
             [
              0.5555555555555556,
              "#d8576b"
             ],
             [
              0.6666666666666666,
              "#ed7953"
             ],
             [
              0.7777777777777778,
              "#fb9f3a"
             ],
             [
              0.8888888888888888,
              "#fdca26"
             ],
             [
              1,
              "#f0f921"
             ]
            ],
            "type": "heatmapgl"
           }
          ],
          "histogram": [
           {
            "marker": {
             "pattern": {
              "fillmode": "overlay",
              "size": 10,
              "solidity": 0.2
             }
            },
            "type": "histogram"
           }
          ],
          "histogram2d": [
           {
            "colorbar": {
             "outlinewidth": 0,
             "ticks": ""
            },
            "colorscale": [
             [
              0,
              "#0d0887"
             ],
             [
              0.1111111111111111,
              "#46039f"
             ],
             [
              0.2222222222222222,
              "#7201a8"
             ],
             [
              0.3333333333333333,
              "#9c179e"
             ],
             [
              0.4444444444444444,
              "#bd3786"
             ],
             [
              0.5555555555555556,
              "#d8576b"
             ],
             [
              0.6666666666666666,
              "#ed7953"
             ],
             [
              0.7777777777777778,
              "#fb9f3a"
             ],
             [
              0.8888888888888888,
              "#fdca26"
             ],
             [
              1,
              "#f0f921"
             ]
            ],
            "type": "histogram2d"
           }
          ],
          "histogram2dcontour": [
           {
            "colorbar": {
             "outlinewidth": 0,
             "ticks": ""
            },
            "colorscale": [
             [
              0,
              "#0d0887"
             ],
             [
              0.1111111111111111,
              "#46039f"
             ],
             [
              0.2222222222222222,
              "#7201a8"
             ],
             [
              0.3333333333333333,
              "#9c179e"
             ],
             [
              0.4444444444444444,
              "#bd3786"
             ],
             [
              0.5555555555555556,
              "#d8576b"
             ],
             [
              0.6666666666666666,
              "#ed7953"
             ],
             [
              0.7777777777777778,
              "#fb9f3a"
             ],
             [
              0.8888888888888888,
              "#fdca26"
             ],
             [
              1,
              "#f0f921"
             ]
            ],
            "type": "histogram2dcontour"
           }
          ],
          "mesh3d": [
           {
            "colorbar": {
             "outlinewidth": 0,
             "ticks": ""
            },
            "type": "mesh3d"
           }
          ],
          "parcoords": [
           {
            "line": {
             "colorbar": {
              "outlinewidth": 0,
              "ticks": ""
             }
            },
            "type": "parcoords"
           }
          ],
          "pie": [
           {
            "automargin": true,
            "type": "pie"
           }
          ],
          "scatter": [
           {
            "fillpattern": {
             "fillmode": "overlay",
             "size": 10,
             "solidity": 0.2
            },
            "type": "scatter"
           }
          ],
          "scatter3d": [
           {
            "line": {
             "colorbar": {
              "outlinewidth": 0,
              "ticks": ""
             }
            },
            "marker": {
             "colorbar": {
              "outlinewidth": 0,
              "ticks": ""
             }
            },
            "type": "scatter3d"
           }
          ],
          "scattercarpet": [
           {
            "marker": {
             "colorbar": {
              "outlinewidth": 0,
              "ticks": ""
             }
            },
            "type": "scattercarpet"
           }
          ],
          "scattergeo": [
           {
            "marker": {
             "colorbar": {
              "outlinewidth": 0,
              "ticks": ""
             }
            },
            "type": "scattergeo"
           }
          ],
          "scattergl": [
           {
            "marker": {
             "colorbar": {
              "outlinewidth": 0,
              "ticks": ""
             }
            },
            "type": "scattergl"
           }
          ],
          "scattermapbox": [
           {
            "marker": {
             "colorbar": {
              "outlinewidth": 0,
              "ticks": ""
             }
            },
            "type": "scattermapbox"
           }
          ],
          "scatterpolar": [
           {
            "marker": {
             "colorbar": {
              "outlinewidth": 0,
              "ticks": ""
             }
            },
            "type": "scatterpolar"
           }
          ],
          "scatterpolargl": [
           {
            "marker": {
             "colorbar": {
              "outlinewidth": 0,
              "ticks": ""
             }
            },
            "type": "scatterpolargl"
           }
          ],
          "scatterternary": [
           {
            "marker": {
             "colorbar": {
              "outlinewidth": 0,
              "ticks": ""
             }
            },
            "type": "scatterternary"
           }
          ],
          "surface": [
           {
            "colorbar": {
             "outlinewidth": 0,
             "ticks": ""
            },
            "colorscale": [
             [
              0,
              "#0d0887"
             ],
             [
              0.1111111111111111,
              "#46039f"
             ],
             [
              0.2222222222222222,
              "#7201a8"
             ],
             [
              0.3333333333333333,
              "#9c179e"
             ],
             [
              0.4444444444444444,
              "#bd3786"
             ],
             [
              0.5555555555555556,
              "#d8576b"
             ],
             [
              0.6666666666666666,
              "#ed7953"
             ],
             [
              0.7777777777777778,
              "#fb9f3a"
             ],
             [
              0.8888888888888888,
              "#fdca26"
             ],
             [
              1,
              "#f0f921"
             ]
            ],
            "type": "surface"
           }
          ],
          "table": [
           {
            "cells": {
             "fill": {
              "color": "#EBF0F8"
             },
             "line": {
              "color": "white"
             }
            },
            "header": {
             "fill": {
              "color": "#C8D4E3"
             },
             "line": {
              "color": "white"
             }
            },
            "type": "table"
           }
          ]
         },
         "layout": {
          "annotationdefaults": {
           "arrowcolor": "#2a3f5f",
           "arrowhead": 0,
           "arrowwidth": 1
          },
          "autotypenumbers": "strict",
          "coloraxis": {
           "colorbar": {
            "outlinewidth": 0,
            "ticks": ""
           }
          },
          "colorscale": {
           "diverging": [
            [
             0,
             "#8e0152"
            ],
            [
             0.1,
             "#c51b7d"
            ],
            [
             0.2,
             "#de77ae"
            ],
            [
             0.3,
             "#f1b6da"
            ],
            [
             0.4,
             "#fde0ef"
            ],
            [
             0.5,
             "#f7f7f7"
            ],
            [
             0.6,
             "#e6f5d0"
            ],
            [
             0.7,
             "#b8e186"
            ],
            [
             0.8,
             "#7fbc41"
            ],
            [
             0.9,
             "#4d9221"
            ],
            [
             1,
             "#276419"
            ]
           ],
           "sequential": [
            [
             0,
             "#0d0887"
            ],
            [
             0.1111111111111111,
             "#46039f"
            ],
            [
             0.2222222222222222,
             "#7201a8"
            ],
            [
             0.3333333333333333,
             "#9c179e"
            ],
            [
             0.4444444444444444,
             "#bd3786"
            ],
            [
             0.5555555555555556,
             "#d8576b"
            ],
            [
             0.6666666666666666,
             "#ed7953"
            ],
            [
             0.7777777777777778,
             "#fb9f3a"
            ],
            [
             0.8888888888888888,
             "#fdca26"
            ],
            [
             1,
             "#f0f921"
            ]
           ],
           "sequentialminus": [
            [
             0,
             "#0d0887"
            ],
            [
             0.1111111111111111,
             "#46039f"
            ],
            [
             0.2222222222222222,
             "#7201a8"
            ],
            [
             0.3333333333333333,
             "#9c179e"
            ],
            [
             0.4444444444444444,
             "#bd3786"
            ],
            [
             0.5555555555555556,
             "#d8576b"
            ],
            [
             0.6666666666666666,
             "#ed7953"
            ],
            [
             0.7777777777777778,
             "#fb9f3a"
            ],
            [
             0.8888888888888888,
             "#fdca26"
            ],
            [
             1,
             "#f0f921"
            ]
           ]
          },
          "colorway": [
           "#636efa",
           "#EF553B",
           "#00cc96",
           "#ab63fa",
           "#FFA15A",
           "#19d3f3",
           "#FF6692",
           "#B6E880",
           "#FF97FF",
           "#FECB52"
          ],
          "font": {
           "color": "#2a3f5f"
          },
          "geo": {
           "bgcolor": "white",
           "lakecolor": "white",
           "landcolor": "#E5ECF6",
           "showlakes": true,
           "showland": true,
           "subunitcolor": "white"
          },
          "hoverlabel": {
           "align": "left"
          },
          "hovermode": "closest",
          "mapbox": {
           "style": "light"
          },
          "paper_bgcolor": "white",
          "plot_bgcolor": "#E5ECF6",
          "polar": {
           "angularaxis": {
            "gridcolor": "white",
            "linecolor": "white",
            "ticks": ""
           },
           "bgcolor": "#E5ECF6",
           "radialaxis": {
            "gridcolor": "white",
            "linecolor": "white",
            "ticks": ""
           }
          },
          "scene": {
           "xaxis": {
            "backgroundcolor": "#E5ECF6",
            "gridcolor": "white",
            "gridwidth": 2,
            "linecolor": "white",
            "showbackground": true,
            "ticks": "",
            "zerolinecolor": "white"
           },
           "yaxis": {
            "backgroundcolor": "#E5ECF6",
            "gridcolor": "white",
            "gridwidth": 2,
            "linecolor": "white",
            "showbackground": true,
            "ticks": "",
            "zerolinecolor": "white"
           },
           "zaxis": {
            "backgroundcolor": "#E5ECF6",
            "gridcolor": "white",
            "gridwidth": 2,
            "linecolor": "white",
            "showbackground": true,
            "ticks": "",
            "zerolinecolor": "white"
           }
          },
          "shapedefaults": {
           "line": {
            "color": "#2a3f5f"
           }
          },
          "ternary": {
           "aaxis": {
            "gridcolor": "white",
            "linecolor": "white",
            "ticks": ""
           },
           "baxis": {
            "gridcolor": "white",
            "linecolor": "white",
            "ticks": ""
           },
           "bgcolor": "#E5ECF6",
           "caxis": {
            "gridcolor": "white",
            "linecolor": "white",
            "ticks": ""
           }
          },
          "title": {
           "x": 0.05
          },
          "xaxis": {
           "automargin": true,
           "gridcolor": "white",
           "linecolor": "white",
           "ticks": "",
           "title": {
            "standoff": 15
           },
           "zerolinecolor": "white",
           "zerolinewidth": 2
          },
          "yaxis": {
           "automargin": true,
           "gridcolor": "white",
           "linecolor": "white",
           "ticks": "",
           "title": {
            "standoff": 15
           },
           "zerolinecolor": "white",
           "zerolinewidth": 2
          }
         }
        },
        "title": {
         "text": "Contour Plot"
        },
        "xaxis": {
         "range": [
          9.3,
          24.7
         ],
         "title": {
          "text": "max_depth"
         }
        },
        "yaxis": {
         "range": [
          2.5,
          13.5
         ],
         "title": {
          "text": "min_samples_leaf"
         }
        }
       }
      }
     },
     "metadata": {},
     "output_type": "display_data"
    }
   ],
   "source": [
    "optuna.visualization.plot_contour(study, params=['min_samples_leaf', 'max_depth'], target_name='f1 score')"
   ]
  }
 ],
 "metadata": {
  "kernelspec": {
   "display_name": "Python 3",
   "language": "python",
   "name": "python3"
  },
  "language_info": {
   "codemirror_mode": {
    "name": "ipython",
    "version": 3
   },
   "file_extension": ".py",
   "mimetype": "text/x-python",
   "name": "python",
   "nbconvert_exporter": "python",
   "pygments_lexer": "ipython3",
   "version": "3.10.5"
  },
  "orig_nbformat": 4
 },
 "nbformat": 4,
 "nbformat_minor": 2
}
