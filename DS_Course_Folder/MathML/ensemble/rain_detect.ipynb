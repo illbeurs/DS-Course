{
 "cells": [
  {
   "cell_type": "code",
   "execution_count": 33,
   "metadata": {},
   "outputs": [],
   "source": [
    "import pandas as pd\n",
    "import seaborn as sns\n",
    "sns.set_style(\"darkgrid\")\n",
    "import numpy as np\n",
    "from sklearn import preprocessing, model_selection\n",
    "from sklearn.ensemble import RandomForestRegressor, BaggingClassifier, RandomForestClassifier\n",
    "from sklearn.linear_model import LogisticRegression\n",
    "from sklearn.tree import DecisionTreeClassifier, DecisionTreeRegressor\n",
    "from sklearn import metrics\n"
   ]
  },
  {
   "cell_type": "code",
   "execution_count": 2,
   "metadata": {},
   "outputs": [
    {
     "data": {
      "text/html": [
       "<div>\n",
       "<style scoped>\n",
       "    .dataframe tbody tr th:only-of-type {\n",
       "        vertical-align: middle;\n",
       "    }\n",
       "\n",
       "    .dataframe tbody tr th {\n",
       "        vertical-align: top;\n",
       "    }\n",
       "\n",
       "    .dataframe thead th {\n",
       "        text-align: right;\n",
       "    }\n",
       "</style>\n",
       "<table border=\"1\" class=\"dataframe\">\n",
       "  <thead>\n",
       "    <tr style=\"text-align: right;\">\n",
       "      <th></th>\n",
       "      <th>Date</th>\n",
       "      <th>Location</th>\n",
       "      <th>MinTemp</th>\n",
       "      <th>MaxTemp</th>\n",
       "      <th>Rainfall</th>\n",
       "      <th>Evaporation</th>\n",
       "      <th>Sunshine</th>\n",
       "      <th>WindGustDir</th>\n",
       "      <th>WindGustSpeed</th>\n",
       "      <th>WindDir9am</th>\n",
       "      <th>...</th>\n",
       "      <th>Humidity9am</th>\n",
       "      <th>Humidity3pm</th>\n",
       "      <th>Pressure9am</th>\n",
       "      <th>Pressure3pm</th>\n",
       "      <th>Cloud9am</th>\n",
       "      <th>Cloud3pm</th>\n",
       "      <th>Temp9am</th>\n",
       "      <th>Temp3pm</th>\n",
       "      <th>RainToday</th>\n",
       "      <th>RainTomorrow</th>\n",
       "    </tr>\n",
       "  </thead>\n",
       "  <tbody>\n",
       "    <tr>\n",
       "      <th>0</th>\n",
       "      <td>2008-12-01</td>\n",
       "      <td>Albury</td>\n",
       "      <td>13.4</td>\n",
       "      <td>22.9</td>\n",
       "      <td>0.6</td>\n",
       "      <td>NaN</td>\n",
       "      <td>NaN</td>\n",
       "      <td>W</td>\n",
       "      <td>44.0</td>\n",
       "      <td>W</td>\n",
       "      <td>...</td>\n",
       "      <td>71.0</td>\n",
       "      <td>22.0</td>\n",
       "      <td>1007.7</td>\n",
       "      <td>1007.1</td>\n",
       "      <td>8.0</td>\n",
       "      <td>NaN</td>\n",
       "      <td>16.9</td>\n",
       "      <td>21.8</td>\n",
       "      <td>No</td>\n",
       "      <td>No</td>\n",
       "    </tr>\n",
       "    <tr>\n",
       "      <th>1</th>\n",
       "      <td>2008-12-02</td>\n",
       "      <td>Albury</td>\n",
       "      <td>7.4</td>\n",
       "      <td>25.1</td>\n",
       "      <td>0.0</td>\n",
       "      <td>NaN</td>\n",
       "      <td>NaN</td>\n",
       "      <td>WNW</td>\n",
       "      <td>44.0</td>\n",
       "      <td>NNW</td>\n",
       "      <td>...</td>\n",
       "      <td>44.0</td>\n",
       "      <td>25.0</td>\n",
       "      <td>1010.6</td>\n",
       "      <td>1007.8</td>\n",
       "      <td>NaN</td>\n",
       "      <td>NaN</td>\n",
       "      <td>17.2</td>\n",
       "      <td>24.3</td>\n",
       "      <td>No</td>\n",
       "      <td>No</td>\n",
       "    </tr>\n",
       "    <tr>\n",
       "      <th>2</th>\n",
       "      <td>2008-12-03</td>\n",
       "      <td>Albury</td>\n",
       "      <td>12.9</td>\n",
       "      <td>25.7</td>\n",
       "      <td>0.0</td>\n",
       "      <td>NaN</td>\n",
       "      <td>NaN</td>\n",
       "      <td>WSW</td>\n",
       "      <td>46.0</td>\n",
       "      <td>W</td>\n",
       "      <td>...</td>\n",
       "      <td>38.0</td>\n",
       "      <td>30.0</td>\n",
       "      <td>1007.6</td>\n",
       "      <td>1008.7</td>\n",
       "      <td>NaN</td>\n",
       "      <td>2.0</td>\n",
       "      <td>21.0</td>\n",
       "      <td>23.2</td>\n",
       "      <td>No</td>\n",
       "      <td>No</td>\n",
       "    </tr>\n",
       "    <tr>\n",
       "      <th>3</th>\n",
       "      <td>2008-12-04</td>\n",
       "      <td>Albury</td>\n",
       "      <td>9.2</td>\n",
       "      <td>28.0</td>\n",
       "      <td>0.0</td>\n",
       "      <td>NaN</td>\n",
       "      <td>NaN</td>\n",
       "      <td>NE</td>\n",
       "      <td>24.0</td>\n",
       "      <td>SE</td>\n",
       "      <td>...</td>\n",
       "      <td>45.0</td>\n",
       "      <td>16.0</td>\n",
       "      <td>1017.6</td>\n",
       "      <td>1012.8</td>\n",
       "      <td>NaN</td>\n",
       "      <td>NaN</td>\n",
       "      <td>18.1</td>\n",
       "      <td>26.5</td>\n",
       "      <td>No</td>\n",
       "      <td>No</td>\n",
       "    </tr>\n",
       "    <tr>\n",
       "      <th>4</th>\n",
       "      <td>2008-12-05</td>\n",
       "      <td>Albury</td>\n",
       "      <td>17.5</td>\n",
       "      <td>32.3</td>\n",
       "      <td>1.0</td>\n",
       "      <td>NaN</td>\n",
       "      <td>NaN</td>\n",
       "      <td>W</td>\n",
       "      <td>41.0</td>\n",
       "      <td>ENE</td>\n",
       "      <td>...</td>\n",
       "      <td>82.0</td>\n",
       "      <td>33.0</td>\n",
       "      <td>1010.8</td>\n",
       "      <td>1006.0</td>\n",
       "      <td>7.0</td>\n",
       "      <td>8.0</td>\n",
       "      <td>17.8</td>\n",
       "      <td>29.7</td>\n",
       "      <td>No</td>\n",
       "      <td>No</td>\n",
       "    </tr>\n",
       "  </tbody>\n",
       "</table>\n",
       "<p>5 rows × 23 columns</p>\n",
       "</div>"
      ],
      "text/plain": [
       "         Date Location  MinTemp  MaxTemp  Rainfall  Evaporation  Sunshine  \\\n",
       "0  2008-12-01   Albury     13.4     22.9       0.6          NaN       NaN   \n",
       "1  2008-12-02   Albury      7.4     25.1       0.0          NaN       NaN   \n",
       "2  2008-12-03   Albury     12.9     25.7       0.0          NaN       NaN   \n",
       "3  2008-12-04   Albury      9.2     28.0       0.0          NaN       NaN   \n",
       "4  2008-12-05   Albury     17.5     32.3       1.0          NaN       NaN   \n",
       "\n",
       "  WindGustDir  WindGustSpeed WindDir9am  ... Humidity9am  Humidity3pm  \\\n",
       "0           W           44.0          W  ...        71.0         22.0   \n",
       "1         WNW           44.0        NNW  ...        44.0         25.0   \n",
       "2         WSW           46.0          W  ...        38.0         30.0   \n",
       "3          NE           24.0         SE  ...        45.0         16.0   \n",
       "4           W           41.0        ENE  ...        82.0         33.0   \n",
       "\n",
       "   Pressure9am  Pressure3pm  Cloud9am  Cloud3pm  Temp9am  Temp3pm  RainToday  \\\n",
       "0       1007.7       1007.1       8.0       NaN     16.9     21.8         No   \n",
       "1       1010.6       1007.8       NaN       NaN     17.2     24.3         No   \n",
       "2       1007.6       1008.7       NaN       2.0     21.0     23.2         No   \n",
       "3       1017.6       1012.8       NaN       NaN     18.1     26.5         No   \n",
       "4       1010.8       1006.0       7.0       8.0     17.8     29.7         No   \n",
       "\n",
       "   RainTomorrow  \n",
       "0            No  \n",
       "1            No  \n",
       "2            No  \n",
       "3            No  \n",
       "4            No  \n",
       "\n",
       "[5 rows x 23 columns]"
      ]
     },
     "metadata": {},
     "output_type": "display_data"
    },
    {
     "name": "stdout",
     "output_type": "stream",
     "text": [
      "<class 'pandas.core.frame.DataFrame'>\n",
      "RangeIndex: 145460 entries, 0 to 145459\n",
      "Data columns (total 23 columns):\n",
      " #   Column         Non-Null Count   Dtype  \n",
      "---  ------         --------------   -----  \n",
      " 0   Date           145460 non-null  object \n",
      " 1   Location       145460 non-null  object \n",
      " 2   MinTemp        143975 non-null  float64\n",
      " 3   MaxTemp        144199 non-null  float64\n",
      " 4   Rainfall       142199 non-null  float64\n",
      " 5   Evaporation    82670 non-null   float64\n",
      " 6   Sunshine       75625 non-null   float64\n",
      " 7   WindGustDir    135134 non-null  object \n",
      " 8   WindGustSpeed  135197 non-null  float64\n",
      " 9   WindDir9am     134894 non-null  object \n",
      " 10  WindDir3pm     141232 non-null  object \n",
      " 11  WindSpeed9am   143693 non-null  float64\n",
      " 12  WindSpeed3pm   142398 non-null  float64\n",
      " 13  Humidity9am    142806 non-null  float64\n",
      " 14  Humidity3pm    140953 non-null  float64\n",
      " 15  Pressure9am    130395 non-null  float64\n",
      " 16  Pressure3pm    130432 non-null  float64\n",
      " 17  Cloud9am       89572 non-null   float64\n",
      " 18  Cloud3pm       86102 non-null   float64\n",
      " 19  Temp9am        143693 non-null  float64\n",
      " 20  Temp3pm        141851 non-null  float64\n",
      " 21  RainToday      142199 non-null  object \n",
      " 22  RainTomorrow   142193 non-null  object \n",
      "dtypes: float64(16), object(7)\n",
      "memory usage: 25.5+ MB\n",
      "null count: 343248\n"
     ]
    }
   ],
   "source": [
    "df = pd.read_csv(\"data/weatherAUS.csv\")\n",
    "display(df.head())\n",
    "df.info()\n",
    "print(f\"null count: {df.isnull().sum().sum()}\")"
   ]
  },
  {
   "cell_type": "code",
   "execution_count": 3,
   "metadata": {},
   "outputs": [
    {
     "data": {
      "text/plain": [
       "(145460, 20)"
      ]
     },
     "execution_count": 3,
     "metadata": {},
     "output_type": "execute_result"
    }
   ],
   "source": [
    "df.dropna(axis=1, thresh=round(df.shape[0]*0.6), inplace=True)\n",
    "df.shape"
   ]
  },
  {
   "cell_type": "code",
   "execution_count": 4,
   "metadata": {},
   "outputs": [],
   "source": [
    "def rain_transofrm(sample): # Оставим пропуски\n",
    "    if sample =='Yes':\n",
    "        return 1\n",
    "    if sample =='No':\n",
    "        return 0 \n",
    "    return sample\n",
    "df['RainToday'] =  df['RainToday'].apply(rain_transofrm)\n",
    "df['RainTomorrow'] =  df['RainTomorrow'].apply(rain_transofrm)\n",
    "# df.RainToday = df.RainToday.map({'No': 0, 'Yes': 1})\n",
    "# df.RainTomorrow = df.RainTomorrow.map({'No': 0, 'Yes': 1})"
   ]
  },
  {
   "cell_type": "code",
   "execution_count": 5,
   "metadata": {},
   "outputs": [
    {
     "data": {
      "text/plain": [
       "Month\n",
       "7     27.073606\n",
       "6     26.363783\n",
       "8     25.316671\n",
       "9     22.913545\n",
       "5     22.216266\n",
       "3     21.713453\n",
       "4     21.684509\n",
       "12    21.303745\n",
       "11    21.084337\n",
       "2     20.674584\n",
       "10    19.651173\n",
       "1     18.948428\n",
       "Name: RainToday, dtype: float64"
      ]
     },
     "execution_count": 5,
     "metadata": {},
     "output_type": "execute_result"
    }
   ],
   "source": [
    "df['Month'] = pd.to_datetime(df['Date'], yearfirst=True).dt.month\n",
    "df.drop('Date', axis=1, inplace=True)\n",
    "# Most rainy months by part of rainy days\n",
    "(df.groupby(\"Month\")['RainToday'].mean()).sort_values(ascending=False)*100"
   ]
  },
  {
   "cell_type": "code",
   "execution_count": 6,
   "metadata": {},
   "outputs": [
    {
     "data": {
      "text/plain": [
       "(145460, 124)"
      ]
     },
     "execution_count": 6,
     "metadata": {},
     "output_type": "execute_result"
    }
   ],
   "source": [
    "categoricals = ['Month', 'Location', 'WindGustDir', 'WindDir9am', 'WindDir3pm']\n",
    "df_ = pd.get_dummies(df, columns=categoricals)\n",
    "df_.shape"
   ]
  },
  {
   "cell_type": "code",
   "execution_count": 16,
   "metadata": {},
   "outputs": [],
   "source": [
    "df_.dropna(axis=0, how='any', inplace=True)\n",
    "X = df_.drop('RainTomorrow', axis=1)\n",
    "y = df_['RainTomorrow']\n",
    "X_train, X_test, y_train, y_test = model_selection.train_test_split(X, y,test_size=0.3,\n",
    "                                                                    random_state=31)"
   ]
  },
  {
   "cell_type": "code",
   "execution_count": 8,
   "metadata": {},
   "outputs": [
    {
     "data": {
      "text/plain": [
       "0.02879072820657669"
      ]
     },
     "execution_count": 8,
     "metadata": {},
     "output_type": "execute_result"
    }
   ],
   "source": [
    "X_train_ = X_train['MinTemp'].reset_index(drop=True)\n",
    "X_train_.sample()\n",
    "np.random.seed(31)\n",
    "min_temp_mean = list()\n",
    "for i in range(1000):\n",
    "    indexes = np.random.randint(0, X_train_.shape[0], size=X_train_.shape[0])\n",
    "    bs = X_train_[indexes]\n",
    "    min_temp_mean.append(bs.mean())\n",
    "np.std(min_temp_mean) # оценка стандартного отклонения средних"
   ]
  },
  {
   "cell_type": "code",
   "execution_count": 9,
   "metadata": {},
   "outputs": [
    {
     "name": "stdout",
     "output_type": "stream",
     "text": [
      "0.02879072820657669\n"
     ]
    }
   ],
   "source": [
    "def gbs(data, n):     \n",
    "    inds = np.random.randint(0, len(data), (n, len(data))) #определяем индексы случайным образом\n",
    "    numbers = data[inds] #выбираем значения по индексам\n",
    "    return numbers\n",
    "target = X_train['MinTemp'].values #выбираем целевую переменную\n",
    "np.random.seed(31) #задаём параметр генератора случайных чисел\n",
    "mean_values = [np.mean(x) for x in gbs(target, 1000)] #получаем все средние значения\n",
    "print(np.std(mean_values)) #находим для них стандартное отклонение"
   ]
  },
  {
   "cell_type": "code",
   "execution_count": 17,
   "metadata": {},
   "outputs": [],
   "source": [
    "from sklearn.preprocessing import MinMaxScaler\n",
    "mm = MinMaxScaler()\n",
    "X_train_scaled = mm.fit_transform(X_train)\n",
    "X_test_scaled = mm.transform(X_test)"
   ]
  },
  {
   "cell_type": "code",
   "execution_count": 21,
   "metadata": {},
   "outputs": [
    {
     "name": "stderr",
     "output_type": "stream",
     "text": [
      "c:\\Users\\mblyz\\AppData\\Local\\Programs\\Python\\Python311\\Lib\\site-packages\\sklearn\\linear_model\\_logistic.py:460: ConvergenceWarning: lbfgs failed to converge (status=1):\n",
      "STOP: TOTAL NO. of ITERATIONS REACHED LIMIT.\n",
      "\n",
      "Increase the number of iterations (max_iter) or scale the data as shown in:\n",
      "    https://scikit-learn.org/stable/modules/preprocessing.html\n",
      "Please also refer to the documentation for alternative solver options:\n",
      "    https://scikit-learn.org/stable/modules/linear_model.html#logistic-regression\n",
      "  n_iter_i = _check_optimize_result(\n"
     ]
    },
    {
     "data": {
      "text/plain": [
       "0.7261883053393459"
      ]
     },
     "execution_count": 21,
     "metadata": {},
     "output_type": "execute_result"
    }
   ],
   "source": [
    "baseline = LogisticRegression(solver='lbfgs', max_iter=100)\n",
    "baseline.fit(X_train,y_train)\n",
    "metrics.roc_auc_score(y_test, baseline.predict(X_test))"
   ]
  },
  {
   "cell_type": "code",
   "execution_count": 46,
   "metadata": {},
   "outputs": [
    {
     "data": {
      "text/plain": [
       "0.5706970790178053"
      ]
     },
     "execution_count": 46,
     "metadata": {},
     "output_type": "execute_result"
    }
   ],
   "source": [
    "param_grid = {'min_samples_split': [2, 3, 4,5,6,7], 'max_depth': [5,7,9,11], 'min_samples_leaf':list(range(2,10))}\n",
    "gsv = model_selection.GridSearchCV(\n",
    "    DecisionTreeClassifier(random_state=42),\n",
    "    param_grid=param_grid,\n",
    "    cv=3\n",
    ")\n",
    "gsv.fit(X_train,y_train)\n",
    "print(gsv.best_params_)\n",
    "metrics.roc_auc_score(y_test, gsv.best_estimator_.predict(X_test))"
   ]
  },
  {
   "cell_type": "code",
   "execution_count": 31,
   "metadata": {},
   "outputs": [
    {
     "data": {
      "text/plain": [
       "121"
      ]
     },
     "execution_count": 31,
     "metadata": {},
     "output_type": "execute_result"
    }
   ],
   "source": [
    "gsv.best_estimator_.get_n_leaves()"
   ]
  },
  {
   "cell_type": "code",
   "execution_count": 56,
   "metadata": {},
   "outputs": [
    {
     "data": {
      "text/plain": [
       "0.7329684570290497"
      ]
     },
     "execution_count": 56,
     "metadata": {},
     "output_type": "execute_result"
    }
   ],
   "source": [
    "rf = RandomForestClassifier(100, random_state=31)\n",
    "rf.fit(X_train, y_train)\n",
    "metrics.roc_auc_score(y_test, rf.predict(X_test))"
   ]
  },
  {
   "cell_type": "code",
   "execution_count": 50,
   "metadata": {},
   "outputs": [
    {
     "data": {
      "text/plain": [
       "36523     0.0\n",
       "86735     1.0\n",
       "94991     1.0\n",
       "23569     1.0\n",
       "106935    0.0\n",
       "         ... \n",
       "47749     0.0\n",
       "70054     1.0\n",
       "108459    0.0\n",
       "139602    0.0\n",
       "105281    0.0\n",
       "Name: RainTomorrow, Length: 23478, dtype: float64"
      ]
     },
     "metadata": {},
     "output_type": "display_data"
    },
    {
     "data": {
      "text/plain": [
       "0.6279349131811729"
      ]
     },
     "execution_count": 50,
     "metadata": {},
     "output_type": "execute_result"
    }
   ],
   "source": [
    "display(y_test)\n",
    "metrics.f1_score(y_test, np.round(rf.predict(X_test)))"
   ]
  },
  {
   "cell_type": "code",
   "execution_count": 68,
   "metadata": {},
   "outputs": [
    {
     "name": "stdout",
     "output_type": "stream",
     "text": [
      "Fitting 3 folds for each of 60 candidates, totalling 180 fits\n",
      "[CV] END ....max_depth=5, max_features=4, min_samples_leaf=3; total time=   1.0s\n",
      "[CV] END ....max_depth=5, max_features=4, min_samples_leaf=3; total time=   1.4s\n",
      "[CV] END ....max_depth=5, max_features=4, min_samples_leaf=3; total time=   1.0s\n",
      "[CV] END ....max_depth=5, max_features=4, min_samples_leaf=5; total time=   1.1s\n",
      "[CV] END ....max_depth=5, max_features=4, min_samples_leaf=5; total time=   1.0s\n",
      "[CV] END ....max_depth=5, max_features=4, min_samples_leaf=5; total time=   1.0s\n",
      "[CV] END ....max_depth=5, max_features=4, min_samples_leaf=7; total time=   1.0s\n",
      "[CV] END ....max_depth=5, max_features=4, min_samples_leaf=7; total time=   1.4s\n",
      "[CV] END ....max_depth=5, max_features=4, min_samples_leaf=7; total time=   0.9s\n",
      "[CV] END ....max_depth=5, max_features=4, min_samples_leaf=9; total time=   0.8s\n",
      "[CV] END ....max_depth=5, max_features=4, min_samples_leaf=9; total time=   0.9s\n",
      "[CV] END ....max_depth=5, max_features=4, min_samples_leaf=9; total time=   0.9s\n",
      "[CV] END ...max_depth=5, max_features=4, min_samples_leaf=11; total time=   0.8s\n",
      "[CV] END ...max_depth=5, max_features=4, min_samples_leaf=11; total time=   0.8s\n",
      "[CV] END ...max_depth=5, max_features=4, min_samples_leaf=11; total time=   0.9s\n",
      "[CV] END ....max_depth=5, max_features=5, min_samples_leaf=3; total time=   1.0s\n",
      "[CV] END ....max_depth=5, max_features=5, min_samples_leaf=3; total time=   0.9s\n",
      "[CV] END ....max_depth=5, max_features=5, min_samples_leaf=3; total time=   0.9s\n",
      "[CV] END ....max_depth=5, max_features=5, min_samples_leaf=5; total time=   0.9s\n",
      "[CV] END ....max_depth=5, max_features=5, min_samples_leaf=5; total time=   0.9s\n",
      "[CV] END ....max_depth=5, max_features=5, min_samples_leaf=5; total time=   0.9s\n",
      "[CV] END ....max_depth=5, max_features=5, min_samples_leaf=7; total time=   0.9s\n",
      "[CV] END ....max_depth=5, max_features=5, min_samples_leaf=7; total time=   0.9s\n",
      "[CV] END ....max_depth=5, max_features=5, min_samples_leaf=7; total time=   0.9s\n",
      "[CV] END ....max_depth=5, max_features=5, min_samples_leaf=9; total time=   0.9s\n",
      "[CV] END ....max_depth=5, max_features=5, min_samples_leaf=9; total time=   0.9s\n",
      "[CV] END ....max_depth=5, max_features=5, min_samples_leaf=9; total time=   0.9s\n",
      "[CV] END ...max_depth=5, max_features=5, min_samples_leaf=11; total time=   1.0s\n",
      "[CV] END ...max_depth=5, max_features=5, min_samples_leaf=11; total time=   0.9s\n",
      "[CV] END ...max_depth=5, max_features=5, min_samples_leaf=11; total time=   0.9s\n",
      "[CV] END ....max_depth=5, max_features=6, min_samples_leaf=3; total time=   1.0s\n",
      "[CV] END ....max_depth=5, max_features=6, min_samples_leaf=3; total time=   1.0s\n",
      "[CV] END ....max_depth=5, max_features=6, min_samples_leaf=3; total time=   1.0s\n",
      "[CV] END ....max_depth=5, max_features=6, min_samples_leaf=5; total time=   1.0s\n",
      "[CV] END ....max_depth=5, max_features=6, min_samples_leaf=5; total time=   1.0s\n",
      "[CV] END ....max_depth=5, max_features=6, min_samples_leaf=5; total time=   1.0s\n",
      "[CV] END ....max_depth=5, max_features=6, min_samples_leaf=7; total time=   1.0s\n",
      "[CV] END ....max_depth=5, max_features=6, min_samples_leaf=7; total time=   1.0s\n",
      "[CV] END ....max_depth=5, max_features=6, min_samples_leaf=7; total time=   1.0s\n",
      "[CV] END ....max_depth=5, max_features=6, min_samples_leaf=9; total time=   1.0s\n",
      "[CV] END ....max_depth=5, max_features=6, min_samples_leaf=9; total time=   1.0s\n",
      "[CV] END ....max_depth=5, max_features=6, min_samples_leaf=9; total time=   1.0s\n",
      "[CV] END ...max_depth=5, max_features=6, min_samples_leaf=11; total time=   1.0s\n",
      "[CV] END ...max_depth=5, max_features=6, min_samples_leaf=11; total time=   1.0s\n",
      "[CV] END ...max_depth=5, max_features=6, min_samples_leaf=11; total time=   1.0s\n",
      "[CV] END ....max_depth=5, max_features=7, min_samples_leaf=3; total time=   1.1s\n",
      "[CV] END ....max_depth=5, max_features=7, min_samples_leaf=3; total time=   1.1s\n",
      "[CV] END ....max_depth=5, max_features=7, min_samples_leaf=3; total time=   1.1s\n",
      "[CV] END ....max_depth=5, max_features=7, min_samples_leaf=5; total time=   1.1s\n",
      "[CV] END ....max_depth=5, max_features=7, min_samples_leaf=5; total time=   1.1s\n",
      "[CV] END ....max_depth=5, max_features=7, min_samples_leaf=5; total time=   1.1s\n",
      "[CV] END ....max_depth=5, max_features=7, min_samples_leaf=7; total time=   1.1s\n",
      "[CV] END ....max_depth=5, max_features=7, min_samples_leaf=7; total time=   1.3s\n",
      "[CV] END ....max_depth=5, max_features=7, min_samples_leaf=7; total time=   1.6s\n",
      "[CV] END ....max_depth=5, max_features=7, min_samples_leaf=9; total time=   1.2s\n",
      "[CV] END ....max_depth=5, max_features=7, min_samples_leaf=9; total time=   1.1s\n",
      "[CV] END ....max_depth=5, max_features=7, min_samples_leaf=9; total time=   1.1s\n",
      "[CV] END ...max_depth=5, max_features=7, min_samples_leaf=11; total time=   1.2s\n",
      "[CV] END ...max_depth=5, max_features=7, min_samples_leaf=11; total time=   1.1s\n",
      "[CV] END ...max_depth=5, max_features=7, min_samples_leaf=11; total time=   1.1s\n",
      "[CV] END ...max_depth=10, max_features=4, min_samples_leaf=3; total time=   1.6s\n",
      "[CV] END ...max_depth=10, max_features=4, min_samples_leaf=3; total time=   1.5s\n",
      "[CV] END ...max_depth=10, max_features=4, min_samples_leaf=3; total time=   1.5s\n",
      "[CV] END ...max_depth=10, max_features=4, min_samples_leaf=5; total time=   1.5s\n",
      "[CV] END ...max_depth=10, max_features=4, min_samples_leaf=5; total time=   1.4s\n",
      "[CV] END ...max_depth=10, max_features=4, min_samples_leaf=5; total time=   1.5s\n",
      "[CV] END ...max_depth=10, max_features=4, min_samples_leaf=7; total time=   1.4s\n",
      "[CV] END ...max_depth=10, max_features=4, min_samples_leaf=7; total time=   1.4s\n",
      "[CV] END ...max_depth=10, max_features=4, min_samples_leaf=7; total time=   1.4s\n",
      "[CV] END ...max_depth=10, max_features=4, min_samples_leaf=9; total time=   1.4s\n",
      "[CV] END ...max_depth=10, max_features=4, min_samples_leaf=9; total time=   1.4s\n",
      "[CV] END ...max_depth=10, max_features=4, min_samples_leaf=9; total time=   1.4s\n",
      "[CV] END ..max_depth=10, max_features=4, min_samples_leaf=11; total time=   1.4s\n",
      "[CV] END ..max_depth=10, max_features=4, min_samples_leaf=11; total time=   1.4s\n",
      "[CV] END ..max_depth=10, max_features=4, min_samples_leaf=11; total time=   1.4s\n",
      "[CV] END ...max_depth=10, max_features=5, min_samples_leaf=3; total time=   1.7s\n",
      "[CV] END ...max_depth=10, max_features=5, min_samples_leaf=3; total time=   1.7s\n",
      "[CV] END ...max_depth=10, max_features=5, min_samples_leaf=3; total time=   1.7s\n",
      "[CV] END ...max_depth=10, max_features=5, min_samples_leaf=5; total time=   1.7s\n",
      "[CV] END ...max_depth=10, max_features=5, min_samples_leaf=5; total time=   1.7s\n",
      "[CV] END ...max_depth=10, max_features=5, min_samples_leaf=5; total time=   1.7s\n",
      "[CV] END ...max_depth=10, max_features=5, min_samples_leaf=7; total time=   1.7s\n",
      "[CV] END ...max_depth=10, max_features=5, min_samples_leaf=7; total time=   1.6s\n",
      "[CV] END ...max_depth=10, max_features=5, min_samples_leaf=7; total time=   1.7s\n",
      "[CV] END ...max_depth=10, max_features=5, min_samples_leaf=9; total time=   1.6s\n",
      "[CV] END ...max_depth=10, max_features=5, min_samples_leaf=9; total time=   1.7s\n",
      "[CV] END ...max_depth=10, max_features=5, min_samples_leaf=9; total time=   1.6s\n",
      "[CV] END ..max_depth=10, max_features=5, min_samples_leaf=11; total time=   1.6s\n",
      "[CV] END ..max_depth=10, max_features=5, min_samples_leaf=11; total time=   1.6s\n",
      "[CV] END ..max_depth=10, max_features=5, min_samples_leaf=11; total time=   1.6s\n",
      "[CV] END ...max_depth=10, max_features=6, min_samples_leaf=3; total time=   2.0s\n",
      "[CV] END ...max_depth=10, max_features=6, min_samples_leaf=3; total time=   1.9s\n",
      "[CV] END ...max_depth=10, max_features=6, min_samples_leaf=3; total time=   1.9s\n",
      "[CV] END ...max_depth=10, max_features=6, min_samples_leaf=5; total time=   1.9s\n",
      "[CV] END ...max_depth=10, max_features=6, min_samples_leaf=5; total time=   1.9s\n",
      "[CV] END ...max_depth=10, max_features=6, min_samples_leaf=5; total time=   1.9s\n",
      "[CV] END ...max_depth=10, max_features=6, min_samples_leaf=7; total time=   1.9s\n",
      "[CV] END ...max_depth=10, max_features=6, min_samples_leaf=7; total time=   1.9s\n",
      "[CV] END ...max_depth=10, max_features=6, min_samples_leaf=7; total time=   1.9s\n",
      "[CV] END ...max_depth=10, max_features=6, min_samples_leaf=9; total time=   1.9s\n",
      "[CV] END ...max_depth=10, max_features=6, min_samples_leaf=9; total time=   1.9s\n",
      "[CV] END ...max_depth=10, max_features=6, min_samples_leaf=9; total time=   1.9s\n",
      "[CV] END ..max_depth=10, max_features=6, min_samples_leaf=11; total time=   1.8s\n",
      "[CV] END ..max_depth=10, max_features=6, min_samples_leaf=11; total time=   1.9s\n",
      "[CV] END ..max_depth=10, max_features=6, min_samples_leaf=11; total time=   1.8s\n",
      "[CV] END ...max_depth=10, max_features=7, min_samples_leaf=3; total time=   2.2s\n",
      "[CV] END ...max_depth=10, max_features=7, min_samples_leaf=3; total time=   2.2s\n",
      "[CV] END ...max_depth=10, max_features=7, min_samples_leaf=3; total time=   2.2s\n",
      "[CV] END ...max_depth=10, max_features=7, min_samples_leaf=5; total time=   2.2s\n",
      "[CV] END ...max_depth=10, max_features=7, min_samples_leaf=5; total time=   2.1s\n",
      "[CV] END ...max_depth=10, max_features=7, min_samples_leaf=5; total time=   2.2s\n",
      "[CV] END ...max_depth=10, max_features=7, min_samples_leaf=7; total time=   2.1s\n",
      "[CV] END ...max_depth=10, max_features=7, min_samples_leaf=7; total time=   2.1s\n",
      "[CV] END ...max_depth=10, max_features=7, min_samples_leaf=7; total time=   2.1s\n",
      "[CV] END ...max_depth=10, max_features=7, min_samples_leaf=9; total time=   2.1s\n",
      "[CV] END ...max_depth=10, max_features=7, min_samples_leaf=9; total time=   2.1s\n",
      "[CV] END ...max_depth=10, max_features=7, min_samples_leaf=9; total time=   2.1s\n",
      "[CV] END ..max_depth=10, max_features=7, min_samples_leaf=11; total time=   2.1s\n",
      "[CV] END ..max_depth=10, max_features=7, min_samples_leaf=11; total time=   2.1s\n",
      "[CV] END ..max_depth=10, max_features=7, min_samples_leaf=11; total time=   2.1s\n",
      "[CV] END ...max_depth=15, max_features=4, min_samples_leaf=3; total time=   2.3s\n",
      "[CV] END ...max_depth=15, max_features=4, min_samples_leaf=3; total time=   2.3s\n",
      "[CV] END ...max_depth=15, max_features=4, min_samples_leaf=3; total time=   2.3s\n",
      "[CV] END ...max_depth=15, max_features=4, min_samples_leaf=5; total time=   2.1s\n",
      "[CV] END ...max_depth=15, max_features=4, min_samples_leaf=5; total time=   2.1s\n",
      "[CV] END ...max_depth=15, max_features=4, min_samples_leaf=5; total time=   2.2s\n",
      "[CV] END ...max_depth=15, max_features=4, min_samples_leaf=7; total time=   2.1s\n",
      "[CV] END ...max_depth=15, max_features=4, min_samples_leaf=7; total time=   2.0s\n",
      "[CV] END ...max_depth=15, max_features=4, min_samples_leaf=7; total time=   2.1s\n",
      "[CV] END ...max_depth=15, max_features=4, min_samples_leaf=9; total time=   2.0s\n",
      "[CV] END ...max_depth=15, max_features=4, min_samples_leaf=9; total time=   2.0s\n",
      "[CV] END ...max_depth=15, max_features=4, min_samples_leaf=9; total time=   2.0s\n",
      "[CV] END ..max_depth=15, max_features=4, min_samples_leaf=11; total time=   2.0s\n",
      "[CV] END ..max_depth=15, max_features=4, min_samples_leaf=11; total time=   1.9s\n",
      "[CV] END ..max_depth=15, max_features=4, min_samples_leaf=11; total time=   1.9s\n",
      "[CV] END ...max_depth=15, max_features=5, min_samples_leaf=3; total time=   2.7s\n",
      "[CV] END ...max_depth=15, max_features=5, min_samples_leaf=3; total time=   2.7s\n",
      "[CV] END ...max_depth=15, max_features=5, min_samples_leaf=3; total time=   2.7s\n",
      "[CV] END ...max_depth=15, max_features=5, min_samples_leaf=5; total time=   2.6s\n",
      "[CV] END ...max_depth=15, max_features=5, min_samples_leaf=5; total time=   2.6s\n",
      "[CV] END ...max_depth=15, max_features=5, min_samples_leaf=5; total time=   2.6s\n",
      "[CV] END ...max_depth=15, max_features=5, min_samples_leaf=7; total time=   2.5s\n",
      "[CV] END ...max_depth=15, max_features=5, min_samples_leaf=7; total time=   2.4s\n",
      "[CV] END ...max_depth=15, max_features=5, min_samples_leaf=7; total time=   2.5s\n",
      "[CV] END ...max_depth=15, max_features=5, min_samples_leaf=9; total time=   2.4s\n",
      "[CV] END ...max_depth=15, max_features=5, min_samples_leaf=9; total time=   2.4s\n",
      "[CV] END ...max_depth=15, max_features=5, min_samples_leaf=9; total time=   2.4s\n",
      "[CV] END ..max_depth=15, max_features=5, min_samples_leaf=11; total time=   2.3s\n",
      "[CV] END ..max_depth=15, max_features=5, min_samples_leaf=11; total time=   2.3s\n",
      "[CV] END ..max_depth=15, max_features=5, min_samples_leaf=11; total time=   2.3s\n",
      "[CV] END ...max_depth=15, max_features=6, min_samples_leaf=3; total time=   3.1s\n",
      "[CV] END ...max_depth=15, max_features=6, min_samples_leaf=3; total time=   3.1s\n",
      "[CV] END ...max_depth=15, max_features=6, min_samples_leaf=3; total time=   3.1s\n",
      "[CV] END ...max_depth=15, max_features=6, min_samples_leaf=5; total time=   3.0s\n",
      "[CV] END ...max_depth=15, max_features=6, min_samples_leaf=5; total time=   2.9s\n",
      "[CV] END ...max_depth=15, max_features=6, min_samples_leaf=5; total time=   3.0s\n",
      "[CV] END ...max_depth=15, max_features=6, min_samples_leaf=7; total time=   2.9s\n",
      "[CV] END ...max_depth=15, max_features=6, min_samples_leaf=7; total time=   2.8s\n",
      "[CV] END ...max_depth=15, max_features=6, min_samples_leaf=7; total time=   2.9s\n",
      "[CV] END ...max_depth=15, max_features=6, min_samples_leaf=9; total time=   2.8s\n",
      "[CV] END ...max_depth=15, max_features=6, min_samples_leaf=9; total time=   2.7s\n",
      "[CV] END ...max_depth=15, max_features=6, min_samples_leaf=9; total time=   2.8s\n",
      "[CV] END ..max_depth=15, max_features=6, min_samples_leaf=11; total time=   2.7s\n",
      "[CV] END ..max_depth=15, max_features=6, min_samples_leaf=11; total time=   2.7s\n",
      "[CV] END ..max_depth=15, max_features=6, min_samples_leaf=11; total time=   2.7s\n",
      "[CV] END ...max_depth=15, max_features=7, min_samples_leaf=3; total time=   3.6s\n",
      "[CV] END ...max_depth=15, max_features=7, min_samples_leaf=3; total time=   3.6s\n",
      "[CV] END ...max_depth=15, max_features=7, min_samples_leaf=3; total time=   3.6s\n",
      "[CV] END ...max_depth=15, max_features=7, min_samples_leaf=5; total time=   3.4s\n",
      "[CV] END ...max_depth=15, max_features=7, min_samples_leaf=5; total time=   3.4s\n",
      "[CV] END ...max_depth=15, max_features=7, min_samples_leaf=5; total time=   3.4s\n",
      "[CV] END ...max_depth=15, max_features=7, min_samples_leaf=7; total time=   3.3s\n",
      "[CV] END ...max_depth=15, max_features=7, min_samples_leaf=7; total time=   3.3s\n",
      "[CV] END ...max_depth=15, max_features=7, min_samples_leaf=7; total time=   3.3s\n",
      "[CV] END ...max_depth=15, max_features=7, min_samples_leaf=9; total time=   3.3s\n",
      "[CV] END ...max_depth=15, max_features=7, min_samples_leaf=9; total time=   3.1s\n",
      "[CV] END ...max_depth=15, max_features=7, min_samples_leaf=9; total time=   3.2s\n",
      "[CV] END ..max_depth=15, max_features=7, min_samples_leaf=11; total time=   3.1s\n",
      "[CV] END ..max_depth=15, max_features=7, min_samples_leaf=11; total time=   3.1s\n",
      "[CV] END ..max_depth=15, max_features=7, min_samples_leaf=11; total time=   3.1s\n",
      "{'max_depth': 15, 'max_features': 7, 'min_samples_leaf': 3}\n"
     ]
    },
    {
     "data": {
      "text/plain": [
       "0.7005484843285417"
      ]
     },
     "execution_count": 68,
     "metadata": {},
     "output_type": "execute_result"
    }
   ],
   "source": [
    "# param_grid = {'min_samples_leaf': [3, 5, 7, 9, 11], 'max_depth': [7, 11, 15]}\n",
    "param_grid = {'max_features': [ 4, 5, 6, 7], 'min_samples_leaf': [3, 5, 7, 9, 11], 'max_depth': [5, 10, 15]}\n",
    "gsv = model_selection.GridSearchCV(\n",
    "    RandomForestClassifier(random_state=31),\n",
    "    param_grid=param_grid,\n",
    "    cv=3,\n",
    "    verbose=2\n",
    ")\n",
    "gsv.fit(X_train,y_train)\n",
    "print(gsv.best_params_)\n",
    "metrics.roc_auc_score(y_test,  np.round(gsv.best_estimator_.predict(X_test)))\n"
   ]
  },
  {
   "cell_type": "code",
   "execution_count": 69,
   "metadata": {},
   "outputs": [
    {
     "data": {
      "text/plain": [
       "0.561323032351521"
      ]
     },
     "execution_count": 69,
     "metadata": {},
     "output_type": "execute_result"
    }
   ],
   "source": [
    "metrics.f1_score(y_test, gsv.best_estimator_.predict(X_test))"
   ]
  },
  {
   "cell_type": "code",
   "execution_count": null,
   "metadata": {},
   "outputs": [],
   "source": [
    "rf.feature_importances_"
   ]
  },
  {
   "cell_type": "code",
   "execution_count": 70,
   "metadata": {},
   "outputs": [
    {
     "data": {
      "image/png": "[encoded data removed]",
      "text/plain": [
       "<Figure size 640x480 with 1 Axes>"
      ]
     },
     "metadata": {},
     "output_type": "display_data"
    }
   ],
   "source": [
    "best = gsv.best_estimator_\n",
    "feature_imp = pd.DataFrame({'Features':X_train.columns, 'Imp': best.feature_importances_})\n",
    "sns.barplot(feature_imp.sort_values(by='Imp', ascending=False)[:15], x='Features', y='Imp').xaxis.set_tick_params(rotation=45);"
   ]
  }
 ],
 "metadata": {
  "kernelspec": {
   "display_name": "Python 3",
   "language": "python",
   "name": "python3"
  },
  "language_info": {
   "codemirror_mode": {
    "name": "ipython",
    "version": 3
   },
   "file_extension": ".py",
   "mimetype": "text/x-python",
   "name": "python",
   "nbconvert_exporter": "python",
   "pygments_lexer": "ipython3",
   "version": "3.11.4"
  },
  "orig_nbformat": 4
 },
 "nbformat": 4,
 "nbformat_minor": 2
}
