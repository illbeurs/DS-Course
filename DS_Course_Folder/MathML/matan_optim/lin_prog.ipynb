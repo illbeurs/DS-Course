{
 "cells": [
  {
   "cell_type": "markdown",
   "metadata": {},
   "source": [
    "Scipy LP"
   ]
  },
  {
   "cell_type": "code",
   "execution_count": 1,
   "metadata": {},
   "outputs": [],
   "source": [
    "import numpy as np\n",
    "values = [4, 2, 1, 7, 3, 6] #стоимости товаров\n",
    "weights = [5, 9, 8, 2, 6, 5] #вес товаров\n",
    "C = 15 #вместимость сумки\n",
    "n = 6 #количество товаров"
   ]
  },
  {
   "cell_type": "markdown",
   "metadata": {},
   "source": [
    "$\\max \\sum v_{i} x_{i}$ и $\\sum w_{i} x_{i} \\leq C$ привести к виду $\\operatorname{min} c^{T} x$ и $A x \\leq b$"
   ]
  },
  {
   "cell_type": "markdown",
   "metadata": {},
   "source": [
    "$c=-v, \\ A=w^{T}, \\ b=(C)\n",
    "$"
   ]
  },
  {
   "cell_type": "code",
   "execution_count": 2,
   "metadata": {},
   "outputs": [],
   "source": [
    "c =  -np.array(values) #изменяем знак, чтобы перейти от задачи максимизации к задаче минимизации\n",
    "A = np.array(weights)  #конвертируем список с весами в массив\n",
    "A = np.expand_dims(A, 0) #преобразуем размерность массива\n",
    "b = np.array([C]) #конвертируем вместимость в массив"
   ]
  },
  {
   "cell_type": "code",
   "execution_count": 3,
   "metadata": {},
   "outputs": [
    {
     "data": {
      "text/plain": [
       "(1, 6)"
      ]
     },
     "execution_count": 3,
     "metadata": {},
     "output_type": "execute_result"
    }
   ],
   "source": [
    "A.shape"
   ]
  },
  {
   "cell_type": "code",
   "execution_count": 4,
   "metadata": {},
   "outputs": [
    {
     "data": {
      "text/plain": [
       "           con: array([], dtype=float64)\n",
       " crossover_nit: 0\n",
       "         eqlin:  marginals: array([], dtype=float64)\n",
       "  residual: array([], dtype=float64)\n",
       "           fun: -52.5\n",
       "       ineqlin:  marginals: array([-3.5])\n",
       "  residual: array([0.])\n",
       "         lower:  marginals: array([13.5, 29.5, 27. ,  0. , 18. , 11.5])\n",
       "  residual: array([0. , 0. , 0. , 7.5, 0. , 0. ])\n",
       "       message: 'Optimization terminated successfully. (HiGHS Status 7: Optimal)'\n",
       "           nit: 0\n",
       "         slack: array([0.])\n",
       "        status: 0\n",
       "       success: True\n",
       "         upper:  marginals: array([0., 0., 0., 0., 0., 0.])\n",
       "  residual: array([inf, inf, inf, inf, inf, inf])\n",
       "             x: array([0. , 0. , 0. , 7.5, 0. , 0. ])"
      ]
     },
     "execution_count": 4,
     "metadata": {},
     "output_type": "execute_result"
    }
   ],
   "source": [
    "from scipy.optimize import linprog\n",
    "linprog(c=c, A_ub=A, b_ub=b)"
   ]
  },
  {
   "cell_type": "markdown",
   "metadata": {},
   "source": [
    "CVXPY (решает задачи ЦЛП)"
   ]
  },
  {
   "cell_type": "code",
   "execution_count": 5,
   "metadata": {},
   "outputs": [],
   "source": [
    "import cvxpy "
   ]
  },
  {
   "cell_type": "code",
   "execution_count": 6,
   "metadata": {},
   "outputs": [],
   "source": [
    "x = cvxpy.Variable(shape=n, integer = True)\n",
    "# A = A.ravel() # Преобразуем размерность массива\n",
    "constraint =   A @ x <= C # cvxpy.sum(cvxpy.multiply(A, x)) <= C\n",
    "x_positive = x >= 0\n",
    "total_value = x @ c #cvxpy.sum(cvxpy.multiply(x, c))"
   ]
  },
  {
   "cell_type": "code",
   "execution_count": 7,
   "metadata": {},
   "outputs": [
    {
     "name": "stdout",
     "output_type": "stream",
     "text": [
      "None\n"
     ]
    },
    {
     "data": {
      "text/plain": [
       "-49.0"
      ]
     },
     "execution_count": 7,
     "metadata": {},
     "output_type": "execute_result"
    }
   ],
   "source": [
    "problem = cvxpy.Problem(cvxpy.Minimize(total_value), constraints=[constraint, x_positive])\n",
    "print(x.value)\n",
    "problem.solve()\n"
   ]
  },
  {
   "cell_type": "markdown",
   "metadata": {},
   "source": [
    "По одному товару минимум"
   ]
  },
  {
   "cell_type": "code",
   "execution_count": 8,
   "metadata": {},
   "outputs": [
    {
     "name": "stdout",
     "output_type": "stream",
     "text": [
      "[1. 0. 0. 1. 0. 1.]\n"
     ]
    },
    {
     "data": {
      "text/plain": [
       "-17.0"
      ]
     },
     "execution_count": 8,
     "metadata": {},
     "output_type": "execute_result"
    }
   ],
   "source": [
    "x = cvxpy.Variable(shape=n, boolean=True)\n",
    "constraint = cvxpy.sum(cvxpy.multiply(A.ravel(), x)) <= C # A @ x <= C\n",
    "x_positive = x >= 0\n",
    "total_value = cvxpy.sum(cvxpy.multiply(x, c)) # x @c\n",
    "\n",
    "problem = cvxpy.Problem(\n",
    "    cvxpy.Minimize(total_value), constraints=[constraint, x_positive]\n",
    ")\n",
    "\n",
    "problem.solve()\n",
    "print(x.value)\n",
    "problem.value"
   ]
  },
  {
   "cell_type": "markdown",
   "metadata": {},
   "source": [
    "Pulp*"
   ]
  },
  {
   "cell_type": "code",
   "execution_count": 2,
   "metadata": {},
   "outputs": [
    {
     "name": "stdout",
     "output_type": "stream",
     "text": [
      "Количество автомобилей модели А:  1.0\n",
      "Количество автомобилей модели В:  4.0\n",
      "Суммарный доход:  200000.0\n"
     ]
    },
    {
     "name": "stderr",
     "output_type": "stream",
     "text": [
      "c:\\Users\\mblyz\\AppData\\Local\\Programs\\Python\\Python310\\lib\\site-packages\\pulp\\pulp.py:1352: UserWarning: Spaces are not permitted in the name. Converted to '_'\n",
      "  warnings.warn(\"Spaces are not permitted in the name. Converted to '_'\")\n"
     ]
    }
   ],
   "source": [
    "from pulp import *\n",
    "problem = LpProblem('Производство машин', LpMaximize)\n",
    "A = LpVariable('Автомобиль A', lowBound=0 , cat=LpInteger)\n",
    "B = LpVariable('Автомобиль B', lowBound=0 , cat=LpInteger)\n",
    "#Целевая функция\n",
    "problem += 20000*A + 45000*B \n",
    "#Ограничения\n",
    "problem += 4*A + 5*B <= 30 \n",
    "problem += 3*A + 6*B <=30\n",
    "problem += 2*A + 7*B <=30\n",
    "problem.solve()\n",
    "print(\"Количество автомобилей модели А: \", A.varValue)\n",
    "print(\"Количество автомобилей модели В: \", B.varValue)\n",
    "print(\"Суммарный доход: \", value(problem.objective))\n",
    "#Количество автомобилей модели А:  1.0\n",
    "#Количество автомобилей модели В:  4.0\n",
    "#Суммарный доход:  200000.0"
   ]
  },
  {
   "cell_type": "markdown",
   "metadata": {},
   "source": [
    "***"
   ]
  },
  {
   "cell_type": "code",
   "execution_count": 10,
   "metadata": {},
   "outputs": [],
   "source": [
    "from scipy.optimize import linprog\n",
    "import numpy as np\n",
    "cost = np.array([\n",
    "    [2, 5, 3],\n",
    "    [7, 7, 6]\n",
    "])\n",
    "stock = np.array([180, 220])\n",
    "demand = np.array([110, 150, 140])\n",
    "num_warehouse = 2\n",
    "num_clients = 3"
   ]
  },
  {
   "cell_type": "code",
   "execution_count": 11,
   "metadata": {},
   "outputs": [
    {
     "name": "stdout",
     "output_type": "stream",
     "text": [
      "[2 5 3 7 7 6]\n"
     ]
    }
   ],
   "source": [
    "c = cost.flatten()\n",
    "print(c) "
   ]
  },
  {
   "cell_type": "code",
   "execution_count": 12,
   "metadata": {},
   "outputs": [
    {
     "name": "stdout",
     "output_type": "stream",
     "text": [
      "[[1 1 1 0 0 0]\n",
      " [0 0 0 1 1 1]]\n",
      "[180 220]\n"
     ]
    }
   ],
   "source": [
    "A = []\n",
    "b = []\n",
    "for i in range(0, num_warehouse):\n",
    "    A.append([0] * (num_clients * i) + [1] * num_clients + [0] * (num_clients * (num_warehouse - i - 1)))\n",
    "    b.append(stock[i])\n",
    "A = np.asarray(A)\n",
    "b = np.asarray(b)\n",
    "print(A)\n",
    "print(b)"
   ]
  },
  {
   "cell_type": "code",
   "execution_count": 36,
   "metadata": {},
   "outputs": [
    {
     "name": "stdout",
     "output_type": "stream",
     "text": [
      "[[ 1  1  1  0  0  0]\n",
      " [ 0  0  0  1  1  1]\n",
      " [-1  0  0 -1  0  0]\n",
      " [ 0 -1  0  0 -1  0]\n",
      " [ 0  0 -1  0  0 -1]\n",
      " [-1  0  0 -1  0  0]\n",
      " [ 0 -1  0  0 -1  0]\n",
      " [ 0  0 -1  0  0 -1]]\n",
      "[ 180  220 -110 -150 -140 -110 -150 -140]\n"
     ]
    }
   ],
   "source": [
    "A = A.tolist()\n",
    "b = b.tolist()\n",
    "for j in range(0, num_clients):\n",
    "    A.append(([0] * j + [-1] + [0] * (num_clients - j - 1)) * num_warehouse)\n",
    "    b.append(-demand[j])\n",
    "A = np.asarray(A)\n",
    "b = np.asarray(b)\n",
    "print(A)\n",
    "print(b)"
   ]
  },
  {
   "cell_type": "code",
   "execution_count": 14,
   "metadata": {},
   "outputs": [
    {
     "data": {
      "text/plain": [
       "           con: array([], dtype=float64)\n",
       " crossover_nit: 0\n",
       "         eqlin:  marginals: array([], dtype=float64)\n",
       "  residual: array([], dtype=float64)\n",
       "           fun: 1900.0\n",
       "       ineqlin:  marginals: array([-3., -0., -5., -7., -6.])\n",
       "  residual: array([0., 0., 0., 0., 0.])\n",
       "         lower:  marginals: array([0., 1., 0., 2., 0., 0.])\n",
       "  residual: array([110.,   0.,  70.,   0., 150.,  70.])\n",
       "       message: 'Optimization terminated successfully. (HiGHS Status 7: Optimal)'\n",
       "           nit: 5\n",
       "         slack: array([0., 0., 0., 0., 0.])\n",
       "        status: 0\n",
       "       success: True\n",
       "         upper:  marginals: array([0., 0., 0., 0., 0., 0.])\n",
       "  residual: array([inf, inf, inf, inf, inf, inf])\n",
       "             x: array([110.,   0.,  70.,   0., 150.,  70.])"
      ]
     },
     "execution_count": 14,
     "metadata": {},
     "output_type": "execute_result"
    }
   ],
   "source": [
    "linprog(c=c, A_ub=A, b_ub=b)"
   ]
  },
  {
   "cell_type": "markdown",
   "metadata": {},
   "source": [
    "***"
   ]
  },
  {
   "cell_type": "code",
   "execution_count": 37,
   "metadata": {},
   "outputs": [],
   "source": [
    "c = np.array([[1000, 12, 10, 19, 8],\n",
    "    [12, 1000, 3, 7, 2], \n",
    "    [10, 3, 1000, 6, 20], \n",
    "    [19, 7, 6, 1000, 4], \n",
    "    [8, 2, 20, 4, 1000]])\n",
    "\n",
    "c_ = c.ravel()\n",
    "c_\n",
    "A_ub = np.eye(25)\n",
    "b_ub = np.ones(25)"
   ]
  },
  {
   "cell_type": "code",
   "execution_count": 38,
   "metadata": {},
   "outputs": [
    {
     "data": {
      "text/plain": [
       "[[1, 1, 1, 1, 1, 0, 0, 0, 0, 0, 0, 0, 0, 0, 0, 0, 0, 0, 0, 0, 0, 0, 0, 0, 0],\n",
       " [0, 0, 0, 0, 0, 1, 1, 1, 1, 1, 0, 0, 0, 0, 0, 0, 0, 0, 0, 0, 0, 0, 0, 0, 0],\n",
       " [0, 0, 0, 0, 0, 0, 0, 0, 0, 0, 1, 1, 1, 1, 1, 0, 0, 0, 0, 0, 0, 0, 0, 0, 0],\n",
       " [0, 0, 0, 0, 0, 0, 0, 0, 0, 0, 0, 0, 0, 0, 0, 1, 1, 1, 1, 1, 0, 0, 0, 0, 0],\n",
       " [0, 0, 0, 0, 0, 0, 0, 0, 0, 0, 0, 0, 0, 0, 0, 0, 0, 0, 0, 0, 1, 1, 1, 1, 1],\n",
       " [1, 0, 0, 0, 0, 1, 0, 0, 0, 0, 1, 0, 0, 0, 0, 1, 0, 0, 0, 0, 1, 0, 0, 0, 0],\n",
       " [0, 1, 0, 0, 0, 0, 1, 0, 0, 0, 0, 1, 0, 0, 0, 0, 1, 0, 0, 0, 0, 1, 0, 0, 0],\n",
       " [0, 0, 1, 0, 0, 0, 0, 1, 0, 0, 0, 0, 1, 0, 0, 0, 0, 1, 0, 0, 0, 0, 1, 0, 0],\n",
       " [0, 0, 0, 1, 0, 0, 0, 0, 1, 0, 0, 0, 0, 1, 0, 0, 0, 0, 1, 0, 0, 0, 0, 1, 0],\n",
       " [0, 0, 0, 0, 1, 0, 0, 0, 0, 1, 0, 0, 0, 0, 1, 0, 0, 0, 0, 1, 0, 0, 0, 0, 1]]"
      ]
     },
     "execution_count": 38,
     "metadata": {},
     "output_type": "execute_result"
    }
   ],
   "source": [
    "A_eq = []\n",
    "b_eq = np.ones(10)\n",
    "num_vars = 25\n",
    "matrix_ord = 5\n",
    "for i in range(5):\n",
    "    A_eq.append([0]*5*i + [1]*5 + [0]*5*(matrix_ord-i-1))\n",
    "for j in range(5):\n",
    "    A_eq.append(([0]*j + [1] + [0]*(matrix_ord-j-1))*matrix_ord)\n",
    "A_eq\n"
   ]
  },
  {
   "cell_type": "code",
   "execution_count": 40,
   "metadata": {},
   "outputs": [
    {
     "data": {
      "text/plain": [
       "           con: array([0., 0., 0., 0., 0., 0., 0., 0., 0., 0.])\n",
       " crossover_nit: 0\n",
       "         eqlin:  marginals: array([ 8.,  1., -0.,  4., -2., 10.,  3.,  2.,  6., -0.])\n",
       "  residual: array([0., 0., 0., 0., 0., 0., 0., 0., 0., 0.])\n",
       "           fun: 32.0\n",
       "       ineqlin:  marginals: array([], dtype=float64)\n",
       "  residual: array([], dtype=float64)\n",
       "         lower:  marginals: array([9.820e+02, 1.000e+00, 0.000e+00, 5.000e+00, 0.000e+00, 1.000e+00,\n",
       "       9.960e+02, 0.000e+00, 0.000e+00, 1.000e+00, 0.000e+00, 0.000e+00,\n",
       "       9.980e+02, 0.000e+00, 2.000e+01, 5.000e+00, 0.000e+00, 0.000e+00,\n",
       "       9.900e+02, 0.000e+00, 0.000e+00, 1.000e+00, 2.000e+01, 0.000e+00,\n",
       "       1.002e+03])\n",
       "  residual: array([ 0.,  0.,  1.,  0., -0.,  0.,  0., -0.,  1.,  0., -0.,  1.,  0.,\n",
       "        0.,  0.,  0.,  0.,  0.,  0.,  1.,  1.,  0.,  0., -0.,  0.])\n",
       "       message: 'Optimization terminated successfully. (HiGHS Status 7: Optimal)'\n",
       "           nit: 11\n",
       "         slack: array([], dtype=float64)\n",
       "        status: 0\n",
       "       success: True\n",
       "         upper:  marginals: array([0., 0., 0., 0., 0., 0., 0., 0., 0., 0., 0., 0., 0., 0., 0., 0., 0.,\n",
       "       0., 0., 0., 0., 0., 0., 0., 0.])\n",
       "  residual: array([inf, inf, inf, inf, inf, inf, inf, inf, inf, inf, inf, inf, inf,\n",
       "       inf, inf, inf, inf, inf, inf, inf, inf, inf, inf, inf, inf])\n",
       "             x: array([ 0.,  0.,  1.,  0., -0.,  0.,  0., -0.,  1.,  0., -0.,  1.,  0.,\n",
       "        0.,  0.,  0.,  0.,  0.,  0.,  1.,  1.,  0.,  0., -0.,  0.])"
      ]
     },
     "execution_count": 40,
     "metadata": {},
     "output_type": "execute_result"
    }
   ],
   "source": [
    "linprog(c_, A_eq=A_eq, b_eq=b_eq)"
   ]
  },
  {
   "cell_type": "markdown",
   "metadata": {},
   "source": [
    "***"
   ]
  },
  {
   "cell_type": "code",
   "execution_count": 3,
   "metadata": {},
   "outputs": [],
   "source": [
    "import cvxpy as cvx"
   ]
  },
  {
   "cell_type": "code",
   "execution_count": 36,
   "metadata": {},
   "outputs": [],
   "source": [
    "c = np.array(\n",
    "    [\n",
    "        [0, 12, 10, 19, 8],\n",
    "        [12, 0, 3, 7, 2],\n",
    "        [10, 3, 0, 6, 20],\n",
    "        [19, 7, 6, 0, 4],\n",
    "        [8, 2, 20, 4, 0],\n",
    "    ]\n",
    ")\n",
    "x = cvx.Variable(shape=(5, 5), boolean=True)"
   ]
  },
  {
   "cell_type": "code",
   "execution_count": 35,
   "metadata": {},
   "outputs": [
    {
     "data": {
      "text/plain": [
       "[Inequality(Constant(CONSTANT, NONNEGATIVE, ())),\n",
       " Equality(Expression(AFFINE, NONNEGATIVE, ()), Constant(CONSTANT, ZERO, ())),\n",
       " Equality(Expression(AFFINE, NONNEGATIVE, ()), Constant(CONSTANT, ZERO, ())),\n",
       " Equality(Expression(AFFINE, NONNEGATIVE, ()), Constant(CONSTANT, ZERO, ())),\n",
       " Equality(Expression(AFFINE, NONNEGATIVE, ()), Constant(CONSTANT, ZERO, ())),\n",
       " Equality(Expression(AFFINE, NONNEGATIVE, ()), Constant(CONSTANT, ZERO, ()))]"
      ]
     },
     "execution_count": 35,
     "metadata": {},
     "output_type": "execute_result"
    }
   ],
   "source": [
    "constraints"
   ]
  },
  {
   "cell_type": "code",
   "execution_count": 57,
   "metadata": {},
   "outputs": [
    {
     "data": {
      "text/plain": [
       "array([[ 0.,  0.,  0.,  0.,  1.],\n",
       "       [ 0.,  0.,  1., -0.,  0.],\n",
       "       [ 0., -0.,  0.,  1.,  0.],\n",
       "       [ 0.,  1.,  0.,  0., -0.],\n",
       "       [ 1.,  0.,  0., -0.,  0.]])"
      ]
     },
     "execution_count": 57,
     "metadata": {},
     "output_type": "execute_result"
    }
   ],
   "source": [
    "constraints = [cvx.sum(x,axis=0)==1, cvx.sum(x,axis=1) == 1] + [x[i,i] == 0 for i in range(5)]\n",
    "obj = cvx.sum(cvx.multiply(x,c))\n",
    "problem = cvx.Problem(cvx.Minimize(obj), constraints=constraints)\n",
    "problem.solve()\n",
    "x.value"
   ]
  },
  {
   "cell_type": "code",
   "execution_count": 58,
   "metadata": {},
   "outputs": [
    {
     "data": {
      "text/plain": [
       "32.0"
      ]
     },
     "execution_count": 58,
     "metadata": {},
     "output_type": "execute_result"
    }
   ],
   "source": [
    "cvx.sum(cvx.multiply(x.value, c)).value"
   ]
  },
  {
   "cell_type": "code",
   "execution_count": null,
   "metadata": {},
   "outputs": [],
   "source": []
  }
 ],
 "metadata": {
  "kernelspec": {
   "display_name": "Python 3",
   "language": "python",
   "name": "python3"
  },
  "language_info": {
   "codemirror_mode": {
    "name": "ipython",
    "version": 3
   },
   "file_extension": ".py",
   "mimetype": "text/x-python",
   "name": "python",
   "nbconvert_exporter": "python",
   "pygments_lexer": "ipython3",
   "version": "3.10.5"
  },
  "orig_nbformat": 4
 },
 "nbformat": 4,
 "nbformat_minor": 2
}
