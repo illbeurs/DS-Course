{
 "cells": [
  {
   "cell_type": "markdown",
   "metadata": {},
   "source": [
    "Найдите третий корень полинома $f(x) = 6x^5 - 5x^4 - 4x^3 + 3x^2$ , взяв за точку старта 0.7. Введите получившееся значение с точностью до трёх знаков после точки-разделителя."
   ]
  },
  {
   "cell_type": "code",
   "execution_count": 2,
   "metadata": {},
   "outputs": [],
   "source": [
    "import numpy as np\n",
    "import sympy as sp\n",
    "fact = \"YA LUBLU KARINU!!!\""
   ]
  },
  {
   "cell_type": "code",
   "execution_count": 5,
   "metadata": {},
   "outputs": [
    {
     "name": "stdout",
     "output_type": "stream",
     "text": [
      "0.628668078167331\n"
     ]
    }
   ],
   "source": [
    "x = sp.Symbol(\" x \")\n",
    "def f(x):\n",
    "    return 6*x**5 - 5*x**4 - 4*x**3 + 3*x**2\n",
    "f_ = 6*x**5 - 5*x**4 - 4*x**3 + 3*x**2\n",
    "x_i = 0.7\n",
    "\n",
    "while f(x_i) > 0.0001 or f(x_i) < -0.0001:\n",
    "    x_i = x_i - f(x_i)/(f_.diff().subs(x,x_i))\n",
    "print(x_i)\n"
   ]
  },
  {
   "cell_type": "markdown",
   "metadata": {},
   "source": [
    "Монте-карло Pi"
   ]
  },
  {
   "cell_type": "code",
   "execution_count": 181,
   "metadata": {},
   "outputs": [
    {
     "name": "stdout",
     "output_type": "stream",
     "text": [
      "3.14164244\n"
     ]
    }
   ],
   "source": [
    "n_in_circle = 0\n",
    "# n = 0\n",
    "n_iter = 10**8\n",
    "x = np.random.uniform(0,1,n_iter)\n",
    "y = np.random.uniform(0,1,n_iter)\n",
    "n_in_circle = np.sum(np.where(x**2 + y**2 <= 1, 1,. 0))\n",
    "# n_in_circle = len([xy for xy in zip(x,y) if xy[0]**2 + xy[1]**2 <= 1])\n",
    "# for i in range(n_iter):\n",
    "#     n+=1\n",
    "#     if (x[i])**2 + (y[[i]])**2 < 1:\n",
    "#         n_in_circle +=1\n",
    "        # x_c.append(x)\n",
    "        # y_c.append(y)\n",
    "\n",
    "    # if i%1000 ==0:\n",
    "    #     if n==0:\n",
    "    #         continue\n",
    "        # print(f\"i = {i}; pi: {4* (n_in_circle/n)}\")\n",
    "print(4* (n_in_circle/n_iter))\n"
   ]
  },
  {
   "cell_type": "code",
   "execution_count": 182,
   "metadata": {},
   "outputs": [
    {
     "data": {
      "text/plain": [
       "5.0"
      ]
     },
     "execution_count": 182,
     "metadata": {},
     "output_type": "execute_result"
    }
   ],
   "source": [
    "def func1(x):\n",
    "    return 3*x**2 - 6*x -45\n",
    "def func2(x):\n",
    "    return 6*x - 6\n",
    "def newtons_method(f, fprime, x0, tol=0.0001):\n",
    "    iter_count = 0\n",
    "    x_curr = x0\n",
    "    f_val = f(x_curr)\n",
    "    while (abs(f_val) > tol):\n",
    "        f_val = f(x_curr)\n",
    "        f_prime_val = fprime(x_curr)\n",
    "        x_curr = x_curr - (f_val)/(f_prime_val)\n",
    "        iter_count += 1\n",
    "    return x_curr\n",
    "newtons_method(f=func1, fprime=func2, x0=50, tol=0.0001)"
   ]
  },
  {
   "cell_type": "code",
   "execution_count": 216,
   "metadata": {},
   "outputs": [
    {
     "data": {
      "text/plain": [
       "0.1666666807529666"
      ]
     },
     "execution_count": 216,
     "metadata": {},
     "output_type": "execute_result"
    }
   ],
   "source": [
    "from scipy.optimize import newton\n",
    "newton(func=lambda x: 24*x**2 - 4*x, fprime=lambda x: 48*x -4, x0=42, tol=0.0001)"
   ]
  },
  {
   "cell_type": "code",
   "execution_count": 215,
   "metadata": {},
   "outputs": [
    {
     "name": "stdout",
     "output_type": "stream",
     "text": [
      "0.1666666807529666\n"
     ]
    }
   ],
   "source": [
    "def newton_my(func, der, x_0, tol=0.0001):\n",
    "    x = x_0\n",
    "    while(abs(func(x)) > tol):\n",
    "        x -= func(x)/der(x)\n",
    "    return x\n",
    "print(newton_my(lambda x:  24*x**2 - 4*x, lambda x:48*x -4, 42))"
   ]
  },
  {
   "cell_type": "markdown",
   "metadata": {},
   "source": [
    "Оптимизация с помощью квазиньютоновского метода\n",
    "\n"
   ]
  },
  {
   "cell_type": "code",
   "execution_count": 242,
   "metadata": {},
   "outputs": [
    {
     "name": "stdout",
     "output_type": "stream",
     "text": [
      "Статус оптимизации CONVERGENCE: NORM_OF_PROJECTED_GRADIENT_<=_PGTOL\n",
      "Количество оценок: 1\n",
      "Решение: f([0. 0.]) = 10.00000\n"
     ]
    }
   ],
   "source": [
    "import numpy as np\n",
    "from scipy.optimize import minimize\n",
    "def func(x):\n",
    "    # return x[0]**2 - x[0]*x[1] + x[1]**2 + 9*x[0] - 6*x[1] + 20\n",
    "    return x[0]**4  + 6*x[1]**2 + 10\n",
    "def grad_func(x):\n",
    "    # return np.array([2*x[0] - x[1] + 9, -x[0] + 2*x[1] - 6])\n",
    "    return np.array([4*x[0]**3, 12*x[1]])\n",
    "\n",
    "x_0 = [0,0]\n",
    "result = minimize(func, x_0, method='L-BFGS-B', jac=grad_func)\n",
    "\n",
    "print('Статус оптимизации %s' % result['message'])\n",
    "print('Количество оценок: %d' % result['nfev'])\n",
    "solution = result['x']  \n",
    "evaluation = func(solution)\n",
    "print('Решение: f(%s) = %.5f' % (solution, evaluation))"
   ]
  }
 ],
 "metadata": {
  "kernelspec": {
   "display_name": "Python 3",
   "language": "python",
   "name": "python3"
  },
  "language_info": {
   "codemirror_mode": {
    "name": "ipython",
    "version": 3
   },
   "file_extension": ".py",
   "mimetype": "text/x-python",
   "name": "python",
   "nbconvert_exporter": "python",
   "pygments_lexer": "ipython3",
   "version": "3.10.5"
  },
  "orig_nbformat": 4
 },
 "nbformat": 4,
 "nbformat_minor": 2
}
