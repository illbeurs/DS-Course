{
 "cells": [
  {
   "cell_type": "markdown",
   "metadata": {},
   "source": [
    "## Контрольная работа №2  (Вариант 5)\n",
    " <p align: left> © Maxim Blyzen 05-108 </p>"
   ]
  },
  {
   "cell_type": "markdown",
   "metadata": {},
   "source": [
    "### Задание 1: Для $ f(x),x  \\in [a,b] $ построить интерполяционный сплайн <br> первой степени по следующим узлам:\n",
    "##### 1)  $ x_ {k} = a + k \\frac {b-a}{4} $, k = $ \\overline{0, 4}$\n",
    "\n"
   ]
  },
  {
   "cell_type": "code",
   "execution_count": 32,
   "metadata": {},
   "outputs": [],
   "source": [
    "import sympy as sp # библиотека символьных вычислений  "
   ]
  },
  {
   "cell_type": "markdown",
   "metadata": {},
   "source": [
    "##### Определим отрезок интерполирования $[a,b]$"
   ]
  },
  {
   "cell_type": "code",
   "execution_count": 33,
   "metadata": {},
   "outputs": [
    {
     "name": "stdout",
     "output_type": "stream",
     "text": [
      "Узлы: [-1.0, -0.5, 0.0, 0.5, 1.0]\n"
     ]
    }
   ],
   "source": [
    "a, b = -1, 1\n",
    "nodes = [a + k*(b-a)/4 for k in range(0,5)]\n",
    "print(\"Узлы: {}\".format(nodes))"
   ]
  },
  {
   "cell_type": "markdown",
   "metadata": {},
   "source": [
    "#### Определим целевую функцию "
   ]
  },
  {
   "cell_type": "code",
   "execution_count": 34,
   "metadata": {},
   "outputs": [
    {
     "name": "stdout",
     "output_type": "stream",
     "text": [
      "Целевая функция: \n"
     ]
    },
    {
     "data": {
      "text/latex": [
       "$\\displaystyle e^{\\frac{x}{2}} + \\cosh{\\left(\\frac{x + 1}{2} \\right)}$"
      ],
      "text/plain": [
       "exp(x/2) + cosh((x + 1)/2)"
      ]
     },
     "execution_count": 34,
     "metadata": {},
     "output_type": "execute_result"
    }
   ],
   "source": [
    "def f(x):\n",
    "    func = sp.exp(x/2) + sp.cosh(sp.together((x+1)/2)) #type: ignore \n",
    "    return func\n",
    "x = sp.Symbol('x')\n",
    "print(\"Целевая функция: \")\n",
    "sp.together(f(x))"
   ]
  },
  {
   "cell_type": "code",
   "execution_count": 35,
   "metadata": {},
   "outputs": [],
   "source": [
    "# На вход подаётся список узлов nodes и индекс фундаментального полинома k\n",
    "def l(nodes, k):\n",
    "    l_k = 1\n",
    "    for j in range(len(nodes)):\n",
    "        if j==k:\n",
    "            continue\n",
    "        l_k*= (x - nodes[j])/(nodes[k] - nodes[j]) #\n",
    "    return sp.expand(l_k)\n",
    "# Функция построения интерполяционного полинома Лагранжа по данным узлам и функции\n",
    "def L(func, nodes):\n",
    "    return sum([l(nodes, k)* func.subs(x,nodes[k]) for k in range(len(nodes))])"
   ]
  },
  {
   "cell_type": "markdown",
   "metadata": {},
   "source": [
    "#### $S_n^1(f,x)$ построим при помощи полиномов Лагранжа степени $\\leq 1$ <br> на каждом интервале интерполяции."
   ]
  },
  {
   "cell_type": "code",
   "execution_count": 36,
   "metadata": {},
   "outputs": [
    {
     "name": "stdout",
     "output_type": "stream",
     "text": [
      "S_5_1 для заданных узлов: \n",
      "0.40736644647669*x + 2.01389710618932 на интервале [-1.0; -0.5]\n",
      "0.634824164510805*x + 2.12762596520638 на интервале [-0.5; 0.0]\n",
      "0.902165472316411*x + 2.12762596520638 на интервале [0.0; 0.5]\n",
      "1.22618640830157*x + 1.9656154972138 на интервале [0.5; 1.0]\n"
     ]
    }
   ],
   "source": [
    "def S_n_1(x, nodes):\n",
    "    spline = dict()\n",
    "    for i in range(len(nodes)-1):\n",
    "        spline[f\"[{nodes[i]}; {nodes[i+1]}]\"] = sp.N(L(f(x), nodes[i:i+2]))\n",
    "    print(f\"S_{len(nodes)}_1 для заданных узлов: \")\n",
    "    for section, line in spline.items():\n",
    "        print(f\"{line} на интервале {section}\")\n",
    "    return spline\n",
    "spline5_1 = S_n_1(x, nodes)\n"
   ]
  },
  {
   "cell_type": "markdown",
   "metadata": {},
   "source": [
    "#### Оценим погрешность приближения сплайном первой степени на всём интервале [0,1] по формуле: $||r_n(x)|| = ||f - S_n^1(f,x)|| \\leq  \\frac{\\delta^2_n}{4}M$, при условии, что $\\exists f''$ и $|f''(x)| \\leq M$, <br> а также $\\delta_n = \\underset{k=\\overline{1..n}}{max}|x_k-x_{k-1}|$"
   ]
  },
  {
   "cell_type": "markdown",
   "metadata": {},
   "source": [
    "Найдем вторую производную функции и отобразим ее график"
   ]
  },
  {
   "cell_type": "code",
   "execution_count": 37,
   "metadata": {},
   "outputs": [
    {
     "data": {
      "image/png": "[encoded data removed]",
      "text/plain": [
       "<Figure size 640x480 with 1 Axes>"
      ]
     },
     "metadata": {},
     "output_type": "display_data"
    }
   ],
   "source": [
    "# Вторая производная функции \n",
    "dev2 = f(x).diff(x,2)\n",
    "sp.plot(dev2, xlim=(-2,2),ylim=(0,2), ylabel=\"f(x)\", xlabel=\"x\");"
   ]
  },
  {
   "cell_type": "markdown",
   "metadata": {},
   "source": [
    "Очевидно, что вторая производная монотонно возрастает на [-1,1], поэтому $M=f''(1)$"
   ]
  },
  {
   "cell_type": "code",
   "execution_count": 38,
   "metadata": {},
   "outputs": [
    {
     "name": "stdout",
     "output_type": "stream",
     "text": [
      "M = 0.797950476378843\n",
      "Итоговая оценка для равноотстоящих узлов: ||r_n(x)|| <= 0.0498719047736777\n"
     ]
    }
   ],
   "source": [
    "M = sp.N(dev2.subs(x,1))\n",
    "print(f\"M = {M}\")\n",
    "#Диаметр разбиения \n",
    "def delta_n(nodes):\n",
    "    return max([abs(nodes[i] - nodes[i+1]) for i in range(len(nodes)-1)])\n",
    "print(f\"Итоговая оценка для равноотстоящих узлов: ||r_n(x)|| <= {delta_n(nodes)**2*M/4}\")"
   ]
  },
  {
   "cell_type": "markdown",
   "metadata": {},
   "source": [
    "***"
   ]
  },
  {
   "cell_type": "markdown",
   "metadata": {},
   "source": [
    "##### Далее построим сплайн первой степени с использованием узлов Чебышева и проделаем такую же оценку\n",
    "##### 2) $ x_{k} = \\frac {b-a}{2} \\cos(\\frac{(2k-1)\\pi }{10}) + \\frac{b+a}{2}$, k = $ \\overline{1, 5}$"
   ]
  },
  {
   "cell_type": "code",
   "execution_count": 39,
   "metadata": {},
   "outputs": [
    {
     "name": "stdout",
     "output_type": "stream",
     "text": [
      "Узлы Чебышева на отрезке [-1,1] (упорядоченные): [-0.9510565163, -0.5877852523, 0, 0.5877852523, 0.9510565163]\n"
     ]
    }
   ],
   "source": [
    "nodes_ch = sorted([round(sp.sympify((b-a)/2)*sp.cos((2*k-1)*sp.pi/10) + (b+a)/2,10) for k in range(1, 6)])\n",
    "print(f\"Узлы Чебышева на отрезке [-1,1] (упорядоченные): {nodes_ch}\")"
   ]
  },
  {
   "cell_type": "code",
   "execution_count": 40,
   "metadata": {},
   "outputs": [
    {
     "name": "stdout",
     "output_type": "stream",
     "text": [
      "Сплайн по узлам Чебышева: \n",
      "S_5_1 для заданных узлов: \n",
      "0.398643877764698*x + 2.00098893302493 на интервале [-0.9510565163; -0.5877852523]\n",
      "0.614091665355256*x + 2.12762596520638 на интервале [-0.5877852523; 0]\n",
      "0.928995295702014*x + 2.12762596520638 на интервале [0; 0.5877852523]\n",
      "1.23865780211054*x + 1.94561091077048 на интервале [0.5877852523; 0.9510565163]\n"
     ]
    }
   ],
   "source": [
    "print(\"Сплайн по узлам Чебышева: \")\n",
    "spline5_1_ch = S_n_1(x,nodes_ch)"
   ]
  },
  {
   "cell_type": "markdown",
   "metadata": {},
   "source": [
    "Теперь так же, как и в случае с равноостоящими узлами, оценим погрешность приближения, однако $\\delta_n$ уже будет другим"
   ]
  },
  {
   "cell_type": "code",
   "execution_count": 41,
   "metadata": {},
   "outputs": [
    {
     "name": "stdout",
     "output_type": "stream",
     "text": [
      "Итоговая оценка для узлов Чебышева: ||r_n(x)|| <= 0.0689212773149437\n"
     ]
    }
   ],
   "source": [
    "print(f\"Итоговая оценка для узлов Чебышева: ||r_n(x)|| <= {delta_n(nodes_ch)**2*M/4}\")"
   ]
  },
  {
   "cell_type": "markdown",
   "metadata": {},
   "source": [
    "Видим, что равноостощие узлы дают лучшую оценку вследствие меньшего диаметра разбиения"
   ]
  },
  {
   "cell_type": "markdown",
   "metadata": {},
   "source": [
    "***"
   ]
  },
  {
   "cell_type": "markdown",
   "metadata": {},
   "source": [
    "***"
   ]
  },
  {
   "cell_type": "markdown",
   "metadata": {},
   "source": [
    "### Задание 2: Для $ f(x),x  \\in [a,b] $ построить естественный сплайн третьей степени\n",
    "##### 1) Для набора узлов $ x_ {k} = a + k \\frac {b-a}{4} $, k = $ \\overline{0, 4}$ строим по определению\n"
   ]
  },
  {
   "cell_type": "code",
   "execution_count": 42,
   "metadata": {},
   "outputs": [
    {
     "name": "stdout",
     "output_type": "stream",
     "text": [
      "Сплайн 3-й степени по равноотстоящим узлам: \n"
     ]
    },
    {
     "data": {
      "text/plain": [
       "{'[-1.0; -0.5]': 0.190465819662462*x**3 + 0.571397458987386*x**2 + 0.93114745054846*x + 2.15674647093617,\n",
       " '[-0.5; 0.0]': -0.0424982261758484*x**3 + 0.221951390229921*x**2 + 0.756424416169727*x + 2.12762596520638,\n",
       " '[0.0; 0.5]': 0.139061444126893*x**3 + 0.221951390229921*x**2 + 0.756424416169727*x + 2.12762596520638,\n",
       " '[0.5; 1.0]': -0.287029037613507*x**3 + 0.861087112840521*x**2 + 0.436856554864427*x + 2.18088727542393}"
      ]
     },
     "execution_count": 42,
     "metadata": {},
     "output_type": "execute_result"
    }
   ],
   "source": [
    "# Определим неизвестные коэффиценты\n",
    "a0, a1, a2, a3 = sp.symbols(\"a0:4\")\n",
    "b0, b1, b2, b3 = sp.symbols(\"b0:4\")\n",
    "c0, c1, c2, c3 = sp.symbols(\"c0:4\")\n",
    "d0, d1, d2, d3 = sp.symbols(\"d0:4\")\n",
    "def S_5_3(nodes):\n",
    "    #сначала определим кубические функции с неизвестными коэф. для каждого промежутка\n",
    "    s01 = a0 + b0*x + c0*x**2 + d0*x**3\n",
    "    s12 = a1 + b1*x + c1*x**2 + d1*x**3  \n",
    "    s23 = a2 + b2*x + c2*x**2 + d2*x**3\n",
    "    s34 = a3 + b3*x + c3*x**2 + d3*x**3\n",
    "    #общий список уравнений системы\n",
    "    equations = list()\n",
    "    #5 уравнений из условий интерполяции\n",
    "    int1 = s01.subs(x, nodes[0]) - f(x).subs(x,nodes[0])\n",
    "    int2 = s12.subs(x, nodes[1]) - f(x).subs(x,nodes[1])\n",
    "    int3 = s23.subs(x, nodes[2]) - f(x).subs(x,nodes[2])\n",
    "    int4 = s34.subs(x, nodes[3]) - f(x).subs(x,nodes[3])\n",
    "    int5 = s34.subs(x, nodes[4]) - f(x).subs(x,nodes[4])\n",
    "    equations.extend([int1,int2,int3,int4,int5])\n",
    "    # 3 уравнения из непрерывности сплайна\n",
    "    cont1_1 = s01.subs(x, nodes[1]) - s12.subs(x,nodes[1])\n",
    "    cont1_2 = s12.subs(x, nodes[2]) - s23.subs(x,nodes[2])\n",
    "    cont1_3 = s23.subs(x, nodes[3]) - s34.subs(x,nodes[3])\n",
    "    equations.extend([cont1_1,cont1_2,cont1_3])\n",
    "    # 3 уравнения из непрерывности 1-й производной\n",
    "    cont2_1 = s01.diff(x).subs(x, nodes[1]) - s12.diff(x).subs(x,nodes[1])\n",
    "    cont2_2 = s12.diff(x).subs(x, nodes[2]) - s23.diff(x).subs(x,nodes[2])\n",
    "    cont2_3 = s23.diff(x).subs(x, nodes[3]) - s34.diff(x).subs(x,nodes[3])\n",
    "    equations.extend([cont2_1,cont2_2,cont2_3])\n",
    "    # 3 уравнения из непрерывности 2-й производной\n",
    "    cont3_1 = s01.diff(x,2).subs(x, nodes[1]) - s12.diff(x,2).subs(x,nodes[1])\n",
    "    cont3_2 = s12.diff(x,2).subs(x, nodes[2]) - s23.diff(x,2).subs(x,nodes[2])\n",
    "    cont3_3 = s23.diff(x,2).subs(x, nodes[3]) - s34.diff(x,2).subs(x,nodes[3])\n",
    "    equations.extend([cont3_1,cont3_2,cont3_3])\n",
    "    # 2 уравнения, определяющих естественный сплайн\n",
    "    natur1 = s01.diff(x,2).subs(x, nodes[0])\n",
    "    natur2 = s34.diff(x,2).subs(x, nodes[4])\n",
    "    equations.extend([natur1,natur2])\n",
    "    #Итого 16 уравнений и 16 неизвестных\n",
    "    solve = list(sp.linsolve(equations, a0, a1, a2, a3, b0, b1, b2, b3, c0, c1, c2, c3, d0, d1, d2, d3))[0] #type: ignore\n",
    "    spline = {f\"[{nodes[i]}; {nodes[i+1]}]\": sum([x**j *solve[i::4][j] for j in range(4)]) for i in range(len(nodes)-1)}\n",
    "    return spline\n",
    "spline5_3 = S_5_3(nodes)\n",
    "print(\"Сплайн 3-й степени по равноотстоящим узлам: \")\n",
    "spline5_3"
   ]
  },
  {
   "cell_type": "markdown",
   "metadata": {},
   "source": [
    "***"
   ]
  },
  {
   "cell_type": "markdown",
   "metadata": {},
   "source": [
    "##### 2) Для набора узлов $ x_{k} = \\frac {b-a}{2} \\cos(\\frac{(2k-1)\\pi }{10}) + \\frac{b+a}{2}$, k = $ \\overline{1..5}$ строим сплайн третьей степени с помощью <br>метода моментов.\n",
    "\n"
   ]
  },
  {
   "cell_type": "markdown",
   "metadata": {},
   "source": [
    "##### Определим сплайны на каждом из $[x_{k-1}; x_k] k=\\overline{1..5}$ по формуле: <br>$ g_k(x) = M_{k-1} \\frac{\\left(x-x_{k-1}\\right)^2}{2}+\\frac{M_k-M_{k-1}}{x_k-x_{k-1}} \\frac{\\left(x-x_{k-1}\\right)^3}{6}+g_k^{\\prime}\\left(x_{k-1}\\right)\\left(x-x_{k-1}\\right)+g_k\\left(x_{k-1}\\right)$, <br> где $M_i \\equiv S^{\\prime \\prime}\\left(x_i\\right)$ а далее учтем оставшиеся условия для определения неизвестных коэффицентов."
   ]
  },
  {
   "cell_type": "code",
   "execution_count": 43,
   "metadata": {},
   "outputs": [
    {
     "name": "stdout",
     "output_type": "stream",
     "text": [
      "Сплайн 3-й степени по узлам Чебышева, построенный с помощью метода моментов: \n"
     ]
    },
    {
     "data": {
      "text/plain": [
       "{'[-0.9510565163; -0.5877852523]': 0.246483005377383*x**3 + 0.703257805264116*x**2 + 1.03495441784261*x + 2.18208777816657,\n",
       " '[-0.5877852523; 0]': -0.0217029566410929*x**3 + 0.230350545205424*x**2 + 0.756986504928933*x + 2.12762596470472,\n",
       " '[0; 0.5877852523]': 0.105971164913469*x**3 + 0.230350545024148*x**2 + 0.756986505383443*x + 2.12762596520638,\n",
       " '[0.5877852523; 0.9510565163]': -0.382831830324234*x**3 + 1.09228412060732*x**2 + 0.250354661274672*x + 2.22688954066825}"
      ]
     },
     "execution_count": 43,
     "metadata": {},
     "output_type": "execute_result"
    }
   ],
   "source": [
    "# Определим неизвестные коэффиценты\n",
    "m0, m1, m2, m3, m4 = sp.symbols(\"m0:5\")\n",
    "g1dev, g2dev, g3dev, g4dev = sp.symbols(\"gdev1:5\")\n",
    "gdev = [g1dev, g2dev, g3dev, g4dev]\n",
    "M = [m0,m1,m2,m3,m4]\n",
    "def S_5_3_momentum(nodes):\n",
    "    #сначала определим кубические функции с неизвестными коэф. для каждого промежутка\n",
    "    g1, g2, g3, g4 = tuple(M[k-1]*(x-nodes[k-1])**2/2 + \\\n",
    "                          (M[k]-M[k-1])*(x-nodes[k-1])**3/(nodes[k]-nodes[k-1])/6 + \\\n",
    "                          gdev[k-1]*(x-nodes[k-1]) + f(x).subs(x,nodes[k-1])\n",
    "                          for k in range(1,len(gdev)+1))\n",
    "    g = [g1,g2,g3,g4]\n",
    "    #общий список уравнений системы\n",
    "    equations = list()\n",
    "    # Оставшееся условие интерполяции\n",
    "    int5 = g4.subs(x,nodes[-1]) - f(x).subs(x,nodes[-1])\n",
    "    equations.extend([int5])\n",
    "    # 3 уравнения из непрерывности сплайна\n",
    "    cont1_1 = g1.subs(x, nodes[1]) - g2.subs(x,nodes[1])\n",
    "    cont1_2 = g2.subs(x, nodes[2]) - g3.subs(x,nodes[2])\n",
    "    cont1_3 = g3.subs(x, nodes[3]) - g4.subs(x,nodes[3])\n",
    "    equations.extend([cont1_1,cont1_2,cont1_3])\n",
    "    # 3 уравнения из непрерывности 1-й производной\n",
    "    cont2_1 = g1.diff(x).subs(x, nodes[1]) - g2.diff(x).subs(x,nodes[1])\n",
    "    cont2_2 = g2.diff(x).subs(x, nodes[2]) - g3.diff(x).subs(x,nodes[2])\n",
    "    cont2_3 = g3.diff(x).subs(x, nodes[3]) - g4.diff(x).subs(x,nodes[3])\n",
    "    equations.extend([cont2_1,cont2_2,cont2_3])\n",
    "    # 2 уравнения, определяющих естественный сплайн\n",
    "    natur1 = g1.diff(x,2).subs(x, nodes[0])\n",
    "    natur2 = g4.diff(x,2).subs(x, nodes[4])\n",
    "    equations.extend([natur1,natur2])\n",
    "    # #Итого 9 уравнений и 9 неизвестных\n",
    "    solve = list(sp.linsolve(equations,m0,m1,m2,m3,m4,g1dev,g2dev,g3dev,g4dev))[0] #type: ignore \n",
    "    g1_ = g1.subs([(m0,solve[0]), (m1,solve[1]), (g1dev,solve[5])])\n",
    "    spline = {f\"[{nodes[i]}; {nodes[i+1]}]\": \\\n",
    "                 sp.expand(sp.N(g[i].subs([(M[i], solve[i]), (M[i+1], solve[i+1]), (gdev[i],solve[5+i])]))) \\\n",
    "                 for i in range(len(nodes)-1)}\n",
    "    return spline\n",
    "spline5_3_ch = S_5_3_momentum(nodes_ch)\n",
    "print(\"Сплайн 3-й степени по узлам Чебышева, построенный с помощью метода моментов: \")\n",
    "spline5_3_ch\n",
    "\n"
   ]
  },
  {
   "cell_type": "markdown",
   "metadata": {},
   "source": [
    "***"
   ]
  },
  {
   "cell_type": "markdown",
   "metadata": {},
   "source": [
    "***"
   ]
  },
  {
   "cell_type": "code",
   "execution_count": 65,
   "metadata": {},
   "outputs": [
    {
     "name": "stdout",
     "output_type": "stream",
     "text": [
      "Разница значений в контрольной точке x_1 = -0.625: \n",
      "Для сплайна первого порядка: -0.0100477643940597\n",
      "Для сплайна первого порядка (узлы Чебышева): -0.00259119667465924\n",
      "Для сплайна третьего порядка : -0.00223568975946598\n",
      "Для сплайна третьего порядка(узлы Чебышева) : -0.000529519464187000\n",
      "****************************************************************\n",
      "Разница значений в контрольной точке x_2 = 0.7142857142857143: \n",
      "Для сплайна первого порядка: -0.0218272552666399\n",
      "Для сплайна первого порядка (узлы Чебышева): -0.0107308072582990\n",
      "Для сплайна третьего порядка : -0.00801973596453243\n",
      "Для сплайна третьего порядка(узлы Чебышева) : -0.00385046575946291\n",
      "****************************************************************\n",
      "Разница значений в контрольной точке x_3 = 0.2857142857142857: \n",
      "Для сплайна первого порядка: -0.0179749495080332\n",
      "Для сплайна первого порядка (узлы Чебышева): -0.0256406133324911\n",
      "Для сплайна третьего порядка : 0.00230345580660840\n",
      "Для сплайна третьего порядка(узлы Чебышева) : 0.00222899853700209\n",
      "****************************************************************\n"
     ]
    }
   ],
   "source": [
    "# Сравним значения полинома Лагранжа и исходной функции в контрольных точках\n",
    "def spk(spline, value): #функция определения значения сплайна относительно переданной точки\n",
    "    for key, spline_k in spline.items():\n",
    "        lb,rb = map(float, key.replace(\"[\",'').replace(\"]\",\"\").replace(\";\",\"\").split())\n",
    "        if lb <= value <= rb:\n",
    "            return spline_k\n",
    "control_points = [-5/8, 5/7, 2/7]\n",
    "for i, x_i in enumerate(control_points):\n",
    "    print(f\"Разница значений в контрольной точке x_{i+1} = {x_i}: \")\n",
    "    print(f\"Для сплайна первого порядка:\", sp.sympify(f(x).subs(x,x_i) - spk(spline5_1,x_i).subs(x, x_i))) #type:ignore\n",
    "    print(f\"Для сплайна первого порядка (узлы Чебышева):\", sp.sympify(f(x).subs(x,x_i) - spk(spline5_1_ch, x_i).subs(x, x_i))) #type:ignore\n",
    "    print(f\"Для сплайна третьего порядка :\", sp.sympify(f(x).subs(x,x_i) - spk(spline5_3,x_i).subs(x, x_i))) #type:ignore\n",
    "    print(f\"Для сплайна третьего порядка(узлы Чебышева) :\", sp.sympify(f(x).subs(x,x_i) - spk(spline5_3_ch,x_i).subs(x, x_i))) #type:ignore\n",
    "    print(\"****\"*16)"
   ]
  },
  {
   "cell_type": "code",
   "execution_count": 9,
   "metadata": {},
   "outputs": [
    {
     "name": "stdout",
     "output_type": "stream",
     "text": [
      "1.00379949300115 1.9938522913014267\n"
     ]
    }
   ],
   "source": [
    "x, y = 0,0\n",
    "for n in range(1,10000000):\n",
    "    x = (1-2/n)*x - y/n + 4/n\n",
    "    y=(1-1/n)*y - x/n + 3/n\n",
    "print(x,y)"
   ]
  },
  {
   "cell_type": "code",
   "execution_count": 30,
   "metadata": {},
   "outputs": [
    {
     "name": "stdout",
     "output_type": "stream",
     "text": [
      "6.6151662030541\n",
      "6.61516595725601\n",
      "6.615165875835693\n",
      "6.6151658349024185\n",
      "6.6151658100312485\n",
      "6.61516579352434\n",
      "6.615165781575018\n",
      "6.615165773945255\n",
      "6.615165768084986\n"
     ]
    }
   ],
   "source": [
    "import seaborn as sns\n",
    "import numpy as np\n",
    "def fun(n):\n",
    "    return (np.sum(np.arange(1,2025)**(1/n))/2024)**n\n",
    "for n in range(1,10000000):\n",
    "    if n%1000000==0:\n",
    "        print((np.log(fun(n))))"
   ]
  },
  {
   "cell_type": "code",
   "execution_count": 35,
   "metadata": {},
   "outputs": [],
   "source": [
    "a = [2,2]\n",
    "for i in range(10000):\n",
    "    a.append(a[-1] + a[-2])"
   ]
  },
  {
   "cell_type": "code",
   "execution_count": 41,
   "metadata": {},
   "outputs": [
    {
     "name": "stdout",
     "output_type": "stream",
     "text": [
      "0.0009896088624754156\n"
     ]
    }
   ],
   "source": [
    "summ=0\n",
    "for n in range(1,100):\n",
    "    summ+=a[n]/(2023**n)\n",
    "print(summ)"
   ]
  },
  {
   "cell_type": "code",
   "execution_count": 4,
   "metadata": {},
   "outputs": [
    {
     "data": {
      "text/plain": [
       "<function math.factorial(n, /)>"
      ]
     },
     "execution_count": 4,
     "metadata": {},
     "output_type": "execute_result"
    }
   ],
   "source": [
    "import math\n",
    "import numpy as np\n",
    "math.factorial"
   ]
  },
  {
   "cell_type": "code",
   "execution_count": 9,
   "metadata": {},
   "outputs": [
    {
     "data": {
      "text/plain": [
       "[1.0,\n",
       " 10.0,\n",
       " 50.0,\n",
       " 166.66666666666666,\n",
       " 416.6666666666667,\n",
       " 833.3333333333334,\n",
       " 1388.888888888889,\n",
       " 1984.126984126984,\n",
       " 2480.15873015873,\n",
       " 2755.731922398589,\n",
       " 2755.731922398589]"
      ]
     },
     "execution_count": 9,
     "metadata": {},
     "output_type": "execute_result"
    }
   ],
   "source": [
    "[10**i/math.factorial(i) for i in range(10+1)]"
   ]
  },
  {
   "cell_type": "code",
   "execution_count": 16,
   "metadata": {},
   "outputs": [
    {
     "name": "stdout",
     "output_type": "stream",
     "text": [
      "0.5830397501929855\n",
      "0.5590925842313252\n",
      "0.5483515125779114\n",
      "0.541918178362537\n",
      "0.5375166908531476\n",
      "0.5342624723609587\n",
      "0.5317305296811751\n",
      "0.5296879611868244\n",
      "0.5279950429761979\n"
     ]
    }
   ],
   "source": [
    "def factorial(number):\n",
    "    factorial = 1\n",
    "    while number > 1:\n",
    "        factorial = factorial * number\n",
    "        number = number - 1\n",
    "    return factorial\n",
    "for n in range(1,100):\n",
    "    if n%10==0:\n",
    "        print((np.sum([n**i/factorial(i) for i in range(n+1)]))/math.exp(n))"
   ]
  },
  {
   "cell_type": "code",
   "execution_count": 61,
   "metadata": {},
   "outputs": [
    {
     "name": "stdout",
     "output_type": "stream",
     "text": [
      "5\n",
      "4\n",
      "3\n"
     ]
    }
   ],
   "source": [
    "for elem in list(sol)[0]:\n",
    "    print(elem.subs(s,30000)*100)"
   ]
  },
  {
   "cell_type": "code",
   "execution_count": 24,
   "metadata": {},
   "outputs": [],
   "source": [
    "from sympy.solvers import solve\n",
    "import sympy as sp"
   ]
  },
  {
   "cell_type": "code",
   "execution_count": 25,
   "metadata": {},
   "outputs": [
    {
     "name": "stdout",
     "output_type": "stream",
     "text": [
      "[-2*a/3 - 2*b/3 - (-1/2 - sqrt(3)*I/2)*(-1350*a*b + sqrt((-2700*a*b + 2*(2*a + 2*b - 1)**3 - (18*a + 18*b - 9)*(a**2 + 2*a*b - a + b**2 - 101*b))**2 - 4*(-3*a**2 - 6*a*b + 3*a - 3*b**2 + 303*b + (2*a + 2*b - 1)**2)**3)/2 + (2*a + 2*b - 1)**3 - (18*a + 18*b - 9)*(a**2 + 2*a*b - a + b**2 - 101*b)/2)**(1/3)/3 + 1/3 - (-3*a**2 - 6*a*b + 3*a - 3*b**2 + 303*b + (2*a + 2*b - 1)**2)/(3*(-1/2 - sqrt(3)*I/2)*(-1350*a*b + sqrt((-2700*a*b + 2*(2*a + 2*b - 1)**3 - (18*a + 18*b - 9)*(a**2 + 2*a*b - a + b**2 - 101*b))**2 - 4*(-3*a**2 - 6*a*b + 3*a - 3*b**2 + 303*b + (2*a + 2*b - 1)**2)**3)/2 + (2*a + 2*b - 1)**3 - (18*a + 18*b - 9)*(a**2 + 2*a*b - a + b**2 - 101*b)/2)**(1/3)), -2*a/3 - 2*b/3 - (-1/2 + sqrt(3)*I/2)*(-1350*a*b + sqrt((-2700*a*b + 2*(2*a + 2*b - 1)**3 - (18*a + 18*b - 9)*(a**2 + 2*a*b - a + b**2 - 101*b))**2 - 4*(-3*a**2 - 6*a*b + 3*a - 3*b**2 + 303*b + (2*a + 2*b - 1)**2)**3)/2 + (2*a + 2*b - 1)**3 - (18*a + 18*b - 9)*(a**2 + 2*a*b - a + b**2 - 101*b)/2)**(1/3)/3 + 1/3 - (-3*a**2 - 6*a*b + 3*a - 3*b**2 + 303*b + (2*a + 2*b - 1)**2)/(3*(-1/2 + sqrt(3)*I/2)*(-1350*a*b + sqrt((-2700*a*b + 2*(2*a + 2*b - 1)**3 - (18*a + 18*b - 9)*(a**2 + 2*a*b - a + b**2 - 101*b))**2 - 4*(-3*a**2 - 6*a*b + 3*a - 3*b**2 + 303*b + (2*a + 2*b - 1)**2)**3)/2 + (2*a + 2*b - 1)**3 - (18*a + 18*b - 9)*(a**2 + 2*a*b - a + b**2 - 101*b)/2)**(1/3)), -2*a/3 - 2*b/3 - (-1350*a*b + sqrt((-2700*a*b + 2*(2*a + 2*b - 1)**3 - (18*a + 18*b - 9)*(a**2 + 2*a*b - a + b**2 - 101*b))**2 - 4*(-3*a**2 - 6*a*b + 3*a - 3*b**2 + 303*b + (2*a + 2*b - 1)**2)**3)/2 + (2*a + 2*b - 1)**3 - (18*a + 18*b - 9)*(a**2 + 2*a*b - a + b**2 - 101*b)/2)**(1/3)/3 + 1/3 - (-3*a**2 - 6*a*b + 3*a - 3*b**2 + 303*b + (2*a + 2*b - 1)**2)/(3*(-1350*a*b + sqrt((-2700*a*b + 2*(2*a + 2*b - 1)**3 - (18*a + 18*b - 9)*(a**2 + 2*a*b - a + b**2 - 101*b))**2 - 4*(-3*a**2 - 6*a*b + 3*a - 3*b**2 + 303*b + (2*a + 2*b - 1)**2)**3)/2 + (2*a + 2*b - 1)**3 - (18*a + 18*b - 9)*(a**2 + 2*a*b - a + b**2 - 101*b)/2)**(1/3))] a=a; b=b\n"
     ]
    }
   ],
   "source": [
    "a,b,m = sp.symbols('a b m')\n",
    "print(solve(100*(m+a)*b - m*(m+a+b)*(m+a+b-1), m, rational=True), f\"a={a}; b={b}\")\n",
    "        "
   ]
  }
 ],
 "metadata": {
  "kernelspec": {
   "display_name": "Python 3",
   "language": "python",
   "name": "python3"
  },
  "language_info": {
   "codemirror_mode": {
    "name": "ipython",
    "version": 3
   },
   "file_extension": ".py",
   "mimetype": "text/x-python",
   "name": "python",
   "nbconvert_exporter": "python",
   "pygments_lexer": "ipython3",
   "version": "3.11.4"
  }
 },
 "nbformat": 4,
 "nbformat_minor": 2
}
