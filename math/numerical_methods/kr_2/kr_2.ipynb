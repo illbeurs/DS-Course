{
 "cells": [
  {
   "cell_type": "markdown",
   "metadata": {},
   "source": [
    "## Контрольная работа №2  (Вариант 5)\n",
    " <p align: left> © Maxim Blyzen 05-108 </p>"
   ]
  },
  {
   "cell_type": "markdown",
   "metadata": {},
   "source": [
    "### Задание 1: Для $ f(x),x  \\in [a,b] $ построить интерполяционный сплайн первой степени по следующим узлам:\n",
    "##### 1)  $ x_ {k} = a + k \\frac {b-a}{4} $, k = $ \\overline{0, 4}$\n",
    "\n"
   ]
  },
  {
   "cell_type": "code",
   "execution_count": 1,
   "metadata": {},
   "outputs": [],
   "source": [
    "import sympy as sp # библиотека символьных вычислений  "
   ]
  },
  {
   "cell_type": "markdown",
   "metadata": {},
   "source": [
    "##### Определим отрезок интерполирования $[a,b]$"
   ]
  },
  {
   "cell_type": "code",
   "execution_count": 7,
   "metadata": {},
   "outputs": [
    {
     "name": "stdout",
     "output_type": "stream",
     "text": [
      "Узлы: [-1.0, -0.5, 0.0, 0.5, 1.0]\n"
     ]
    }
   ],
   "source": [
    "a, b = -1, 1\n",
    "nodes = [a + k*(b-a)/4 for k in range(0,5)]\n",
    "print(\"Узлы: {}\".format(nodes))"
   ]
  },
  {
   "cell_type": "markdown",
   "metadata": {},
   "source": [
    "#### Определим целевую функцию "
   ]
  },
  {
   "cell_type": "code",
   "execution_count": 3,
   "metadata": {},
   "outputs": [
    {
     "name": "stdout",
     "output_type": "stream",
     "text": [
      "Целевая функция: \n"
     ]
    },
    {
     "data": {
      "text/latex": [
       "$\\displaystyle e^{\\frac{x}{2}} + \\cosh{\\left(\\frac{x + 1}{2} \\right)}$"
      ],
      "text/plain": [
       "exp(x/2) + cosh((x + 1)/2)"
      ]
     },
     "execution_count": 3,
     "metadata": {},
     "output_type": "execute_result"
    }
   ],
   "source": [
    "def f(x):\n",
    "    func = sp.exp(x/2) + sp.cosh(sp.together((x+1)/2)) \n",
    "    return func\n",
    "x = sp.Symbol('x')\n",
    "print(\"Целевая функция: \")\n",
    "sp.together(f(x))"
   ]
  },
  {
   "cell_type": "markdown",
   "metadata": {},
   "source": [
    "#### Далее определим функции для построения фундаментальных и \n",
    "#### итогового полиномов Лагранжа по формулам: \n",
    "$l_k(x)=\\prod_{j=0, j\\neq k}^{n} \\frac{x-x_j}{x_k-x_j} $ и \n",
    "$L_n(f,x) = \\sum_{k=0}^n f(x_k) l_k(x)$, где n - количество узлов"
   ]
  },
  {
   "cell_type": "code",
   "execution_count": 6,
   "metadata": {},
   "outputs": [],
   "source": [
    "# На вход подаётся список узлов nodes и индекс фундаментального полинома k\n",
    "def l(k):\n",
    "    l_k = 1\n",
    "    for j in range(len(nodes)):\n",
    "        if j==k:\n",
    "            continue\n",
    "        l_k*= (x - nodes[j])/(nodes[k] - nodes[j])\n",
    "    return sp.expand(l_k)\n",
    "# Функция построения интерполяционного полинома Лагранжа по данным узлам и функции\n",
    "def L(func):\n",
    "    return sum([l(nodes, k)* func.subs(x,nodes[k]) for k in range(len(nodes))])"
   ]
  },
  {
   "cell_type": "code",
   "execution_count": null,
   "metadata": {},
   "outputs": [],
   "source": [
    "def S_n_1(x):\n",
    "    for i in range(len(nodes))\n"
   ]
  },
  {
   "cell_type": "markdown",
   "metadata": {},
   "source": [
    "#### Строим $L_5(f,x)$ для первого набора узлов\n",
    "\n"
   ]
  },
  {
   "cell_type": "code",
   "execution_count": 22,
   "metadata": {},
   "outputs": [
    {
     "data": {
      "text/latex": [
       "$\\displaystyle 0.00559867946935588 x^{4} + 0.0321877393170147 x^{3} + 0.265941637938266 x^{2} + 0.760447883584354 x + 2.12762596520638$"
      ],
      "text/plain": [
       "0.00559867946935588*x**4 + 0.0321877393170147*x**3 + 0.265941637938266*x**2 + 0.760447883584354*x + 2.12762596520638"
      ]
     },
     "execution_count": 22,
     "metadata": {},
     "output_type": "execute_result"
    }
   ],
   "source": [
    "L_5 = sp.sympify(L(nodes, f(x)))\n",
    "L_5"
   ]
  },
  {
   "cell_type": "markdown",
   "metadata": {},
   "source": [
    "Теперь сравниваем значения исходной функции и полинома в контрольных точках: <br>\n",
    "$ x^ {(1)} $ = $ -\\frac {5}{8} $ , $ x^ {(2)} = \\frac {5}{7}  $, $ x^ {(3)} = \\frac {2}{7}$ \n"
   ]
  },
  {
   "cell_type": "code",
   "execution_count": 23,
   "metadata": {},
   "outputs": [
    {
     "name": "stdout",
     "output_type": "stream",
     "text": [
      "Разница значений в контрольной точке x_1 = -0.625:  1.98665652160201e-5\n",
      "Разница значений в контрольной точке x_2 = 0.7142857142857143:  -3.94655145656841e-5\n",
      "Разница значений в контрольной точке x_3 = 0.2857142857142857:  1.82252362517232e-5\n"
     ]
    }
   ],
   "source": [
    "# Сравним значения полинома Лагранжа и исходной функции в контрольных точках\n",
    "control_points = [-5/8, 5/7, 2/7]\n",
    "for i, x_i in enumerate(control_points):\n",
    "    print(f\"Разница значений в контрольной точке x_{i+1} = {x_i}: \", sp.sympify(f(x).subs(x,x_i) - L_5.subs(x, x_i)))"
   ]
  },
  {
   "cell_type": "markdown",
   "metadata": {},
   "source": [
    "##### Теперь же дадим оценку общей погрешности приближения для данного набора узлов по формуле <br> $|r_5(x)| \\leq \\dfrac{|f^{(n)}(x)|}{n!} |w_n(x)|$,  где $w_n(x) = (x-x_0)* \\dots *(x-x_n)$. \n",
    "##### Также для получения численной оценки найдем $max_{x \\in [a,b]}|w_n(x)|$\n",
    " *Вообще можно использовать более грубую оценку: $|w_n(x)| \\leq (b-a)^n$ для $x \\in [a,b]$, <br>\n",
    " но в таком случае оценка будет не такой точной.\n"
   ]
  },
  {
   "cell_type": "code",
   "execution_count": 24,
   "metadata": {},
   "outputs": [
    {
     "name": "stdout",
     "output_type": "stream",
     "text": [
      "Общая оценка модуля погрешности на интервале [-1,1]: \n"
     ]
    },
    {
     "data": {
      "text/latex": [
       "$\\displaystyle 8.34545 \\cdot 10^{-5}$"
      ],
      "text/plain": [
       "8.34545e-5"
      ]
     },
     "execution_count": 24,
     "metadata": {},
     "output_type": "execute_result"
    }
   ],
   "source": [
    "def w_n(nodes):\n",
    "    return sp.prod([(x - node) for node in nodes])\n",
    "# функция нахождения оценки погрешности интерполяции на интервале [0,1]\n",
    "def remainder(func, nodes):\n",
    "    ab = sp.Interval(a,b)\n",
    "    max_devir = max(sp.maximum(func.diff(x,5),x, ab),\n",
    "                    sp.minimum(func.diff(x,5),x,ab))\n",
    "    return max_devir/sp.factorial(len(nodes)) * max(sp.maximum(w_n(nodes), x, ab),\n",
    "                                                    sp.minimum(w_n(nodes),x,ab))\n",
    "print(\"Общая оценка модуля погрешности на интервале [-1,1]: \")\n",
    "round(remainder(f(x), nodes),10)"
   ]
  },
  {
   "cell_type": "markdown",
   "metadata": {},
   "source": [
    "***"
   ]
  },
  {
   "cell_type": "markdown",
   "metadata": {},
   "source": [
    "##### Далее построим полином с использованием узлов Чебышева и проделаем такие же оценки \n",
    "##### 2) $ x_{k} = \\frac {b-a}{2} \\cos(\\frac{(2k-1)\\pi }{10}) + \\frac{b+a}{2}$, k = $ \\overline{1, 5}$"
   ]
  },
  {
   "cell_type": "code",
   "execution_count": 25,
   "metadata": {},
   "outputs": [
    {
     "name": "stdout",
     "output_type": "stream",
     "text": [
      "Узлы Чебышева на отрезке [-1,1]: [0.9510565163, 0.5877852523, 0, -0.5877852523, -0.9510565163]\n"
     ]
    }
   ],
   "source": [
    "nodes_ch = [round(sp.sympify((b-a)/2)*sp.cos((2*k-1)*sp.pi/10) + (b+a)/2,10) for k in range(1, 6)]\n",
    "print(f\"Узлы Чебышева на отрезке [-1,1]: {nodes_ch}\")"
   ]
  },
  {
   "cell_type": "code",
   "execution_count": 26,
   "metadata": {},
   "outputs": [
    {
     "data": {
      "text/latex": [
       "$\\displaystyle 0.005598666612 x^{4} + 0.03218759067 x^{3} + 0.265938736 x^{2} + 0.7604229415 x + 2.127625965$"
      ],
      "text/plain": [
       "0.005598666612*x**4 + 0.03218759067*x**3 + 0.265938736*x**2 + 0.7604229415*x + 2.127625965"
      ]
     },
     "execution_count": 26,
     "metadata": {},
     "output_type": "execute_result"
    }
   ],
   "source": [
    "L_5_ch = sp.sympify(L(nodes_ch,f(x)))\n",
    "sp.N(L_5_ch,10)"
   ]
  },
  {
   "cell_type": "code",
   "execution_count": 27,
   "metadata": {},
   "outputs": [
    {
     "name": "stdout",
     "output_type": "stream",
     "text": [
      "Разница значений в контрольной точке x_1 = -0.625:  5.376946055e-6\n",
      "Разница значений в контрольной точке x_2 = 0.7142857142857143:  -2.011165648e-5\n",
      "Разница значений в контрольной точке x_3 = 0.2857142857142857:  2.559199365e-5\n"
     ]
    }
   ],
   "source": [
    "for i, x_i in enumerate(control_points):\n",
    "    print(f\"Разница значений в контрольной точке x_{i+1} = {x_i}: \", sp.N(sp.sympify(f(x_i)) - L_5_ch.subs(x, x_i),10))"
   ]
  },
  {
   "cell_type": "code",
   "execution_count": 28,
   "metadata": {},
   "outputs": [
    {
     "name": "stdout",
     "output_type": "stream",
     "text": [
      "Общая оценка модуля погрешности на интервале [-1,1] для узлов Чебышева: \n"
     ]
    },
    {
     "data": {
      "text/latex": [
       "$\\displaystyle 4.59623 \\cdot 10^{-5}$"
      ],
      "text/plain": [
       "4.59623e-5"
      ]
     },
     "execution_count": 28,
     "metadata": {},
     "output_type": "execute_result"
    }
   ],
   "source": [
    "print(\"Общая оценка модуля погрешности на интервале [-1,1] для узлов Чебышева: \")\n",
    "round(remainder(f(x), nodes_ch),10)"
   ]
  },
  {
   "cell_type": "markdown",
   "metadata": {},
   "source": [
    "Узлы Чебышева показали более точный результат с разницой почти в 2 раза судя по общей оценке погрешности."
   ]
  },
  {
   "cell_type": "markdown",
   "metadata": {},
   "source": [
    "***"
   ]
  },
  {
   "cell_type": "markdown",
   "metadata": {},
   "source": [
    "***"
   ]
  },
  {
   "cell_type": "markdown",
   "metadata": {},
   "source": [
    "### Задание 2: Для $ f(x),x  \\in [a,b] $ построить интерполяционный <br> полином в форме Ньютона по узлам:\n",
    "##### $ x_ {k} = a + k \\frac {b-a}{4} $, k = $ \\overline{0, 4}$\n",
    "##### т.к строим для равноотстоящих узлов, полином будет иметь вид: <br> $L_n(f,a + t*h) = y_1 + t\\Delta y_1 + \\frac{t(t-1)}{2}*\\Delta^2y_1 + \\dots + \\frac{t(t-1)...(t-(n-2))}{(n-1)!}\\Delta^{n-1}y_1$,\n",
    "##### где $\\Delta^{m}y_k = \\sum\\limits_{j=0}^{m}(-1)^j C_m^j \\cdot y_{m+k-j} $"
   ]
  },
  {
   "cell_type": "code",
   "execution_count": 29,
   "metadata": {},
   "outputs": [],
   "source": [
    "t = sp.sympify(2)*x + 2\n",
    "def C(n,k):\n",
    "    return sp.factorial(n)/(sp.factorial(k) * sp.factorial(n-k))\n",
    "def delta_y_k(func, nodes, m):\n",
    "    return sum([((-1)**i * func(nodes[m-i]) * C(m,i)) for i in range(m+1)])\n",
    "def newton_poly(func, nodes):\n",
    "    L_5_newt = sum([\n",
    "        (delta_y_k(func, nodes, k) *\n",
    "        sp.prod([(t - j) for j in range(k)])/sp.factorial(k)) \n",
    "        for k in range(1,len(nodes))])\n",
    "    L_5_newt += func(nodes[0])\n",
    "    return L_5_newt "
   ]
  },
  {
   "cell_type": "code",
   "execution_count": 30,
   "metadata": {},
   "outputs": [
    {
     "name": "stdout",
     "output_type": "stream",
     "text": [
      "Инт. полином в форме Ньютона для набора узлов [-1.0, -0.5, 0.0, 0.5, 1.0]:\n"
     ]
    },
    {
     "data": {
      "text/latex": [
       "$\\displaystyle 0.0055986794693547 x^{4} + 0.032187739317015 x^{3} + 0.265941637938267 x^{2} + 0.760447883584354 x + 2.12762596520638$"
      ],
      "text/plain": [
       "0.0055986794693547*x**4 + 0.032187739317015*x**3 + 0.265941637938267*x**2 + 0.760447883584354*x + 2.12762596520638"
      ]
     },
     "execution_count": 30,
     "metadata": {},
     "output_type": "execute_result"
    }
   ],
   "source": [
    "L_5_newt = sp.expand(newton_poly(f, nodes))\n",
    "print(f\"Инт. полином в форме Ньютона для набора узлов {nodes}:\")\n",
    "L_5_newt"
   ]
  },
  {
   "cell_type": "markdown",
   "metadata": {},
   "source": [
    "Нетрудно заметить, что он почти полностью совпал с интерполяционном полиномом Лагранжа."
   ]
  },
  {
   "cell_type": "markdown",
   "metadata": {},
   "source": [
    "***"
   ]
  },
  {
   "cell_type": "markdown",
   "metadata": {},
   "source": [
    "***"
   ]
  },
  {
   "cell_type": "markdown",
   "metadata": {},
   "source": [
    "### Задание 3: Для $ f(x),x  \\in [a,b] $  построить интерполяционный полином <br> Эрмита-Фейера первым способом по узлам\n",
    "##### $ x_ {k} = a + k \\frac {b-a}{4} $, k = $ \\overline{0, 4}$\n",
    "##### В нашем случае значение N (количество условий - 1) = 9, поэтому полином <br> Эрмита-Фейера будет иметь вид: $H_9(f,x) = L_5(f,x) + w_n(x)* H_4(x)$,<br> где $H_4(x)$ - некоторый полином степени N-n = 9-5 = 4, <br> который находится из оставшихся условий для производных. <br>\n",
    "$H_4(x)$ найдем в виде $ax^4 + bx^3 + cx^2 + dx + e$, решив следующую СЛАУ: <br>\n",
    "$$\\begin{equation*}\n",
    " \\begin{cases}\n",
    "  H_9'(f,x_1) = f'(x_1), \n",
    "   \\\\\n",
    "   H_9'(f,x_2) = f'(x_2),\n",
    "   \\\\\n",
    "   \\quad \\quad \\quad \\mathbf{\\dots}\n",
    "   \\\\\n",
    "   H_9'(f,x_5) = f'(x_5)\n",
    " \\end{cases}\n",
    "\\end{equation*}$$"
   ]
  },
  {
   "cell_type": "markdown",
   "metadata": {},
   "source": [
    "Для начала определим вид неизвестного полинома $h_4(x)$ который будем искать с помощью СЛАУ <br>\n",
    "и общий вид полинома Эрмита Фейера "
   ]
  },
  {
   "cell_type": "code",
   "execution_count": 31,
   "metadata": {},
   "outputs": [],
   "source": [
    "a,b,c,d,e = sp.symbols('a, b, c, d, e')\n",
    "h_4 = a*x**4 + b*x**3 + c*x**2 + d*x + e\n",
    "H_9 = L_5 + w_n(nodes)*h_4"
   ]
  },
  {
   "cell_type": "code",
   "execution_count": 32,
   "metadata": {},
   "outputs": [
    {
     "data": {
      "text/plain": [
       "{a: 8.23362958320000e-9,\n",
       " b: 2.07562942933778e-7,\n",
       " c: 2.36810212029700e-6,\n",
       " d: 4.64307063023652e-5,\n",
       " e: 0.000399076650078545}"
      ]
     },
     "execution_count": 32,
     "metadata": {},
     "output_type": "execute_result"
    }
   ],
   "source": [
    "coeffs = sp.solve([\n",
    "    H_9.diff(x).subs(x,nodes[0]) - f(x).diff(x).subs(x,nodes[0]),\n",
    "    H_9.diff(x).subs(x,nodes[1]) - f(x).diff(x).subs(x,nodes[1]),\n",
    "    H_9.diff(x).subs(x,nodes[2]) - f(x).diff(x).subs(x,nodes[2]),\n",
    "    H_9.diff(x).subs(x,nodes[3]) - f(x).diff(x).subs(x,nodes[3]),\n",
    "    H_9.diff(x).subs(x,nodes[4]) - f(x).diff(x).subs(x,nodes[4]),\n",
    "], (a,b,c,d,e))\n",
    "# Теперь подставим найденные коэффиценты в общий полином\n",
    "H_9_full = sp.expand(H_9.subs(coeffs))\n",
    "coeffs"
   ]
  },
  {
   "cell_type": "markdown",
   "metadata": {},
   "source": [
    "##### Проверим производную построенного полинома на совпадение с производной функции в узловых точках и выведем итоговый полином."
   ]
  },
  {
   "cell_type": "code",
   "execution_count": 33,
   "metadata": {},
   "outputs": [
    {
     "name": "stdout",
     "output_type": "stream",
     "text": [
      "Значение производной функции в узле -1.0: 0.303265329856317\n",
      "Значение производной полинома Э-Ф в узле -1.0: 0.303265329856317\n",
      "\n",
      "Значение производной функции в узле -0.5: 0.515706549939787\n",
      "Значение производной полинома Э-Ф в узле -0.5: 0.515706549939787\n",
      "\n",
      "Значение производной функции в узле 0.0: 0.760547652746874\n",
      "Значение производной полинома Э-Ф в узле 0.0: 0.760547652746874\n",
      "\n",
      "Значение производной функции в узле 0.5: 1.05317107431179\n",
      "Значение производной полинома Э-Ф в узле 0.5: 1.05317107431179\n",
      "\n",
      "Значение производной функции в узле 1.0: 1.41196123217196\n",
      "Значение производной полинома Э-Ф в узле 1.0: 1.41196123217196\n",
      "\n"
     ]
    },
    {
     "data": {
      "text/latex": [
       "$\\displaystyle 8.233629583 \\cdot 10^{-9} x^{9} + 2.075629429 \\cdot 10^{-7} x^{8} + 2.357810083 \\cdot 10^{-6} x^{7} + 4.617125262 \\cdot 10^{-5} x^{6} + 0.0003961185808 x^{5} + 0.005540692977 x^{4} + 0.03168948553 x^{3} + 0.2659532456 x^{2} + 0.7605476527 x + 2.127625965$"
      ],
      "text/plain": [
       "8.233629583e-9*x**9 + 2.075629429e-7*x**8 + 2.357810083e-6*x**7 + 4.617125262e-5*x**6 + 0.0003961185808*x**5 + 0.005540692977*x**4 + 0.03168948553*x**3 + 0.2659532456*x**2 + 0.7605476527*x + 2.127625965"
      ]
     },
     "execution_count": 33,
     "metadata": {},
     "output_type": "execute_result"
    }
   ],
   "source": [
    "for node in nodes:\n",
    "    print(f\"Значение производной функции в узле {node}: {f(x).diff(x).subs(x,node)}\")\n",
    "    print(f\"Значение производной полинома Э-Ф в узле {node}: {H_9_full.diff(x).subs(x,node)}\")\n",
    "    print()\n",
    "sp.N(H_9_full,10) # Итоговый полином Эрмита-Фейера"
   ]
  }
 ],
 "metadata": {
  "kernelspec": {
   "display_name": "Python 3",
   "language": "python",
   "name": "python3"
  },
  "language_info": {
   "codemirror_mode": {
    "name": "ipython",
    "version": 3
   },
   "file_extension": ".py",
   "mimetype": "text/x-python",
   "name": "python",
   "nbconvert_exporter": "python",
   "pygments_lexer": "ipython3",
   "version": "3.11.4"
  }
 },
 "nbformat": 4,
 "nbformat_minor": 2
}
